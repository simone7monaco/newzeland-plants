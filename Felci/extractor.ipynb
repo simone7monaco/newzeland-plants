{
 "cells": [
  {
   "cell_type": "code",
   "execution_count": 2,
   "metadata": {},
   "outputs": [],
   "source": [
    "import re\n",
    "\n",
    "# from PyPDF2 import PdfReader\n",
    "import pandas as pd\n",
    "import numpy as np\n",
    "# fern_species = pd.read_excel(\"Species list.xlsx\")\n"
   ]
  },
  {
   "cell_type": "markdown",
   "metadata": {},
   "source": [
    "## Extract PDF"
   ]
  },
  {
   "cell_type": "code",
   "execution_count": 47,
   "metadata": {},
   "outputs": [
    {
     "data": {
      "application/vnd.jupyter.widget-view+json": {
       "model_id": "69956738f5c44eb6a207e493883f74c6",
       "version_major": 2,
       "version_minor": 0
      },
      "text/plain": [
       "  0%|          | 0/32 [00:00<?, ?it/s]"
      ]
     },
     "metadata": {},
     "output_type": "display_data"
    }
   ],
   "source": [
    "from tqdm.auto import tqdm\n",
    "\n",
    "conditional_newline = lambda sp: '\\s*\\n?'.join(sp.split(' ')).replace('.', '\\.').replace('(', '\\(').replace(')', '\\)').replace('[', '\\[').replace(']', '\\]')\n",
    "sp_descriptions = pd.DataFrame()\n",
    "for fam in tqdm(fern_species.Family.unique()):\n",
    "    text = \"\"\n",
    "    with open(f\"descriptions/{fam}.pdf\", \"rb\") as pdf_file:\n",
    "        read_pdf = PdfReader(pdf_file)\n",
    "        for i, page in enumerate(read_pdf.pages):\n",
    "            if i < 5:\n",
    "                continue\n",
    "            tx = page.extract_text()\n",
    "            if tx.split(\"\\n\")[0].startswith('References'):\n",
    "                # print(f\"Breaking at page {i}\")\n",
    "                break\n",
    "            text += page.extract_text()\n",
    "    text = re.sub(r'[^\\S\\r\\n]+', ' ', text)\n",
    "\n",
    "    fam_species = fern_species[fern_species.Family.eq(fam)].Species.unique()\n",
    "    sp_dict = {}\n",
    "    for i, species in enumerate(fam_species):\n",
    "        species = species\n",
    "        if (cnt := len(re.findall(conditional_newline(species), text))) == 0:\n",
    "            print(f\"{fam} | {species} wrongly appearing (count: {cnt})\")\n",
    "            foo\n",
    "        # start = text.find(species)\n",
    "        # start is the first character of the species name assuming to find it in the text\n",
    "        # with potentially some '\\n' characters in between\n",
    "        start = re.search(conditional_newline(species), text).start()\n",
    "        end = [re.search(conditional_newline(sp), text).start() for sp in fam_species]\n",
    "        end = min([e for e in end if e and e > start] + [len(text)])\n",
    "        name_sp = species.split(')')[0] + ')'\n",
    "        if name_sp not in sp_dict.keys():\n",
    "            sp_dict[name_sp] = text[start:end]\n",
    "        else:\n",
    "            sp_dict[name_sp] += '\\n' + text[start:end]\n",
    "\n",
    "    sp_descriptions = pd.concat([sp_descriptions, pd.DataFrame(sp_dict.items(), columns=['Species', 'Description']).assign(Family=fam)], ignore_index=True)\n",
    "\n",
    "\n",
    "def desc_to_sections(desc):\n",
    "    \"\"\"\n",
    "    Split the description into sections:\n",
    "    \"Etymology\", \"Vernacular name\", \"Distribution\", \"Altitudinal range\", \"Biostatus\", \"Habitat\", \"First record \", \"Recognition \", \"Cytology\", \"Hybridisation\", \"Notes \"\n",
    "    not all the sections will be present in all descriptions, if present, they start with the section name followed by a colon, up to the next named section or the end of the description\n",
    "    \"\"\"\n",
    "    sections = [\"Etymology\", \"Vernacular name\", \"Distribution\", \"Altitudinal range\", \"Biostatus\", \"Habitat\", \"First record\", \"Recognition\", \"Cytology\", \"Hybridisation\", \"Notes\"]\n",
    "    section_dict = {}\n",
    "    for i, section in enumerate(sections):\n",
    "        if i == len(sections) - 1:\n",
    "            section_dict[section] = desc\n",
    "        else:\n",
    "            start = re.search(fr\"{section}s?:\", desc)\n",
    "            start = start.end() if start else -1\n",
    "            if start == -1:\n",
    "                continue\n",
    "            end = re.search(fr\"{sections[i+1]}s?:\", desc)\n",
    "            end = end.start() if end else -1\n",
    "\n",
    "            this_desc = desc[start:end].strip()\n",
    "\n",
    "            section_dict[section] = re.sub(r'\\n+', ' ', this_desc.strip())\n",
    "    return pd.Series(section_dict)\n",
    "\n",
    "extra = sp_descriptions.Description.apply(desc_to_sections)  \n",
    "sp_descriptions = pd.concat([sp_descriptions, extra], axis=1).drop(columns='Description')"
   ]
  },
  {
   "cell_type": "code",
   "execution_count": 50,
   "metadata": {},
   "outputs": [],
   "source": [
    "sp_descriptions.to_excel(\"fern_descriptions.xlsx\", index=False)"
   ]
  },
  {
   "cell_type": "markdown",
   "metadata": {},
   "source": [
    "# Extract features"
   ]
  },
  {
   "cell_type": "code",
   "execution_count": 3,
   "metadata": {},
   "outputs": [],
   "source": [
    "sp_descriptions = pd.read_excel(\"fern_descriptions.xlsx\").set_index('Species')"
   ]
  },
  {
   "cell_type": "code",
   "execution_count": 140,
   "metadata": {},
   "outputs": [],
   "source": [
    "extra_features_df = pd.read_excel(\"../Words before and after traits_v2.xlsx\", sheet_name=\"FernPrecedingWords\")\n",
    "extra_features_df = extra_features_df.drop(columns=[c for c in extra_features_df.columns if 'Unnamed' in c])\n",
    "extra_features_df = extra_features_df[\n",
    "    :extra_features_df[extra_features_df.Rhizome.str.startswith('Sentences that talk a', na=False)].index[0]\n",
    "    ].map(lambda s:s.lower().strip() if type(s) == str else s)\n",
    "\n",
    "extra_features = extra_features_df.to_dict('list')\n",
    "extra_features = {k.title().replace(' ', ''): [x for x in v if str(x) != 'nan'] for k, v in extra_features.items()}"
   ]
  },
  {
   "cell_type": "code",
   "execution_count": 137,
   "metadata": {},
   "outputs": [
    {
     "data": {
      "text/plain": [
       "{'Rhizome': ['Rhizome', 'Rhizomes', 'Stem', 'Stems'],\n",
       " 'Frond': ['Fronds', 'Frond', 'Leaf', 'Leaves'],\n",
       " 'FertileFronds': ['Fertile'],\n",
       " 'SterileFronds': ['Sterile'],\n",
       " 'Stipe': ['Stipe', 'Stipes'],\n",
       " 'Rachis': ['Rachis', 'Rachises'],\n",
       " 'Laminae': ['Laminae', 'Lamina'],\n",
       " 'Sori': ['Sori', 'Sorus'],\n",
       " 'Spores': ['Spores', 'Spore'],\n",
       " 'Sporangia': ['Sporangia', 'Sporangium', 'Synangia', 'Synangium'],\n",
       " 'Habitat': ['Aquatic',\n",
       "  'Epiphytic',\n",
       "  'Creeping',\n",
       "  'Climbing',\n",
       "  'Climber',\n",
       "  'Climbers',\n",
       "  'Creeper',\n",
       "  'Creepers',\n",
       "  'Terrestrial',\n",
       "  'Lithophytic'],\n",
       " 'Indusia': ['Indusia', 'Indusium'],\n",
       " 'Habit': ['Creeping, Terrestrial, Both'],\n",
       " 'Biostatus': ['Indigenous',\n",
       "  'Native',\n",
       "  'Exotic',\n",
       "  'Endemic',\n",
       "  'Non-Endemic',\n",
       "  'Casual',\n",
       "  'Fully Naturalized']}"
      ]
     },
     "execution_count": 137,
     "metadata": {},
     "output_type": "execute_result"
    }
   ],
   "source": [
    "extra_features"
   ]
  },
  {
   "cell_type": "code",
   "execution_count": 5,
   "metadata": {},
   "outputs": [],
   "source": [
    "unit = '[m|c|d|μ]?m'\n",
    "number = r\"(\\d+\\.?\\d*)\"\n",
    "full_regex = rf\"(({number}\\s?-\\s?)?{number})?({number}\\s?-\\s?)?{number}\\s*{unit}(-wide)?(-long)?\""
   ]
  },
  {
   "cell_type": "code",
   "execution_count": null,
   "metadata": {},
   "outputs": [],
   "source": [
    "feat = \"Primary pinnae in 8-44 pairs on fertile fronds, 3-27 pairs on sterile fronds, widely spaced especially proximally, flabellate; the longest at or below the middle, sessile or short-stalked, 3-13mm-long, 2-9mm-wide (the sterile slightly larger than the fertile); outer margin entire or shallowly lobed on fertile pinnae, crenate on sterile fronds.\"\n",
    "for key, values in set(extra_features.items()).difference(('Habit', 'Venation', 'Biostatus', 'Habitat')):\n",
    "    matched_word = list(re.finditer( r'\\b('+ '|'.join([w for w in set(values)]) + r')\\b', feat.lower()))[0]\n",
    "    if any(matched_word):\n",
    "        candidate_feat[key] = matched_word\n",
    "if any(candidate_feat):\n",
    "# feat is the first appearing candidate_feat\n",
    "    key = sorted(candidate_feat, key=lambda x: candidate_feat[x].start())[0]"
   ]
  },
  {
   "cell_type": "code",
   "execution_count": 201,
   "metadata": {},
   "outputs": [],
   "source": [
    "tmp = []\n",
    "anomalies = set() # species with anomalies\n",
    "\n",
    "def extract_features(i, feats:list):\n",
    "\tfeatures = {}\n",
    "\tfor feat in feats:\n",
    "\t\tif len(feat) < 1:\n",
    "\t\t\tcontinue\n",
    "\t\tfeat = feat.replace(',', ' ')\n",
    "\t\tfeat = feat[:-1] if feat[-1] in ['.', ';'] else feat # remove any of .; at the end of the sentence\n",
    "\n",
    "\t\tcandidate_feat = {}\n",
    "\t\tfor key, values in set(extra_features.items()).difference(('Habit', 'Venation', 'Biostatus', 'Habitat')):\n",
    "\t\t\tmatched_word = list(re.finditer( r'\\b('+ '|'.join([w for w in set(values)]) + r')\\b', feat.lower()))[0]\n",
    "\t\t\tif any(matched_word):\n",
    "\t\t\t\tcandidate_feat[key] = matched_word\n",
    "\t\tif any(candidate_feat):\n",
    "\t\t\t# feat is the first appearing candidate_feat\n",
    "\t\t\tkey = sorted(candidate_feat, key=lambda x: candidate_feat[x].start())[0]\n",
    "\t\telse:\n",
    "\t\t\tcontinue\n",
    "\n",
    "\t\tmeasures = re.finditer(full_regex, feat)\n",
    "\t\tfor measure in measures:\n",
    "\t\t\t# found = None\n",
    "\t\t\t\t\n",
    "\t\t\t\t# matched word only if it's the first of the sentence or if it has a '; ' before it\n",
    "\t\t\t\tif any(matched_word): # and (matched_word[0].start() == 0 or feat[matched_word[0].start()-2:matched_word[0].start()] == '; '):\n",
    "\t\t\t\t\t# \tassert 'Habit' not in features.keys() or len(features['Habit']) == 0, f\"{features['Habit']}, feat: {feat}\"\n",
    "\t\t\t\t\t# \tfeatures['Habit'] = [x for x in extra_features['Habit'] if x.lower() in feat.lower()]\n",
    "\t\t\t\t# \"*Secondary* pinnae decreasing very gradually in length along each ~primary~ pinna to the distal end...\" is supposed to be Secondary\n",
    "\t\t\t\t\tif key == 'Laminae' and 'primary' in feat.lower() and len(features.get('Laminae', [])) >= 2:\n",
    "\t\t\t\t\t\tcontinue\n",
    "\t\t\t\t\tif key == 'PrimaryPinnae' and 'secondary' in feat.lower() and len(features.get('PrimaryPinnae', [])) >= 2:\n",
    "\t\t\t\t\t\tcontinue\n",
    "\t\t\t\t\tmatched_word = [w for w in matched_word if w.span()[0] < measure.span()[0]]\n",
    "\t\t\t\t\tif not any(matched_word):\n",
    "\t\t\t\t\t\tcontinue\n",
    "\n",
    "\t\t\t\t\tmatched_word = sorted(matched_word, key=lambda word: word.span()[1] - measure.span()[0])[0]\n",
    "\t\t\t\t\tthis_distance = abs(matched_word.span()[1] - measure.span()[0])\n",
    "\t\t\t\t\t# this_distance = abs(word_match_position - measure_position)\n",
    "\n",
    "\t\t\t\t\t# if key in ['Stipe', 'Laminae', 'Rhizome']:\n",
    "\t\t\t\t\thair_or_scale_position = list(re.finditer(r'(hair|scale)', feat.lower()))\n",
    "\t\t\t\t\t# C1: Se nella frase dello stipe trovi le keyword \"hair\", \"hairs\", \"scale\", \"scales\", i valori dopo queste keyword vanno ignorati.\n",
    "\t\t\t\t\tif any(hair_or_scale_position) and hair_or_scale_position[0].start() < measure.start():\n",
    "\t\t\t\t\t\tcontinue\n",
    "\n",
    "\t\t\t\t\tif found:\n",
    "\t\t\t\t\t\tif this_distance >= found[1]:\n",
    "\t\t\t\t\t\t\tcontinue\n",
    "\t\t\t\t\t\tfeatures[found[0]].remove(found[2])\n",
    "\t\t\t\t\t\tanomalies.add(i)\n",
    "\n",
    "\t\t\t\t\tfound = (key, this_distance, measure.group())\n",
    "\t\t\t\t\tif key == 'Rhizome':\n",
    "\t\t\t\t\t\tprint(measure.group(), '|', found, '|', feat)\n",
    "\t\t\t\t\tif key in features:\n",
    "\t\t\t\t\t\tfeatures[key].append(measure.group())\n",
    "\t\t\t\t\telse:\n",
    "\t\t\t\t\t\tfeatures[key] = [measure.group()]\n",
    "\treturn pd.Series(features)\n",
    "\n"
   ]
  },
  {
   "cell_type": "code",
   "execution_count": null,
   "metadata": {},
   "outputs": [],
   "source": [
    "tmp = []\n",
    "anomalies = set() # species with anomalies\n",
    "\n",
    "def extract_features(i, feats:list):\n",
    "\tfeatures = {}\n",
    "\tfor feat in feats:\n",
    "\t\tif len(feat) < 1:\n",
    "\t\t\tcontinue\n",
    "\t\tfeat = feat.replace(',', ' ')\n",
    "\t\tmeasures = re.finditer(full_regex, feat)\n",
    "\t\tfor measure in measures:\n",
    "\t\t\tfound = None\n",
    "\t\t\tfor key, values in extra_features.items():\n",
    "\t\t\t\tif key in features.keys() and len(features[key]) > 0:\n",
    "\t\t\t\t\tcontinue\n",
    "\t\t\t\tif key in ('Habit', 'Venation', 'Biostatus', 'Habitat'):\n",
    "\t\t\t\t\tcontinue\n",
    "\n",
    "\t\t\t\tfeat = feat[:-1] if feat[-1] in ['.', ';'] else feat # remove any of .; at the end of the sentence\n",
    "\t\t\t\tmatched_word = list(re.finditer( r'\\b('+ '|'.join([w for w in set(values)]) + r')\\b', feat.lower()))\n",
    "\t\t\t\t\n",
    "\t\t\t\t# matched word only if it's the first of the sentence or if it has a '; ' before it\n",
    "\t\t\t\tif any(matched_word): # and (matched_word[0].start() == 0 or feat[matched_word[0].start()-2:matched_word[0].start()] == '; '):\n",
    "\t\t\t\t\t# \tassert 'Habit' not in features.keys() or len(features['Habit']) == 0, f\"{features['Habit']}, feat: {feat}\"\n",
    "\t\t\t\t\t# \tfeatures['Habit'] = [x for x in extra_features['Habit'] if x.lower() in feat.lower()]\n",
    "\t\t\t\t# \"*Secondary* pinnae decreasing very gradually in length along each ~primary~ pinna to the distal end...\" is supposed to be Secondary\n",
    "\t\t\t\t\tif key == 'Laminae' and 'primary' in feat.lower() and len(features.get('Laminae', [])) >= 2:\n",
    "\t\t\t\t\t\tcontinue\n",
    "\t\t\t\t\tif key == 'PrimaryPinnae' and 'secondary' in feat.lower() and len(features.get('PrimaryPinnae', [])) >= 2:\n",
    "\t\t\t\t\t\tcontinue\n",
    "\t\t\t\t\tmatched_word = [w for w in matched_word if w.span()[0] < measure.span()[0]]\n",
    "\t\t\t\t\tif not any(matched_word):\n",
    "\t\t\t\t\t\tcontinue\n",
    "\n",
    "\t\t\t\t\tmatched_word = sorted(matched_word, key=lambda word: word.span()[1] - measure.span()[0])[0]\n",
    "\t\t\t\t\tthis_distance = abs(matched_word.span()[1] - measure.span()[0])\n",
    "\t\t\t\t\t# this_distance = abs(word_match_position - measure_position)\n",
    "\n",
    "\t\t\t\t\t# if key in ['Stipe', 'Laminae', 'Rhizome']:\n",
    "\t\t\t\t\thair_or_scale_position = list(re.finditer(r'(hair|scale)', feat.lower()))\n",
    "\t\t\t\t\t# C1: Se nella frase dello stipe trovi le keyword \"hair\", \"hairs\", \"scale\", \"scales\", i valori dopo queste keyword vanno ignorati.\n",
    "\t\t\t\t\tif any(hair_or_scale_position) and hair_or_scale_position[0].start() < measure.start():\n",
    "\t\t\t\t\t\tcontinue\n",
    "\n",
    "\t\t\t\t\tif found:\n",
    "\t\t\t\t\t\tif this_distance >= found[1]:\n",
    "\t\t\t\t\t\t\tcontinue\n",
    "\t\t\t\t\t\tfeatures[found[0]].remove(found[2])\n",
    "\t\t\t\t\t\tanomalies.add(i)\n",
    "\n",
    "\t\t\t\t\tfound = (key, this_distance, measure.group())\n",
    "\t\t\t\t\tif key == 'Rhizome':\n",
    "\t\t\t\t\t\tprint(measure.group(), '|', found, '|', feat)\n",
    "\t\t\t\t\tif key in features:\n",
    "\t\t\t\t\t\tfeatures[key].append(measure.group())\n",
    "\t\t\t\t\telse:\n",
    "\t\t\t\t\t\tfeatures[key] = [measure.group()]\n",
    "\treturn pd.Series(features)\n",
    "\n"
   ]
  },
  {
   "cell_type": "code",
   "execution_count": 202,
   "metadata": {},
   "outputs": [],
   "source": [
    "def string_preprocessing(s):\n",
    "\ts = s.replace('\\xa0', ' ').replace('×', 'x').replace('–', '-').replace('·', '.') # remove non-breaking space and replace multiplication sign with x\n",
    "\ts = re.sub(r'(?<=xcluding)\\s+[\\w-]+', ' ', s) # remove each word following \"excluding\" (Mericarps (excluding style) 2.5-3.0 mm should point to \"Mericarps\")\n",
    "\ts = re.sub(fr'-?\\(-?{number}-?\\)-?', '', s) # remove all parentesis surrounding a number and the number inside (e.g. (-1.5) --> **)\n",
    "\t# s = s.replace('--', '-').replace('-.', '-').replace('..', '.')\n",
    "\t# s = s.replace('(', '').replace(')', '')\n",
    "\t# s = re.sub(r'\\s(c|ca|o)\\.', ' foo ', s) # remove all ' c.'\n",
    "\ts = re.sub(rf'(?<=\\d)\\s+(?={unit})', '', s) # remove all spaces before measures (mm, cm, dm, m, these strings only if padded by a space)\n",
    "\ts = re.sub('m long;?', 'm-long', s) # remove space between measure and \"long\" (e.g. 2 mm long --> 2 mm-long)\n",
    "\ts = re.sub('m wide;?', 'm-wide', s) # remove space between measure and \"wide\" (e.g. 2 mm wide --> 2 mm-wide)\n",
    "\ts = re.sub(r'\\s*-\\s*', '-', s) # remove spaces around hyphens\n",
    "\ts = re.sub(r'(?<=\\d)\\s*\\.(?=\\d)', '.', s) # remove spaces before dot if followed and preceded by a number\n",
    "\ts = re.sub(r'(?<=\\s)\\.(?=\\d)', '0.', s) # add a 0 before a dot if it is preceded by a space and a \"not number\" and followed by a number (e.g. foo .5 --> foo 0.5)\n",
    "\t# s = re.sub(r'(?<=[\\dm])\\s*x\\s*(?=\\d+)', 'x', s) # remove spaces around x in formulas\n",
    "\ts = re.sub(rf'(;\\s*)({full_regex})', r' \\2', s) # point to any ';' preceding a measure (full_regex) and remove it, without removing the measure\n",
    "\treturn s"
   ]
  },
  {
   "cell_type": "code",
   "execution_count": 147,
   "metadata": {},
   "outputs": [],
   "source": [
    "features = sp_descriptions.Etymology.fillna('') + ' ' + sp_descriptions['Vernacular name'].fillna('')\n",
    "# delimiter any of '. ', '.\\n' and similar (all the dots not followed by numbers and not preceded by ' c', enforced with a negative lookbehind)\n",
    "delimiter = r'(?<! c)\\.(?!\\d)'\n",
    "features = features.apply(string_preprocessing).str.split(delimiter).reset_index().apply(lambda x: extract_features(x.Species, x[0]), axis=1)\n",
    "features = features.map(lambda x: '; '.join(x) if not isinstance(x, float) else x)\n",
    "features.index = sp_descriptions.index\n",
    "features = features[features.notna().sum(axis=1) > 0].join(sp_descriptions.Family).map(lambda x: x if x != '' else np.nan)\n",
    "\n",
    "features['Biostatus'] = sp_descriptions.Biostatus.apply(lambda s: [x for x in extra_features['Biostatus'] if x.lower() in s.lower() and not ('non-' in s.lower() and x=='endemic')])\n",
    "features['Habitat'] = sp_descriptions.Habitat\n",
    "features.to_csv('processed_features_fern.csv')"
   ]
  },
  {
   "cell_type": "code",
   "execution_count": 148,
   "metadata": {},
   "outputs": [
    {
     "data": {
      "text/plain": [
       "<matplotlib.lines.Line2D at 0x7fdc0ac2f550>"
      ]
     },
     "execution_count": 148,
     "metadata": {},
     "output_type": "execute_result"
    },
    {
     "data": {
      "image/png": "[encoded data removed]",
      "text/plain": [
       "<Figure size 1000x500 with 1 Axes>"
      ]
     },
     "metadata": {},
     "output_type": "display_data"
    }
   ],
   "source": [
    "import matplotlib.pyplot as plt\n",
    "fig, ax = plt.subplots(figsize=(10, 5))\n",
    "(features.notna().sum()/features.shape[0]).sort_values(ascending=False).plot(kind='barh', figsize=(10, 5), title='Missing values in the features')\n",
    "ax.axvline(0.25, color='r', linestyle='--')"
   ]
  },
  {
   "cell_type": "code",
   "execution_count": 161,
   "metadata": {},
   "outputs": [],
   "source": [
    "tmp = sp_descriptions.loc[['Lindsaea linearis Sw., J. Bot. (Schrader)'], :]\n",
    "f = tmp.Etymology.fillna('') + ' ' + tmp['Vernacular name'].fillna('')\n",
    "# delimiter any of '. ', '.\\n' and similar (all the dots not followed by numbers and not preceded by ' c', enforced with a negative lookbehind)\n",
    "\n",
    "f = f.apply(string_preprocessing).str.split(delimiter).reset_index().apply(lambda x: extract_features(x.Species, x[0]), axis=1)"
   ]
  },
  {
   "cell_type": "code",
   "execution_count": 162,
   "metadata": {},
   "outputs": [
    {
     "data": {
      "text/html": [
       "<div>\n",
       "<style scoped>\n",
       "    .dataframe tbody tr th:only-of-type {\n",
       "        vertical-align: middle;\n",
       "    }\n",
       "\n",
       "    .dataframe tbody tr th {\n",
       "        vertical-align: top;\n",
       "    }\n",
       "\n",
       "    .dataframe thead th {\n",
       "        text-align: right;\n",
       "    }\n",
       "</style>\n",
       "<table border=\"1\" class=\"dataframe\">\n",
       "  <thead>\n",
       "    <tr style=\"text-align: right;\">\n",
       "      <th></th>\n",
       "      <th>Rhizome</th>\n",
       "      <th>Habitat</th>\n",
       "      <th>Stipe</th>\n",
       "      <th>Frond</th>\n",
       "      <th>FertileFronds</th>\n",
       "      <th>SterileFronds</th>\n",
       "      <th>Rachis</th>\n",
       "      <th>Laminae</th>\n",
       "      <th>Sori</th>\n",
       "      <th>Indusia</th>\n",
       "    </tr>\n",
       "  </thead>\n",
       "  <tbody>\n",
       "    <tr>\n",
       "      <th>0</th>\n",
       "      <td>[]</td>\n",
       "      <td>[100mm-long, 0.8-1.7mm]</td>\n",
       "      <td>[1-9mm, 50-390mm-long]</td>\n",
       "      <td>[10-150mm-long, 12-380mm-long]</td>\n",
       "      <td>[50-500mm, 700mm-long]</td>\n",
       "      <td>[20-420mm-long, 0.3mm-long, 5-24mm-wide, 0.4mm...</td>\n",
       "      <td>[0.4mm-long]</td>\n",
       "      <td>[20-370mm-long]</td>\n",
       "      <td>[]</td>\n",
       "      <td>[3-12mm, 4m]</td>\n",
       "    </tr>\n",
       "  </tbody>\n",
       "</table>\n",
       "</div>"
      ],
      "text/plain": [
       "  Rhizome                  Habitat                   Stipe  \\\n",
       "0      []  [100mm-long, 0.8-1.7mm]  [1-9mm, 50-390mm-long]   \n",
       "\n",
       "                            Frond           FertileFronds  \\\n",
       "0  [10-150mm-long, 12-380mm-long]  [50-500mm, 700mm-long]   \n",
       "\n",
       "                                       SterileFronds        Rachis  \\\n",
       "0  [20-420mm-long, 0.3mm-long, 5-24mm-wide, 0.4mm...  [0.4mm-long]   \n",
       "\n",
       "           Laminae Sori       Indusia  \n",
       "0  [20-370mm-long]   []  [3-12mm, 4m]  "
      ]
     },
     "execution_count": 162,
     "metadata": {},
     "output_type": "execute_result"
    }
   ],
   "source": [
    "f"
   ]
  },
  {
   "cell_type": "code",
   "execution_count": 177,
   "metadata": {},
   "outputs": [
    {
     "data": {
      "text/plain": [
       "[]"
      ]
     },
     "execution_count": 177,
     "metadata": {},
     "output_type": "execute_result"
    }
   ],
   "source": [
    "tmp"
   ]
  },
  {
   "cell_type": "code",
   "execution_count": 203,
   "metadata": {},
   "outputs": [
    {
     "name": "stdout",
     "output_type": "stream",
     "text": [
      "100mm-long | ('Rhizome', 31, '100mm-long') |  Rhizomes short-to long-creeping  up to 100mm-long (in herbarium specimens)  0.8-1.7mm in diameter  with stipes arising 1-9mm apart; bearing scales\n"
     ]
    },
    {
     "data": {
      "text/html": [
       "<div>\n",
       "<style scoped>\n",
       "    .dataframe tbody tr th:only-of-type {\n",
       "        vertical-align: middle;\n",
       "    }\n",
       "\n",
       "    .dataframe tbody tr th {\n",
       "        vertical-align: top;\n",
       "    }\n",
       "\n",
       "    .dataframe thead th {\n",
       "        text-align: right;\n",
       "    }\n",
       "</style>\n",
       "<table border=\"1\" class=\"dataframe\">\n",
       "  <thead>\n",
       "    <tr style=\"text-align: right;\">\n",
       "      <th></th>\n",
       "      <th>Rhizome</th>\n",
       "      <th>Stipe</th>\n",
       "      <th>Frond</th>\n",
       "      <th>FertileFronds</th>\n",
       "      <th>SterileFronds</th>\n",
       "      <th>Laminae</th>\n",
       "      <th>Sori</th>\n",
       "      <th>Indusia</th>\n",
       "    </tr>\n",
       "  </thead>\n",
       "  <tbody>\n",
       "    <tr>\n",
       "      <th>0</th>\n",
       "      <td>[100mm-long]</td>\n",
       "      <td>[1-9mm]</td>\n",
       "      <td>[700mm-long]</td>\n",
       "      <td>[50-500mm]</td>\n",
       "      <td>[20-420mm-long]</td>\n",
       "      <td>[20-370mm-long]</td>\n",
       "      <td>[]</td>\n",
       "      <td>[3-12mm]</td>\n",
       "    </tr>\n",
       "  </tbody>\n",
       "</table>\n",
       "</div>"
      ],
      "text/plain": [
       "        Rhizome    Stipe         Frond FertileFronds    SterileFronds  \\\n",
       "0  [100mm-long]  [1-9mm]  [700mm-long]    [50-500mm]  [20-420mm-long]   \n",
       "\n",
       "           Laminae Sori   Indusia  \n",
       "0  [20-370mm-long]   []  [3-12mm]  "
      ]
     },
     "execution_count": 203,
     "metadata": {},
     "output_type": "execute_result"
    }
   ],
   "source": [
    "tm = sp_descriptions.loc[['Lindsaea linearis Sw., J. Bot. (Schrader)'], :]\n",
    "t = (tm.Etymology.fillna('') + ' ' + tm['Vernacular name'].fillna('')).apply(string_preprocessing)\n",
    "t.str.split(delimiter).reset_index().apply(lambda x: extract_features(x.Species, x[0]), axis=1)"
   ]
  },
  {
   "cell_type": "code",
   "execution_count": 160,
   "metadata": {},
   "outputs": [
    {
     "data": {
      "text/html": [
       "<div>\n",
       "<style scoped>\n",
       "    .dataframe tbody tr th:only-of-type {\n",
       "        vertical-align: middle;\n",
       "    }\n",
       "\n",
       "    .dataframe tbody tr th {\n",
       "        vertical-align: top;\n",
       "    }\n",
       "\n",
       "    .dataframe thead th {\n",
       "        text-align: right;\n",
       "    }\n",
       "</style>\n",
       "<table border=\"1\" class=\"dataframe\">\n",
       "  <thead>\n",
       "    <tr style=\"text-align: right;\">\n",
       "      <th></th>\n",
       "      <th>Family</th>\n",
       "      <th>Etymology</th>\n",
       "      <th>Distribution</th>\n",
       "      <th>Altitudinal range</th>\n",
       "      <th>Biostatus</th>\n",
       "      <th>Habitat</th>\n",
       "      <th>First record</th>\n",
       "      <th>Recognition</th>\n",
       "      <th>Notes</th>\n",
       "      <th>Vernacular name</th>\n",
       "      <th>Cytology</th>\n",
       "      <th>Hybridisation</th>\n",
       "    </tr>\n",
       "    <tr>\n",
       "      <th>Species</th>\n",
       "      <th></th>\n",
       "      <th></th>\n",
       "      <th></th>\n",
       "      <th></th>\n",
       "      <th></th>\n",
       "      <th></th>\n",
       "      <th></th>\n",
       "      <th></th>\n",
       "      <th></th>\n",
       "      <th></th>\n",
       "      <th></th>\n",
       "      <th></th>\n",
       "    </tr>\n",
       "  </thead>\n",
       "  <tbody>\n",
       "    <tr>\n",
       "      <th>Lindsaea linearis Sw., J. Bot. (Schrader)</th>\n",
       "      <td>Lindsaeaceae</td>\n",
       "      <td>From the Latin linearis (linear), a reference ...</td>\n",
       "      <td>North Island: Northland, Auckland, Volcanic Pl...</td>\n",
       "      <td>15–1160 m. Lindsaea linearis has a patchy dist...</td>\n",
       "      <td>Indigenous (Non-endemic).</td>\n",
       "      <td>Lindsaea linearis is a terrestrial fern of poo...</td>\n",
       "      <td>NaN</td>\n",
       "      <td>Lindsaea linearis is recognised by its dimorph...</td>\n",
       "      <td>Lindsaea linearis Sw., J. Bot. (Schrader) 1800...</td>\n",
       "      <td>NaN</td>\n",
       "      <td>n = 34 (Brownlie 1958). This number is unique ...</td>\n",
       "      <td>NaN</td>\n",
       "    </tr>\n",
       "  </tbody>\n",
       "</table>\n",
       "</div>"
      ],
      "text/plain": [
       "                                                 Family  \\\n",
       "Species                                                   \n",
       "Lindsaea linearis Sw., J. Bot. (Schrader)  Lindsaeaceae   \n",
       "\n",
       "                                                                                   Etymology  \\\n",
       "Species                                                                                        \n",
       "Lindsaea linearis Sw., J. Bot. (Schrader)  From the Latin linearis (linear), a reference ...   \n",
       "\n",
       "                                                                                Distribution  \\\n",
       "Species                                                                                        \n",
       "Lindsaea linearis Sw., J. Bot. (Schrader)  North Island: Northland, Auckland, Volcanic Pl...   \n",
       "\n",
       "                                                                           Altitudinal range  \\\n",
       "Species                                                                                        \n",
       "Lindsaea linearis Sw., J. Bot. (Schrader)  15–1160 m. Lindsaea linearis has a patchy dist...   \n",
       "\n",
       "                                                           Biostatus  \\\n",
       "Species                                                                \n",
       "Lindsaea linearis Sw., J. Bot. (Schrader)  Indigenous (Non-endemic).   \n",
       "\n",
       "                                                                                     Habitat  \\\n",
       "Species                                                                                        \n",
       "Lindsaea linearis Sw., J. Bot. (Schrader)  Lindsaea linearis is a terrestrial fern of poo...   \n",
       "\n",
       "                                          First record  \\\n",
       "Species                                                  \n",
       "Lindsaea linearis Sw., J. Bot. (Schrader)          NaN   \n",
       "\n",
       "                                                                                 Recognition  \\\n",
       "Species                                                                                        \n",
       "Lindsaea linearis Sw., J. Bot. (Schrader)  Lindsaea linearis is recognised by its dimorph...   \n",
       "\n",
       "                                                                                       Notes  \\\n",
       "Species                                                                                        \n",
       "Lindsaea linearis Sw., J. Bot. (Schrader)  Lindsaea linearis Sw., J. Bot. (Schrader) 1800...   \n",
       "\n",
       "                                          Vernacular name  \\\n",
       "Species                                                     \n",
       "Lindsaea linearis Sw., J. Bot. (Schrader)             NaN   \n",
       "\n",
       "                                                                                    Cytology  \\\n",
       "Species                                                                                        \n",
       "Lindsaea linearis Sw., J. Bot. (Schrader)  n = 34 (Brownlie 1958). This number is unique ...   \n",
       "\n",
       "                                          Hybridisation  \n",
       "Species                                                  \n",
       "Lindsaea linearis Sw., J. Bot. (Schrader)           NaN  "
      ]
     },
     "execution_count": 160,
     "metadata": {},
     "output_type": "execute_result"
    }
   ],
   "source": []
  },
  {
   "cell_type": "code",
   "execution_count": 144,
   "metadata": {},
   "outputs": [
    {
     "data": {
      "text/plain": [
       "<matplotlib.lines.Line2D at 0x7fdc0b1d3190>"
      ]
     },
     "execution_count": 144,
     "metadata": {},
     "output_type": "execute_result"
    },
    {
     "data": {
      "image/png": "[encoded data removed]",
      "text/plain": [
       "<Figure size 1000x500 with 1 Axes>"
      ]
     },
     "metadata": {},
     "output_type": "display_data"
    }
   ],
   "source": [
    "import matplotlib.pyplot as plt\n",
    "fig, ax = plt.subplots(figsize=(10, 5))\n",
    "(features.notna().sum()/features.shape[0]).sort_values(ascending=False).plot(kind='barh', figsize=(10, 5), title='Missing values in the features')\n",
    "ax.axvline(0.25, color='r', linestyle='--')"
   ]
  },
  {
   "cell_type": "code",
   "execution_count": 85,
   "metadata": {},
   "outputs": [
    {
     "data": {
      "text/plain": [
       "FertileFronds    [long, nan, wide-long, wide, ]\n",
       "Frond                  [long, nan, wide-long, ]\n",
       "Habitat                [nan, long, wide-long, ]\n",
       "Indusia                [nan, long, wide-long, ]\n",
       "Laminae          [wide-long, long, nan, wide, ]\n",
       "Rachis             [nan, wide-long, long, wide]\n",
       "Rhizome          [nan, , long, wide, wide-long]\n",
       "Sori                        [nan, , long, wide]\n",
       "Sporangia              [nan, long, wide-long, ]\n",
       "Spores                         [nan, wide-long]\n",
       "SterileFronds            [wide-long, nan, long]\n",
       "Stipe            [long, , nan, wide-long, wide]\n",
       "Family                                       []\n",
       "dtype: object"
      ]
     },
     "execution_count": 85,
     "metadata": {},
     "output_type": "execute_result"
    }
   ],
   "source": [
    "features.map(lambda x: '-'.join([w for w in ['wide', 'long'] if w in x.lower()]) if isinstance(x, str) else np.NaN).apply(lambda x: x.unique())"
   ]
  },
  {
   "cell_type": "code",
   "execution_count": 86,
   "metadata": {},
   "outputs": [],
   "source": [
    "filt_features = features[features.columns[features.notna().sum()/features.shape[0] > 0.25]]"
   ]
  },
  {
   "cell_type": "code",
   "execution_count": 117,
   "metadata": {},
   "outputs": [
    {
     "data": {
      "text/plain": [
       "wide_min      NaN\n",
       "wide_max      NaN\n",
       "long_min    115.0\n",
       "long_max    510.0\n",
       "dtype: float64"
      ]
     },
     "execution_count": 117,
     "metadata": {},
     "output_type": "execute_result"
    }
   ],
   "source": [
    "import numpy as np\n",
    "import pint\n",
    "ureg = pint.UnitRegistry()\n",
    "\n",
    "def range_to_minmax(s):\n",
    "\tif s.lower() in ['', 'nan']:\n",
    "\t\treturn np.array([np.NaN, np.NaN])\n",
    "\tmetric = next(re.finditer(unit, s))\n",
    "\tvalue = s[:metric.start()]\n",
    "\tif '-' in value:\n",
    "\t\tvalue = np.array(value.split('-')).astype(float)\n",
    "\telse:\n",
    "\t\tvalue = np.array([value, value]).astype(float)\n",
    "\treturn ureg.Quantity(value, metric.group()).to('mm').magnitude\n",
    "\n",
    "\n",
    "s = '115-510mm-long; 40-270mm-wide;...'\n",
    "s = '115-510mm-long'\n",
    "def processFeat(s:str, words=('wide', 'long')):\n",
    "\tif s.lower() in ['', 'nan']:\n",
    "\t\treturn pd.Series({w: np.NaN for w in words})\n",
    "\t\n",
    "\tslist = s.split(';')\n",
    "\tm = []\n",
    "\tfor w in words:\n",
    "\t\tfirstmeasure = [x.split(f'-{w}')[0].strip() for x in slist if w in x]\n",
    "\t\tfirstmeasure = firstmeasure[0] if firstmeasure else ''\n",
    "\t\tm.append(firstmeasure)\n",
    "\n",
    "\tres = {}\n",
    "\tfor x, k in zip(m, words):\n",
    "\t\ttry:\n",
    "\t\t\tres |= {f'{k}_{size}': v for size, v in zip(['min', 'max'], range_to_minmax(x))}\n",
    "\t\texcept:\n",
    "\t\t\traise ValueError(x, s, m)\n",
    "\t\t\t\n",
    "\treturn pd.Series(res)\n",
    "\n",
    "\t\n",
    "processFeat(s)\n",
    "\n"
   ]
  },
  {
   "cell_type": "code",
   "execution_count": 127,
   "metadata": {},
   "outputs": [
    {
     "data": {
      "text/plain": [
       "Species\n",
       "Anemia phyllitidis (L.)                                                         210mm-long\n",
       "Athyrium filix-femina (L.)                                                   45-310mm-long\n",
       "Athyrium otophorum (Miq.)                                                       220mm-long\n",
       "Deparia petersenii subsp. congrua (Brack.)                                5-40mm; 35-480mm\n",
       "Deparia petersenii (Kunze)                                                             nan\n",
       "                                                                  ...                     \n",
       "Christella dentata (Forssk.)                  1-10mm; 2.5-4mm; 70mm; 1000mm; 45-350mm-long\n",
       "Cyclosorus interruptus (Willd.)                            5-30mm; 1.5-4mm; 120-970mm-long\n",
       "Macrothelypteris torresiana (Gaudich.)                                       90-750mm-long\n",
       "Pakau pennigera (G.Forst.)                                                      770mm-long\n",
       "Thelypteris confluens (Thunb.)                             8-37mm; 1.5-3mm; 180-670mm-long\n",
       "Name: Stipe, Length: 246, dtype: object"
      ]
     },
     "execution_count": 127,
     "metadata": {},
     "output_type": "execute_result"
    }
   ],
   "source": [
    "features[c].astype(str)#.apply(lambda x: processFeat(x, words))#.rename(columns={w: f\"{c}_{w}\" for w in ['wide_min', 'wide_max', 'long_min', 'long_max']})"
   ]
  },
  {
   "cell_type": "code",
   "execution_count": 134,
   "metadata": {},
   "outputs": [
    {
     "data": {
      "text/plain": [
       "'Stipe'"
      ]
     },
     "execution_count": 134,
     "metadata": {},
     "output_type": "execute_result"
    }
   ],
   "source": [
    "c"
   ]
  },
  {
   "cell_type": "code",
   "execution_count": 139,
   "metadata": {},
   "outputs": [
    {
     "data": {
      "text/plain": [
       "FertileFronds                                                  NaN\n",
       "Frond                                              340-1195mm-long\n",
       "Habitat          On the Kermadec Islands Christella dentata gro...\n",
       "Indusia                                                  0.6-1.2mm\n",
       "Laminae                              200-945mm-long; 68-350mm-wide\n",
       "Rachis                                                         NaN\n",
       "Rhizome                                                        NaN\n",
       "Sori                                                           NaN\n",
       "Sporangia                                                      NaN\n",
       "Spores                                                         NaN\n",
       "SterileFronds                                                  NaN\n",
       "Stipe                 1-10mm; 2.5-4mm; 70mm; 1000mm; 45-350mm-long\n",
       "Family                                            Thelypteridaceae\n",
       "Biostatus                                [indigenous, non-endemic]\n",
       "Name: Christella dentata (Forssk.), dtype: object"
      ]
     },
     "execution_count": 139,
     "metadata": {},
     "output_type": "execute_result"
    }
   ],
   "source": [
    "features.xs('Christella dentata (Forssk.)')"
   ]
  },
  {
   "cell_type": "code",
   "execution_count": 118,
   "metadata": {},
   "outputs": [],
   "source": [
    "data = pd.DataFrame()\n",
    "for c in features.columns.difference(['Family', 'Habitat', 'Biostatus']):\n",
    "    words = ['wide', 'long']\n",
    "    if c == 'Frond':\n",
    "        words = ['long']\n",
    "\n",
    "    data = pd.concat([data, \n",
    "                      features[c].astype(str).apply(lambda x: processFeat(x, words)).rename(columns={w: f\"{c}_{w}\" for w in ['wide_min', 'wide_max', 'long_min', 'long_max']})], axis=1)\n",
    "data = data.join(features[['Family', 'Habitat', 'Biostatus']])\n",
    "\n",
    "\n",
    "# data = data[data.columns[data.notna().sum()/data.shape[0] > 0.25]]"
   ]
  },
  {
   "cell_type": "code",
   "execution_count": 84,
   "metadata": {},
   "outputs": [
    {
     "data": {
      "text/plain": [
       "<matplotlib.lines.Line2D at 0x7fd247f230d0>"
      ]
     },
     "execution_count": 84,
     "metadata": {},
     "output_type": "execute_result"
    },
    {
     "data": {
      "image/png": "[encoded data removed]",
      "text/plain": [
       "<Figure size 720x360 with 1 Axes>"
      ]
     },
     "metadata": {
      "needs_background": "light"
     },
     "output_type": "display_data"
    }
   ],
   "source": [
    "fig, ax = plt.subplots(figsize=(10, 5))\n",
    "(data.notna().sum()/data.shape[0]).sort_values(ascending=False).plot(kind='barh', figsize=(10, 5), title='Missing values in the features')\n",
    "ax.axvline(0.25, color='r', linestyle='--')"
   ]
  }
 ],
 "metadata": {
  "kernelspec": {
   "display_name": "base",
   "language": "python",
   "name": "python3"
  },
  "language_info": {
   "codemirror_mode": {
    "name": "ipython",
    "version": 3
   },
   "file_extension": ".py",
   "mimetype": "text/x-python",
   "name": "python",
   "nbconvert_exporter": "python",
   "pygments_lexer": "ipython3",
   "version": "3.10.13"
  }
 },
 "nbformat": 4,
 "nbformat_minor": 2
}
