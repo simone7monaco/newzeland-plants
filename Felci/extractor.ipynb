{
 "cells": [
  {
   "cell_type": "code",
   "execution_count": 244,
   "metadata": {},
   "outputs": [],
   "source": [
    "import regex as re\n",
    "\n",
    "# from PyPDF2 import PdfReader\n",
    "import pandas as pd\n",
    "import numpy as np\n",
    "# fern_species = pd.read_excel(\"Species list.xlsx\")\n"
   ]
  },
  {
   "cell_type": "markdown",
   "metadata": {},
   "source": [
    "## Extract PDF"
   ]
  },
  {
   "cell_type": "code",
   "execution_count": 214,
   "metadata": {},
   "outputs": [
    {
     "ename": "NameError",
     "evalue": "name 'fern_species' is not defined",
     "output_type": "error",
     "traceback": [
      "\u001b[0;31m---------------------------------------------------------------------------\u001b[0m",
      "\u001b[0;31mNameError\u001b[0m                                 Traceback (most recent call last)",
      "Cell \u001b[0;32mIn[214], line 5\u001b[0m\n\u001b[1;32m      3\u001b[0m conditional_newline \u001b[38;5;241m=\u001b[39m \u001b[38;5;28;01mlambda\u001b[39;00m sp: \u001b[38;5;124m'\u001b[39m\u001b[38;5;124m\\\u001b[39m\u001b[38;5;124ms*\u001b[39m\u001b[38;5;130;01m\\n\u001b[39;00m\u001b[38;5;124m?\u001b[39m\u001b[38;5;124m'\u001b[39m\u001b[38;5;241m.\u001b[39mjoin(sp\u001b[38;5;241m.\u001b[39msplit(\u001b[38;5;124m'\u001b[39m\u001b[38;5;124m \u001b[39m\u001b[38;5;124m'\u001b[39m))\u001b[38;5;241m.\u001b[39mreplace(\u001b[38;5;124m'\u001b[39m\u001b[38;5;124m.\u001b[39m\u001b[38;5;124m'\u001b[39m, \u001b[38;5;124m'\u001b[39m\u001b[38;5;124m\\\u001b[39m\u001b[38;5;124m.\u001b[39m\u001b[38;5;124m'\u001b[39m)\u001b[38;5;241m.\u001b[39mreplace(\u001b[38;5;124m'\u001b[39m\u001b[38;5;124m(\u001b[39m\u001b[38;5;124m'\u001b[39m, \u001b[38;5;124m'\u001b[39m\u001b[38;5;124m\\\u001b[39m\u001b[38;5;124m(\u001b[39m\u001b[38;5;124m'\u001b[39m)\u001b[38;5;241m.\u001b[39mreplace(\u001b[38;5;124m'\u001b[39m\u001b[38;5;124m)\u001b[39m\u001b[38;5;124m'\u001b[39m, \u001b[38;5;124m'\u001b[39m\u001b[38;5;124m\\\u001b[39m\u001b[38;5;124m)\u001b[39m\u001b[38;5;124m'\u001b[39m)\u001b[38;5;241m.\u001b[39mreplace(\u001b[38;5;124m'\u001b[39m\u001b[38;5;124m[\u001b[39m\u001b[38;5;124m'\u001b[39m, \u001b[38;5;124m'\u001b[39m\u001b[38;5;124m\\\u001b[39m\u001b[38;5;124m[\u001b[39m\u001b[38;5;124m'\u001b[39m)\u001b[38;5;241m.\u001b[39mreplace(\u001b[38;5;124m'\u001b[39m\u001b[38;5;124m]\u001b[39m\u001b[38;5;124m'\u001b[39m, \u001b[38;5;124m'\u001b[39m\u001b[38;5;124m\\\u001b[39m\u001b[38;5;124m]\u001b[39m\u001b[38;5;124m'\u001b[39m)\n\u001b[1;32m      4\u001b[0m sp_descriptions \u001b[38;5;241m=\u001b[39m pd\u001b[38;5;241m.\u001b[39mDataFrame()\n\u001b[0;32m----> 5\u001b[0m \u001b[38;5;28;01mfor\u001b[39;00m fam \u001b[38;5;129;01min\u001b[39;00m tqdm(\u001b[43mfern_species\u001b[49m\u001b[38;5;241m.\u001b[39mFamily\u001b[38;5;241m.\u001b[39munique()):\n\u001b[1;32m      6\u001b[0m     text \u001b[38;5;241m=\u001b[39m \u001b[38;5;124m\"\u001b[39m\u001b[38;5;124m\"\u001b[39m\n\u001b[1;32m      7\u001b[0m     \u001b[38;5;28;01mwith\u001b[39;00m \u001b[38;5;28mopen\u001b[39m(\u001b[38;5;124mf\u001b[39m\u001b[38;5;124m\"\u001b[39m\u001b[38;5;124mdescriptions/\u001b[39m\u001b[38;5;132;01m{\u001b[39;00mfam\u001b[38;5;132;01m}\u001b[39;00m\u001b[38;5;124m.pdf\u001b[39m\u001b[38;5;124m\"\u001b[39m, \u001b[38;5;124m\"\u001b[39m\u001b[38;5;124mrb\u001b[39m\u001b[38;5;124m\"\u001b[39m) \u001b[38;5;28;01mas\u001b[39;00m pdf_file:\n",
      "\u001b[0;31mNameError\u001b[0m: name 'fern_species' is not defined"
     ]
    }
   ],
   "source": [
    "from tqdm.auto import tqdm\n",
    "\n",
    "conditional_newline = lambda sp: '\\s*\\n?'.join(sp.split(' ')).replace('.', '\\.').replace('(', '\\(').replace(')', '\\)').replace('[', '\\[').replace(']', '\\]')\n",
    "sp_descriptions = pd.DataFrame()\n",
    "for fam in tqdm(fern_species.Family.unique()):\n",
    "    text = \"\"\n",
    "    with open(f\"descriptions/{fam}.pdf\", \"rb\") as pdf_file:\n",
    "        read_pdf = PdfReader(pdf_file)\n",
    "        for i, page in enumerate(read_pdf.pages):\n",
    "            if i < 5:\n",
    "                continue\n",
    "            tx = page.extract_text()\n",
    "            if tx.split(\"\\n\")[0].startswith('References'):\n",
    "                # print(f\"Breaking at page {i}\")\n",
    "                break\n",
    "            text += page.extract_text()\n",
    "    text = re.sub(r'[^\\S\\r\\n]+', ' ', text)\n",
    "\n",
    "    fam_species = fern_species[fern_species.Family.eq(fam)].Species.unique()\n",
    "    sp_dict = {}\n",
    "    for i, species in enumerate(fam_species):\n",
    "        species = species\n",
    "        if (cnt := len(re.findall(conditional_newline(species), text))) == 0:\n",
    "            print(f\"{fam} | {species} wrongly appearing (count: {cnt})\")\n",
    "            foo\n",
    "        # start = text.find(species)\n",
    "        # start is the first character of the species name assuming to find it in the text\n",
    "        # with potentially some '\\n' characters in between\n",
    "        start = re.search(conditional_newline(species), text).start()\n",
    "        end = [re.search(conditional_newline(sp), text).start() for sp in fam_species]\n",
    "        end = min([e for e in end if e and e > start] + [len(text)])\n",
    "        name_sp = species.split(')')[0] + ')'\n",
    "        if name_sp not in sp_dict.keys():\n",
    "            sp_dict[name_sp] = text[start:end]\n",
    "        else:\n",
    "            sp_dict[name_sp] += '\\n' + text[start:end]\n",
    "\n",
    "    sp_descriptions = pd.concat([sp_descriptions, pd.DataFrame(sp_dict.items(), columns=['Species', 'Description']).assign(Family=fam)], ignore_index=True)\n",
    "\n",
    "\n",
    "def desc_to_sections(desc):\n",
    "    \"\"\"\n",
    "    Split the description into sections:\n",
    "    \"Etymology\", \"Vernacular name\", \"Distribution\", \"Altitudinal range\", \"Biostatus\", \"Habitat\", \"First record \", \"Recognition \", \"Cytology\", \"Hybridisation\", \"Notes \"\n",
    "    not all the sections will be present in all descriptions, if present, they start with the section name followed by a colon, up to the next named section or the end of the description\n",
    "    \"\"\"\n",
    "    sections = [\"Etymology\", \"Vernacular name\", \"Distribution\", \"Altitudinal range\", \"Biostatus\", \"Habitat\", \"First record\", \"Recognition\", \"Cytology\", \"Hybridisation\", \"Notes\"]\n",
    "    section_dict = {}\n",
    "    for i, section in enumerate(sections):\n",
    "        if i == len(sections) - 1:\n",
    "            section_dict[section] = desc\n",
    "        else:\n",
    "            start = re.search(fr\"{section}s?:\", desc)\n",
    "            start = start.end() if start else -1\n",
    "            if start == -1:\n",
    "                continue\n",
    "            end = re.search(fr\"{sections[i+1]}s?:\", desc)\n",
    "            end = end.start() if end else -1\n",
    "\n",
    "            this_desc = desc[start:end].strip()\n",
    "\n",
    "            section_dict[section] = re.sub(r'\\n+', ' ', this_desc.strip())\n",
    "    return pd.Series(section_dict)\n",
    "\n",
    "extra = sp_descriptions.Description.apply(desc_to_sections)  \n",
    "sp_descriptions = pd.concat([sp_descriptions, extra], axis=1).drop(columns='Description')"
   ]
  },
  {
   "cell_type": "code",
   "execution_count": 50,
   "metadata": {},
   "outputs": [],
   "source": [
    "sp_descriptions.to_excel(\"fern_descriptions.xlsx\", index=False)"
   ]
  },
  {
   "cell_type": "markdown",
   "metadata": {},
   "source": [
    "# Extract features"
   ]
  },
  {
   "cell_type": "code",
   "execution_count": 215,
   "metadata": {},
   "outputs": [],
   "source": [
    "sp_descriptions = pd.read_excel(\"fern_descriptions.xlsx\").set_index('Species')"
   ]
  },
  {
   "cell_type": "code",
   "execution_count": 216,
   "metadata": {},
   "outputs": [],
   "source": [
    "extra_features_df = pd.read_excel(\"../Words before and after traits_v2.xlsx\", sheet_name=\"FernPrecedingWords\")\n",
    "extra_features_df = extra_features_df.drop(columns=[c for c in extra_features_df.columns if 'Unnamed' in c])\n",
    "extra_features_df = extra_features_df[\n",
    "    :extra_features_df[extra_features_df.Rhizome.str.startswith('Sentences that talk a', na=False)].index[0]\n",
    "    ].map(lambda s:s.lower().strip() if type(s) == str else s)\n",
    "\n",
    "extra_features = extra_features_df.to_dict('list')\n",
    "extra_features = {k.title().replace(' ', ''): [x for x in v if str(x) != 'nan'] for k, v in extra_features.items()}"
   ]
  },
  {
   "cell_type": "code",
   "execution_count": 137,
   "metadata": {},
   "outputs": [
    {
     "data": {
      "text/plain": [
       "{'Rhizome': ['Rhizome', 'Rhizomes', 'Stem', 'Stems'],\n",
       " 'Frond': ['Fronds', 'Frond', 'Leaf', 'Leaves'],\n",
       " 'FertileFronds': ['Fertile'],\n",
       " 'SterileFronds': ['Sterile'],\n",
       " 'Stipe': ['Stipe', 'Stipes'],\n",
       " 'Rachis': ['Rachis', 'Rachises'],\n",
       " 'Laminae': ['Laminae', 'Lamina'],\n",
       " 'Sori': ['Sori', 'Sorus'],\n",
       " 'Spores': ['Spores', 'Spore'],\n",
       " 'Sporangia': ['Sporangia', 'Sporangium', 'Synangia', 'Synangium'],\n",
       " 'Habitat': ['Aquatic',\n",
       "  'Epiphytic',\n",
       "  'Creeping',\n",
       "  'Climbing',\n",
       "  'Climber',\n",
       "  'Climbers',\n",
       "  'Creeper',\n",
       "  'Creepers',\n",
       "  'Terrestrial',\n",
       "  'Lithophytic'],\n",
       " 'Indusia': ['Indusia', 'Indusium'],\n",
       " 'Habit': ['Creeping, Terrestrial, Both'],\n",
       " 'Biostatus': ['Indigenous',\n",
       "  'Native',\n",
       "  'Exotic',\n",
       "  'Endemic',\n",
       "  'Non-Endemic',\n",
       "  'Casual',\n",
       "  'Fully Naturalized']}"
      ]
     },
     "execution_count": 137,
     "metadata": {},
     "output_type": "execute_result"
    }
   ],
   "source": [
    "extra_features"
   ]
  },
  {
   "cell_type": "code",
   "execution_count": 5,
   "metadata": {},
   "outputs": [],
   "source": [
    "unit = '[m|c|d|μ]?m'\n",
    "number = r\"(\\d+\\.?\\d*)\"\n",
    "full_regex = rf\"(({number}\\s?-\\s?)?{number})?({number}\\s?-\\s?)?{number}\\s*{unit}(-wide)?(-long)?\""
   ]
  },
  {
   "cell_type": "code",
   "execution_count": 234,
   "metadata": {},
   "outputs": [
    {
     "data": {
      "text/plain": [
       "('Rhizome', <re.Match object; span=(0, 8), match='rhizomes'>)"
      ]
     },
     "execution_count": 234,
     "metadata": {},
     "output_type": "execute_result"
    }
   ],
   "source": [
    "feat = 'Rhizomes short-to long-creeping, up to 100mm-long (in herbarium specimens), 0.8-1.7mm in diameter, with stipes arising 1-9mm apart; bearing scales'\n",
    "candidate_feat = {}\n",
    "for key, values in extra_features.items():\n",
    "    if key in ('Habit', 'Venation', 'Biostatus', 'Habitat'):\n",
    "        continue\n",
    "    matched_word = list(re.finditer( r'\\b('+ '|'.join([w for w in set(values)]) + r')\\b', feat.lower()))\n",
    "    if any(matched_word):\n",
    "        candidate_feat[key] = matched_word[0]\n",
    "if any(candidate_feat):\n",
    "# feat is the first appearing candidate_feat\n",
    "    key = sorted(candidate_feat, key=lambda x: candidate_feat[x].start())[0]\n",
    "    matched_word = candidate_feat[key]\n",
    "key, matched_word"
   ]
  },
  {
   "cell_type": "code",
   "execution_count": 327,
   "metadata": {},
   "outputs": [],
   "source": [
    "tmp = []\n",
    "anomalies = set() # species with anomalies\n",
    "\n",
    "def extract_features(i, feats:list):\n",
    "\tfeatures = {}\n",
    "\tfor feat in feats:\n",
    "\t\tif len(feat) < 1:\n",
    "\t\t\tcontinue\n",
    "\t\tfeat = feat.replace(',', ' ')\n",
    "\t\tfeat = feat[:-1] if feat[-1] in ['.', ';'] else feat # remove any of .; at the end of the sentence\n",
    "\n",
    "\t\tcandidate_feat = {}\n",
    "\t\tfor key, values in extra_features.items():\n",
    "\t\t\tif key in ('Habit', 'Venation', 'Biostatus', 'Habitat'):\n",
    "\t\t\t\tcontinue\n",
    "\t\t\tmatched_word = list(re.finditer( r'\\b('+ '|'.join([w for w in set(values)]) + r')\\b', feat.lower()))\n",
    "\t\t\tif any(matched_word):\n",
    "\t\t\t\tcandidate_feat[key] = matched_word[0]\n",
    "\t\tif not any(candidate_feat):\n",
    "\t\t\tcontinue\n",
    "\t\tkey = sorted(candidate_feat, key=lambda x: candidate_feat[x].start())[0]\n",
    "\t\tmatched_word = candidate_feat[key]\n",
    "\n",
    "\t\tif key == 'Rhizome':\n",
    "\t\t\tfeatures['Habit'] = list(set(features.get('Habit', []) + [x for x in extra_features['Habit'] if x in feat.lower()]))\n",
    "\t\t\n",
    "\t\tmeasures = re.finditer(full_regex, feat)\n",
    "\t\tfor measure in measures:\n",
    "\t\t\tif key == 'Laminae' and 'primary' in feat.lower() and len(features.get('Laminae', [])) >= 2:\n",
    "\t\t\t\tcontinue\n",
    "\t\t\tif key == 'PrimaryPinnae' and 'secondary' in feat.lower() and len(features.get('PrimaryPinnae', [])) >= 2:\n",
    "\t\t\t\tcontinue\n",
    "\t\t\t\n",
    "\t\t\tif key in ['Stipe', 'Laminae', 'Rhizome'] and len(features.get(key, [])) > 1: # TODO: da verificare per caso speciale\n",
    "\t\t\t\thair_or_scale_position = list(re.finditer(r'(hair|scale)', feat.lower()))\n",
    "\t\t\t\t# C1: Se nella frase dello stipe trovi le keyword \"hair\", \"hairs\", \"scale\", \"scales\", i valori dopo queste keyword vanno ignorati.\n",
    "\t\t\t\tif any(hair_or_scale_position) and hair_or_scale_position[0].start() < measure.start():\n",
    "\t\t\t\t\tcontinue\n",
    "\n",
    "\t\t\tfeatures[key] = features.get(key, []) + [measure.group()]\n",
    "\treturn pd.Series(features)\n"
   ]
  },
  {
   "cell_type": "code",
   "execution_count": 328,
   "metadata": {},
   "outputs": [],
   "source": [
    "def string_preprocessing(s):\n",
    "\ts = s.replace('\\xa0', ' ').replace('×', 'x').replace('–', '-').replace('·', '.') # remove non-breaking space and replace multiplication sign with x\n",
    "\ts = re.sub(r'(?<=xcluding)\\s+[\\w-]+', ' ', s) # remove each word following \"excluding\" (Mericarps (excluding style) 2.5-3.0 mm should point to \"Mericarps\")\n",
    "\ts = re.sub(fr'-?\\(-?{number}-?\\)-?', '', s) # remove all parentesis surrounding a number and the number inside (e.g. (-1.5) --> **)\n",
    "\ts = re.sub(rf'(?<=\\d)\\s+(?={unit})', '', s) # remove all spaces before measures (mm, cm, dm, m, these strings only if padded by a space)\n",
    "\ts = re.sub('m long;?', 'm-long', s) # remove space between measure and \"long\" (e.g. 2 mm long --> 2 mm-long)\n",
    "\ts = re.sub('m wide;?', 'm-wide', s) # remove space between measure and \"wide\" (e.g. 2 mm wide --> 2 mm-wide)\n",
    "\ts = re.sub(r'\\s*-\\s*', '-', s) # remove spaces around hyphens\n",
    "\ts = re.sub(r'(?<=\\d)\\s*\\.(?=\\d)', '.', s) # remove spaces before dot if followed and preceded by a number\n",
    "\ts = re.sub(r'(?<=\\s)\\.(?=\\d)', '0.', s) # add a 0 before a dot if it is preceded by a space and a \"not number\" and followed by a number (e.g. foo .5 --> foo 0.5)\n",
    "\t# s = re.sub(r'(?<=[\\dm])\\s*x\\s*(?=\\d+)', 'x', s) # remove spaces around x in formulas\n",
    "\ts = re.sub(rf'(;\\s*)({full_regex})', r' \\2', s) # point to any ';' preceding a measure (full_regex) and remove it, without removing the measure\n",
    "\treturn s"
   ]
  },
  {
   "cell_type": "code",
   "execution_count": 329,
   "metadata": {},
   "outputs": [],
   "source": [
    "features = sp_descriptions.Etymology.fillna('') + ' ' + sp_descriptions['Vernacular name'].fillna('')\n",
    "# delimiter any of '. ', '.\\n' and similar (all the dots not followed by numbers and not preceded by ' c', enforced with a negative lookbehind)\n",
    "delimiter = r'(?<! c)\\.(?!\\d)|(; (?=sterile)|(; (?=fertile)))'\n",
    "delimiter += '|' + '|'.join([f\"(; (?={x.lower()}))\" for x in extra_features.keys() if x not in ('Habit', 'Venation', 'Biostatus', 'Habitat')])\n",
    "features = features.apply(string_preprocessing).str.split(delimiter).apply(lambda l: [x.strip() for x in l if x is not None])\\\n",
    "    .reset_index().apply(lambda x: extract_features(x.Species, x[0]), axis=1)\n",
    "\n",
    "features = features.map(lambda x: '; '.join(x) if not isinstance(x, float) else x)\n",
    "features.index = sp_descriptions.index\n",
    "features = features[features.notna().sum(axis=1) > 0].join(sp_descriptions.Family).map(lambda x: x if x != '' else np.nan)\n",
    "\n",
    "features = features.join(sp_descriptions[['Etymology', 'Vernacular name', 'Biostatus']].apply(lambda l: ' '.join([str(x) for x in l]), axis=1).apply(lambda s: [x for x in extra_features['Biostatus'] if x.lower() in s.lower() and not ('non-' in s.lower() and x=='endemic')]).rename('Biostatus'))\n",
    "features = features.join(sp_descriptions.Habitat)\n",
    "features.to_csv('processed_features_fern.csv')"
   ]
  },
  {
   "cell_type": "code",
   "execution_count": 331,
   "metadata": {},
   "outputs": [
    {
     "data": {
      "text/plain": [
       "<matplotlib.lines.Line2D at 0x7fdc07f4bcd0>"
      ]
     },
     "execution_count": 331,
     "metadata": {},
     "output_type": "execute_result"
    },
    {
     "data": {
      "image/png": "[encoded data removed]",
      "text/plain": [
       "<Figure size 1000x500 with 1 Axes>"
      ]
     },
     "metadata": {},
     "output_type": "display_data"
    }
   ],
   "source": [
    "import matplotlib.pyplot as plt\n",
    "fig, ax = plt.subplots(figsize=(10, 5))\n",
    "(features.notna().sum()/features.shape[0]).sort_values(ascending=False).plot(kind='barh', figsize=(10, 5), title='Missing values in the features')\n",
    "ax.axvline(0.25, color='r', linestyle='--')"
   ]
  },
  {
   "cell_type": "code",
   "execution_count": 86,
   "metadata": {},
   "outputs": [],
   "source": [
    "filt_features = features[features.columns[features.notna().sum()/features.shape[0] > 0.25]]"
   ]
  },
  {
   "cell_type": "code",
   "execution_count": 332,
   "metadata": {},
   "outputs": [
    {
     "data": {
      "text/plain": [
       "wide_min      NaN\n",
       "wide_max      NaN\n",
       "long_min    115.0\n",
       "long_max    510.0\n",
       "dtype: float64"
      ]
     },
     "execution_count": 332,
     "metadata": {},
     "output_type": "execute_result"
    }
   ],
   "source": [
    "import numpy as np\n",
    "import pint\n",
    "ureg = pint.UnitRegistry()\n",
    "\n",
    "def range_to_minmax(s):\n",
    "\tif s.lower() in ['', 'nan']:\n",
    "\t\treturn np.array([np.NaN, np.NaN])\n",
    "\tmetric = next(re.finditer(unit, s))\n",
    "\tvalue = s[:metric.start()]\n",
    "\tif '-' in value:\n",
    "\t\tvalue = np.array(value.split('-')).astype(float)\n",
    "\telse:\n",
    "\t\tvalue = np.array([value, value]).astype(float)\n",
    "\treturn ureg.Quantity(value, metric.group()).to('mm').magnitude\n",
    "\n",
    "\n",
    "s = '115-510mm-long; 40-270mm-wide;...'\n",
    "s = '115-510mm-long'\n",
    "def processFeat(s:str, words=('wide', 'long')):\n",
    "\tif s.lower() in ['', 'nan']:\n",
    "\t\treturn pd.Series()\n",
    "\t\n",
    "\tslist = s.split(';')\n",
    "\tm = []\n",
    "\tfor w in words:\n",
    "\t\tfirstmeasure = [x.split(f'-{w}')[0].strip() for x in slist if w in x]\n",
    "\t\tif not firstmeasure:\n",
    "\t\t\t# add all the measures with no word found\n",
    "\t\t\tfirstmeasure = [x.strip() for x in slist if not any([w in x for w in words])]\n",
    "\t\tfirstmeasure = firstmeasure[0] if firstmeasure else ''\n",
    "\t\tm.append(firstmeasure)\n",
    "\n",
    "\tres = {}\n",
    "\tfor x, k in zip(m, words):\n",
    "\t\ttry:\n",
    "\t\t\tres |= {f'{k}_{size}': v for size, v in zip(['min', 'max'], range_to_minmax(x))}\n",
    "\t\texcept:\n",
    "\t\t\traise ValueError(x, s, m)\n",
    "\t\t\t\n",
    "\treturn pd.Series(res)\n",
    "\n",
    "\t\n",
    "processFeat(s)"
   ]
  },
  {
   "cell_type": "code",
   "execution_count": 335,
   "metadata": {},
   "outputs": [],
   "source": [
    "data = pd.DataFrame()\n",
    "for c in features.columns.difference(['Family', 'Habitat', 'Habit', 'Biostatus']):\n",
    "    words = ['wide', 'long']\n",
    "    if c in ['Frond', 'FertileFrond', 'SterileFrond']:\n",
    "        words = ['long']\n",
    "\n",
    "    data = pd.concat([data, \n",
    "                      features[c].astype(str).apply(lambda x: processFeat(x, words)).rename(columns={w: f\"{c}_{w}\" for w in ['wide_min', 'wide_max', 'long_min', 'long_max']})], axis=1)\n",
    "data = data.join(features[['Family', 'Habitat', 'Biostatus']])\n",
    "\n",
    "\n",
    "# data = data[data.columns[data.notna().sum()/data.shape[0] > 0.25]]"
   ]
  },
  {
   "cell_type": "code",
   "execution_count": 337,
   "metadata": {},
   "outputs": [],
   "source": [
    "data.to_csv('processed_features_fern_NUMS.csv')"
   ]
  },
  {
   "cell_type": "code",
   "execution_count": 84,
   "metadata": {},
   "outputs": [
    {
     "data": {
      "text/plain": [
       "<matplotlib.lines.Line2D at 0x7fd247f230d0>"
      ]
     },
     "execution_count": 84,
     "metadata": {},
     "output_type": "execute_result"
    },
    {
     "data": {
      "image/png": "[encoded data removed]",
      "text/plain": [
       "<Figure size 720x360 with 1 Axes>"
      ]
     },
     "metadata": {
      "needs_background": "light"
     },
     "output_type": "display_data"
    }
   ],
   "source": [
    "fig, ax = plt.subplots(figsize=(10, 5))\n",
    "(data.notna().sum()/data.shape[0]).sort_values(ascending=False).plot(kind='barh', figsize=(10, 5), title='Missing values in the features')\n",
    "ax.axvline(0.25, color='r', linestyle='--')"
   ]
  }
 ],
 "metadata": {
  "kernelspec": {
   "display_name": "base",
   "language": "python",
   "name": "python3"
  },
  "language_info": {
   "codemirror_mode": {
    "name": "ipython",
    "version": 3
   },
   "file_extension": ".py",
   "mimetype": "text/x-python",
   "name": "python",
   "nbconvert_exporter": "python",
   "pygments_lexer": "ipython3",
   "version": "3.10.13"
  }
 },
 "nbformat": 4,
 "nbformat_minor": 2
}
