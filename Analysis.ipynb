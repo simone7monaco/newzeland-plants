{
 "cells": [
  {
   "cell_type": "code",
   "execution_count": 3,
   "metadata": {},
   "outputs": [],
   "source": [
    "import numpy as np\n",
    "import pandas as pd\n",
    "# import re\n",
    "import regex as re\n",
    "\n",
    "species = pd.read_excel('plant_info.xlsx').set_index('SpeciesName')\n",
    "species['Features'] = species['Features'].fillna('')"
   ]
  },
  {
   "cell_type": "markdown",
   "metadata": {},
   "source": [
    "# Tabular features"
   ]
  },
  {
   "cell_type": "markdown",
   "metadata": {},
   "source": [
    "## Produce"
   ]
  },
  {
   "cell_type": "code",
   "execution_count": 19,
   "metadata": {},
   "outputs": [],
   "source": [
    "extra_features_df = pd.read_excel(\"Words before and after traits_v1.xlsx\", sheet_name=\"Words\", skiprows=1)\n",
    "extra_features_df = extra_features_df[:extra_features_df[extra_features_df.Stature.eq('Following words')].index[0]].applymap(lambda s:s.lower() if type(s) == str else s)\n",
    "\n",
    "extra_features = extra_features_df.to_dict('list')\n",
    "extra_features = {k.title().replace(' ', ''): [x for x in v if str(x) != 'nan'] for k, v in extra_features.items()}"
   ]
  },
  {
   "cell_type": "code",
   "execution_count": 20,
   "metadata": {},
   "outputs": [
    {
     "name": "stdout",
     "output_type": "stream",
     "text": [
      "['achene', 'fruits', 'cypsela']\n"
     ]
    }
   ],
   "source": [
    "all_words = extra_features_df.to_numpy().flatten()\n",
    "# duplicated words\n",
    "duplicate_words = []\n",
    "for word in set(all_words):\n",
    "\tif (all_words == word).sum() > 1:\n",
    "\t\tduplicate_words.append(word)\n",
    "print(duplicate_words)"
   ]
  },
  {
   "cell_type": "code",
   "execution_count": 21,
   "metadata": {},
   "outputs": [],
   "source": [
    "words_to_remove = []\n",
    "# remove all words starting with petal, flower, fruit, seed with a letter after different from s. Select the entire word up to the first space or punctuation (,;.) excluded\n",
    "reg_exp = r'(petal|flower|fruit|seed)[a-rt-z]+[^\\s;,.\\)]'\n",
    "for i, row in species.Features.items():\n",
    "\t# print(row)\n",
    "\tfor word in re.finditer(reg_exp, row):\n",
    "\t\twords_to_remove.append(word.group())\n",
    "\n",
    "words_to_remove = list(set(words_to_remove))"
   ]
  },
  {
   "cell_type": "markdown",
   "metadata": {},
   "source": [
    "### Errors\n",
    "- ✅ **\"Stigma\" and \"style\" are both present within the string:** Place values in both stigma and style categories\n",
    "- ✅ **\"Cypselae\" is present within the string:** Place in both seed and fruit categories\n",
    "- ✅ **\"Cypsela\" is present within the string:** Place in both seed and fruit categories\n",
    "- **\"(\" and \")\" are detected within the string:** Remove them, along with everything within them. Then repeat search.\n",
    "- ✅ **\"petiole\" or \"petioles\" are contained in the string:** Place values in petiol size, ignoring all other words\n",
    "- ✅ **\"Anther\" or \"Anthers\" are contained in the string:** Place values in anther size, ignoring all other words\n",
    "- ✅ **\"Pedicel\" or \"Pedicels\" are contained in the string:** Place values in pedicel size, ignoring all other words\n",
    "- ✅ **\"Calyx\" is present within the string:** Place values in calyx size, ignoring all other words\n",
    "- ✅ **word is a derivation of a key word (e.g. fruit-ing, flower-ing, leaf-y, anti-petal-ous):** Ignore/remove that word from the string. This should not apply if such words are part of multiple word key (e.g. \"flowering stem\")\n",
    "- ✅ **word for fruit size is used, except cypsela or achene:** Ignore other words and place in fruit size\n",
    "- ✅ **\"achene\" or \"achenes\" are contained in the string:** Place in both seed and fruit categories\n",
    "- <s>**\"hermaphrodite\", \"hermaphroditic\", \"male\" or \"female\" are found within the string:** Store the word, then remove it, and repeat the search. Place what is found in the appropriate trait column, but add the stored word in.</s>\n",
    "- **The strings contains \"hair\" or \"hairs\":** Ignore measurements\n",
    "- **The string contains \"corolla\":** Include lobes and tubes measurement\n",
    "- **The string does not contain \"corolla\":** Ignore lobes and tubes measurements\n",
    "- **If \"filaments\", \"filament\", \"stamen\", \"stamens\", \"anther\", \"anthers\", \"stygma\", \"stygmas\", \"style\", \"styles\", \"ovary\", \"ovaries\" are contained in the string:** Place in stamen size, anther size, stygma size, style size, ovary size respectively, ignoring all other words\n",
    "- **If a key word for seed size and \"per fruit\" are contained in the string:** Place the values in seed size\n",
    "- **If the string contains \"height in flower\":** Place the values in stature\n",
    "- **If \"floret\" or \"florets\" is contained in the string without \"disk\" or \"ray\":** Place measurement in both disk and ray floret size\n",
    "- **A measurement can be attributed only to keywords preceding it, not following it**"
   ]
  },
  {
   "cell_type": "code",
   "execution_count": 22,
   "metadata": {},
   "outputs": [],
   "source": [
    "unit = '[m|c|d]?m'\n",
    "# 150–400x100–300mm\n",
    "number = r\"(\\d+\\.?\\d*)\"\n",
    "# full_regex = rf\"(({number}-)?{number}{unit}?x)?{number}(-{number})?{unit}\" ## Supposed to be correct\n",
    "\"\"\"anomaies:\n",
    "\t0.05-0.35-1mx1.5-3-6mm\n",
    "\"\"\"\n",
    "full_regex = rf\"({number}(-{number})?(-{number})?{unit}?x)?({number}(-{number})?(-{number})?{unit}?x)?{number}(-{number})?(-{number})?(-{number})?{unit}\""
   ]
  },
  {
   "cell_type": "code",
   "execution_count": 23,
   "metadata": {},
   "outputs": [],
   "source": [
    "tmp = []\n",
    "anomalies = set() # species with anomalies\n",
    "\n",
    "def extract_features(i, feats:list, wordmeasure_distance=100): # TODO: automatic wordmeasure_distance\n",
    "\tfeatures = {}\n",
    "\tfor feat in feats:\n",
    "\t\tif len(feat) < 1:\n",
    "\t\t\tcontinue\n",
    "\t\t# measure is a number and a unit of measurement (e.g. 1.5 mm)\n",
    "\t\tfeat = feat.replace(',', ' ')\n",
    "\t\tmeasures = re.finditer(full_regex, feat)\n",
    "\t\tfor measure in measures:\n",
    "\t\t\tfound = None\n",
    "\t\t\tmeasure_position = np.where(np.array(feat.lower().split()) == measure.group())[0][0]\n",
    "\t\t\tfor key, values in extra_features.items():\n",
    "\t\t\t\t# remove any of .; after one of the measures (cm, mm, dm, m), keeping the measure\n",
    "\t\t\t\tfeat = re.sub(rf'{unit}[\\.;]', lambda x: x.group()[:-1], feat)\n",
    "\t\t\t\tif any([w == wf for w in set(values) for wf in feat.lower().split()]):\n",
    "\t\t\t\t\tif 'calyx' in feat.lower() and key != 'CalyxSize' or 'petiole' in feat.lower() and key != 'PetioleSize' or 'anther' in feat.lower() and key != 'AntherSize' or 'pedicel' in feat.lower() and key != 'PedicelSize':\n",
    "\t\t\t\t\t\tcontinue\n",
    "\t\t\t\t\tword_match = [w.lower() for w in feat.split() if w.lower() in set(values)][0]\n",
    "\t\t\t\t\tword_match_position = np.where(np.array(feat.lower().split()) == word_match)[0][0]\n",
    "\t\t\t\t\t\n",
    "\t\t\t\t\tif found=='InflorescenceSize' and key == 'FlowerSize': # if inflorencence was already found, skip flower (e.g., \"flower stem\" associated with inflorescence only)\n",
    "\t\t\t\t\t\tcontinue\n",
    "\t\t\t\t\tif found=='FlowerSize' and key in ['StamenSize']: # avoid matching cases such as \"Flowers large, white, about 8mm across, 4-petalled with 6 __stamens__\"\n",
    "\t\t\t\t\t\tcontinue # TODO: can be avoided if considering only keywords before the measure?\n",
    "\t\t\t\t\tif found == 'FruitSize' and not any([w.lower() in feat.lower() for w in ['achene', 'cypsela']]):\n",
    "\t\t\t\t\t\tcontinue\n",
    "\n",
    "\t\t\t\t\tif abs(word_match_position - measure_position) > wordmeasure_distance:\n",
    "\t\t\t\t\t\tcontinue # TODO: remove abs to enforce keyword before measure (not in Stature, other exceptions?)\n",
    "\t\t\t\t\tif found:\n",
    "\t\t\t\t\t\tif (any([w.lower() in feat.lower() for w in ['achene', 'cypsela']]) and {key, found[0]} == {'FruitSize', 'SeedSize'}) or\\\n",
    "\t\t\t\t\t\t\t{key, found[0]} == {'StigmaSize', 'StyleSize'}:\n",
    "\t\t\t\t\t\t\tpass\n",
    "\t\t\t\t\t\t\t# print(f'OK>> Multiple features found ({found}, {key}) in \"{feat}\"')\n",
    "\t\t\t\t\t\telse:\n",
    "\t\t\t\t\t\t\tthis_distance = abs(word_match_position - measure_position)\n",
    "\t\t\t\t\t\t\tif this_distance > found[1]:\n",
    "\t\t\t\t\t\t\t\tcontinue\n",
    "\t\t\t\t\t\t\telse:\n",
    "\t\t\t\t\t\t\t\tfeatures[found[0]].remove(found[2])\n",
    "\t\t\t\t\t\t\ttmp.append(f'({i}) Multiple features found ({found[0]}, {key}) in \"{feat}\"')\n",
    "\t\t\t\t\t\t\tanomalies.add(i)\n",
    "\t\t\t\t\tfound = (key, abs(word_match_position - measure_position), measure.group())\n",
    "\t\t\t\t\tmeasure = measure.group()\n",
    "\t\t\t\t\t# print(key,[w.lower() for w in set(values)|set([key]) if w.lower() in feat.lower()], measure)\n",
    "\t\t\t\t\t\n",
    "\t\t\t\t\tif key in features:\n",
    "\t\t\t\t\t\tfeatures[key].append(measure)\n",
    "\t\t\t\t\telse:\n",
    "\t\t\t\t\t\tfeatures[key] = [measure]\n",
    "\t\t\t# primary features, if key is in petiole, anther, pedicel, calix\n",
    "\treturn pd.Series(features)"
   ]
  },
  {
   "cell_type": "code",
   "execution_count": 51,
   "metadata": {},
   "outputs": [
    {
     "data": {
      "text/html": [
       "<div>\n",
       "<style scoped>\n",
       "    .dataframe tbody tr th:only-of-type {\n",
       "        vertical-align: middle;\n",
       "    }\n",
       "\n",
       "    .dataframe tbody tr th {\n",
       "        vertical-align: top;\n",
       "    }\n",
       "\n",
       "    .dataframe thead th {\n",
       "        text-align: right;\n",
       "    }\n",
       "</style>\n",
       "<table border=\"1\" class=\"dataframe\">\n",
       "  <thead>\n",
       "    <tr style=\"text-align: right;\">\n",
       "      <th></th>\n",
       "      <th>PetioleSize</th>\n",
       "      <th>LeafSize</th>\n",
       "      <th>FlowerSize</th>\n",
       "      <th>PedicelSize</th>\n",
       "      <th>CorollaSize</th>\n",
       "      <th>TubeSize</th>\n",
       "      <th>SeedSize</th>\n",
       "      <th>FruitSize</th>\n",
       "    </tr>\n",
       "  </thead>\n",
       "  <tbody>\n",
       "    <tr>\n",
       "      <th>0</th>\n",
       "      <td>[15-22mm]</td>\n",
       "      <td>[50-120x10-20mm]</td>\n",
       "      <td>[8-12mm]</td>\n",
       "      <td>[10-18mm]</td>\n",
       "      <td>[]</td>\n",
       "      <td>[2.2mm, 2.9-3.1mm]</td>\n",
       "      <td>[1.7-2.5mm]</td>\n",
       "      <td>[3-4mm]</td>\n",
       "    </tr>\n",
       "  </tbody>\n",
       "</table>\n",
       "</div>"
      ],
      "text/plain": [
       "  PetioleSize          LeafSize FlowerSize PedicelSize CorollaSize   \n",
       "0   [15-22mm]  [50-120x10-20mm]   [8-12mm]   [10-18mm]          []  \\\n",
       "\n",
       "             TubeSize     SeedSize FruitSize  \n",
       "0  [2.2mm, 2.9-3.1mm]  [1.7-2.5mm]   [3-4mm]  "
      ]
     },
     "execution_count": 51,
     "metadata": {},
     "output_type": "execute_result"
    }
   ],
   "source": [
    "sp = 'olearia-ilicifolia'\n",
    "species[species.index.get_loc(sp): species.index.get_loc(sp) +1].Features.apply(string_preprocessing).str.split(r'(?<!\\sc)[.;]\\s|;').reset_index().apply(lambda x: extract_features(x.SpeciesName, x.Features), axis=1)"
   ]
  },
  {
   "cell_type": "code",
   "execution_count": 64,
   "metadata": {},
   "outputs": [
    {
     "name": "stdout",
     "output_type": "stream",
     "text": [
      "8-12mm\n",
      "10-12mm\n"
     ]
    }
   ],
   "source": [
    "for f in re.finditer(full_regex, 'Capitulum 8-12mm  long, 10-12mm  diameter'):\n",
    "\tprint(f.group())"
   ]
  },
  {
   "cell_type": "code",
   "execution_count": 58,
   "metadata": {},
   "outputs": [
    {
     "data": {
      "text/plain": [
       "['Much branched shrubs to small trees up to 6x3m , usually forming a domed canopy unless growing in dense scrub',\n",
       " 'Trunk and lower branches covered in orange-grey bark,mature bark often semi-detached and peeling from base upwards in long strips',\n",
       " 'Branchesmany to few depending on conditions',\n",
       " 'branchlets pliant, initially pubescent, becoming glabrous with age, leaves usually clustered toward apices',\n",
       " 'Leaves long persistent, coriaceous borne on stout petioles 15-22mm  long',\n",
       " 'lamina 50-120x10-20mm , linear-oblong to lanceolate',\n",
       " 'apices acute, acuminate, bases truncate,margins undulose, sharply serrate-dentate, teeth spinescent, adaxial surface dark green to fulvous grey-green',\n",
       " '± glabrous immature and expanding leaves sparsely covered in appressed, fulvous-white tomentum, abaxially paler, finely clad in appressed fulvous-white tomentum, tomentum tending to shed with age',\n",
       " 'Inflorescence a lateral corymbose panicle, bearing 8-15 capitula',\n",
       " 'Capitulum 8-12mm  long, 10-12mm  diameter',\n",
       " 'Pedicels 10-18mm  long, finely invested in fulvous-white to white appressed hairs',\n",
       " 'Involucre cylindrical, 2-seriate, outer abaxially villous, inner apically ciliate',\n",
       " 'Florets 15-20',\n",
       " 'Ray-florets 10-12 pisillate, corolla glabrous, tube 2.2mm  long, ligulate with deflexed white limb 3.1-4.2x1.0-1.3mm , 1-2lobed at apex',\n",
       " 'Disc florets 5-8 per capitulum, hermaphrodite, corolla glabrous, yellow or pink, tube 2.9-3.1mm  long, lobes 5, 1.2-1.5x0.5mm ',\n",
       " 'Seeds cypselae 1.7-2.5mm  long, brown, narrowly oblong to narrowly oblong-elliptic or narrowly obovate-elliptic, longitudinally ribbed 3-6x, ribs raised',\n",
       " 'pappus caducous, 3-4mm  long, fulvous, finely barbellate.']"
      ]
     },
     "execution_count": 58,
     "metadata": {},
     "output_type": "execute_result"
    }
   ],
   "source": [
    "species[species.index.get_loc(sp): species.index.get_loc(sp) +1].Features.apply(string_preprocessing).str.split(r'(?<!\\sc)[.;]\\s|;')[sp]#.reset_index().apply(lambda x: extract_features(x.SpeciesName, x.Features), axis=1)"
   ]
  },
  {
   "cell_type": "code",
   "execution_count": 11,
   "metadata": {},
   "outputs": [],
   "source": [
    "def string_preprocessing(s):\n",
    "\ts = s.replace('\\xa0', ' ').replace('×', 'x').replace('–', '-') # remove non-breaking space and replace multiplication sign with x\n",
    "\ts = re.sub(fr'-?\\(-?{number}-?\\)-?', '', s) # remove all parentesis surrounding a number (e.g. (-1.5))\n",
    "\ts = s.replace('--', '-').replace('-.', '-').replace('..', '.')\n",
    "\ts = s.replace('(', '').replace(')', '')\n",
    "\ts = re.sub(r'\\s(c|ca|o)\\.', ' ', s) # remove all ' c.'\n",
    "\ts = re.sub(r'\\s+(?=[cmd]?m)', '', s) # remove all spaces before measures (mm, cm, dm, m, these strings only if padded by a space)\n",
    "\ts = re.sub(r'\\s*-\\s*', '-', s) # remove spaces around hyphens\n",
    "\ts = re.sub(r'(?<=\\d)\\s*\\.(?=\\d)', '.', s) # remove spaces before dot if followed and preceded by a number\n",
    "\ts = re.sub(r'(?<=\\s)\\.(?=\\d)', '0.', s) # add a 0 before a dot if it is preceded by a space and a \"not number\" and followed by a number (e.g. foo .5 --> foo 0.5)\n",
    "\ts = re.sub(r'(?<=[\\dm])\\s*x\\s*(?=\\d+)', 'x', s) # remove spaces around x in formulas\n",
    "\t# now all measures are supposed to have no spaces between number and unit and spaces around them\n",
    "\ts = re.sub(rf'(?<=\\d)({unit})(?!\\s*x)', r'\\1 ', s) # fix situation in which a measure is not followed by a space, in the case, add that space\n",
    "\ts = re.sub(r'(?<![\\d\\sx\\.-])(\\d)', r' \\1', s) # fix the situation in which a measure (the whole number and measure) is not preceded by a space. In the case, add a space before the measure\n",
    "\ts = re.sub(r'(?<=\\d\\.\\d+)(\\.\\d?)', '', s) # fix the error in which there is a doubled dot in a number (e.g. 1.5.2), in the case, remove the second dot and the eventual numbers after it\n",
    "\ts = re.sub(r'(?<=[a-ln-z])-(?=\\d)', ' ', s) # remove all '-' preceded by a letter (different from m) and followed by a number (e.g. to-250mm --> to 250mm)\n",
    "\ts = re.sub(r'(?<![a-z])(l|I)(?=[\\s\\.-]|\\d)', '1', s) # replace all 'l' or \"I\" characters which should be '1' (e.g. l.5 --> 1.5). This should be followed by a space, a dot, a hyphen, or a number and not preceded by a letter\n",
    "\ts = re.sub('|'.join(words_to_remove), '', s, flags=re.IGNORECASE) # remove words to remove\n",
    "\treturn s\n",
    "\n",
    "features = species.Features.apply(string_preprocessing).str.split(r'(?<!\\sc)[.;]\\s|;').reset_index().apply(lambda x: extract_features(x.SpeciesName, x.Features), axis=1)\n",
    "features = features.applymap(lambda x: '; '.join(x) if not isinstance(x, float) else x)\n",
    "features.index = species.index"
   ]
  },
  {
   "cell_type": "code",
   "execution_count": 28,
   "metadata": {},
   "outputs": [
    {
     "data": {
      "text/plain": [
       "SpeciesName\n",
       "abrotanella-rosulata                                                        \n",
       "abrotanella-spathulata                                                      \n",
       "aciphylla-dieffenbachii    Tufted, dioecious, perennial with extremely st...\n",
       "aciphylla-traversii        Stout, tufted, dioecious ? gynodioecious peren...\n",
       "astelia-chathamica         Robust tufted plant. Leaves 60-200x4-10cm ., k...\n",
       "                                                 ...                        \n",
       "dacrydium-cupressinum      Dioecious conifer 35m  tall. Adult trees with ...\n",
       "podocarpus-acutifolius     Shrub or small tree up to 15m  tall, Trunk oft...\n",
       "podocarpus-cunninghamii                                                     \n",
       "podocarpus-nivalis         Prostrate to suberect, spreading woody shrub f...\n",
       "podocarpus-totara                                                           \n",
       "Name: Features, Length: 2014, dtype: object"
      ]
     },
     "execution_count": 28,
     "metadata": {},
     "output_type": "execute_result"
    }
   ],
   "source": [
    "species.Features.apply(string_preprocessing)"
   ]
  },
  {
   "cell_type": "code",
   "execution_count": 49,
   "metadata": {},
   "outputs": [],
   "source": [
    "features_stored = pd.read_csv('processed_features.csv', index_col=0)"
   ]
  },
  {
   "cell_type": "code",
   "execution_count": 30,
   "metadata": {},
   "outputs": [],
   "source": [
    "features.join(species.Features).to_excel('features.xlsx')"
   ]
  },
  {
   "cell_type": "markdown",
   "metadata": {},
   "source": [
    "**TODO:**\n",
    "foglie: se non c'è giovane e adulto: inserire lo stesso in entrambi"
   ]
  },
  {
   "cell_type": "markdown",
   "metadata": {},
   "source": [
    "### IDEA\n",
    "\n",
    "- Dataset con valori mancanti\n",
    "- Imputing missing values (dataset per mainland + dataset per isola, ora solo mainland?)\n",
    "- Confronto distribuzioni isola con mainland\n",
    "\n",
    "altrimenti\n",
    "- Metric uncoupling"
   ]
  },
  {
   "cell_type": "markdown",
   "metadata": {},
   "source": [
    "## Analysis"
   ]
  },
  {
   "cell_type": "code",
   "execution_count": null,
   "metadata": {},
   "outputs": [],
   "source": [
    "print(f\"Species to remove\")."
   ]
  },
  {
   "cell_type": "code",
   "execution_count": 3,
   "metadata": {},
   "outputs": [],
   "source": [
    "processed_features = pd.read_csv('processed_features.csv', index_col=0)"
   ]
  },
  {
   "cell_type": "code",
   "execution_count": 6,
   "metadata": {},
   "outputs": [
    {
     "data": {
      "text/plain": [
       "AntherSize           0.800894\n",
       "CalyxSize            0.850546\n",
       "CorollaSize          0.914598\n",
       "FlowerSize           0.722443\n",
       "FruitSize            0.710526\n",
       "Glumes               0.961271\n",
       "InflorescenceSize    0.662860\n",
       "LeafSize             0.524330\n",
       "Lemma                0.956802\n",
       "Lodicules            0.975174\n",
       "OvarySize            0.856008\n",
       "Palea                0.972195\n",
       "PedicelSize          0.790467\n",
       "PetalSize            0.893247\n",
       "PetioleSize          0.751241\n",
       "SeedSize             0.720953\n",
       "StamenSize           0.960775\n",
       "Stature              0.763158\n",
       "StigmaSize           0.944389\n",
       "StyleSize            0.848064\n",
       "TubeSize             0.900199\n",
       "dtype: float64"
      ]
     },
     "execution_count": 6,
     "metadata": {},
     "output_type": "execute_result"
    }
   ],
   "source": [
    "processed_features.isna().sum() / processed_features.shape[0]"
   ]
  },
  {
   "cell_type": "code",
   "execution_count": 10,
   "metadata": {},
   "outputs": [
    {
     "data": {
      "text/plain": [
       "<Axes: >"
      ]
     },
     "execution_count": 10,
     "metadata": {},
     "output_type": "execute_result"
    },
    {
     "data": {
      "image/png": "[encoded data removed]",
      "text/plain": [
       "<Figure size 432x288 with 1 Axes>"
      ]
     },
     "metadata": {
      "needs_background": "light"
     },
     "output_type": "display_data"
    }
   ],
   "source": [
    "(processed_features.isna().sum(axis=1) / processed_features.shape[1]).sort_values(ascending=False).hist()"
   ]
  },
  {
   "cell_type": "markdown",
   "metadata": {},
   "source": [
    "# Graph features"
   ]
  },
  {
   "cell_type": "code",
   "execution_count": 58,
   "metadata": {},
   "outputs": [],
   "source": [
    "for rec in SeqIO.parse(filename, \"nexus\"):\n",
    "\tprint(rec.id)\n",
    "\tprint(repr(rec.seq))\n",
    "\tprint(len(rec))"
   ]
  },
  {
   "cell_type": "code",
   "execution_count": 62,
   "metadata": {},
   "outputs": [],
   "source": [
    "from Bio import Phylo\n",
    "# load graph in format nexus.nex:\n",
    "# ((((((((((((((((((((((Centipeda_cunninghamii:2.334467,Centipeda_minima:2.334467):0.095721,Centipeda_aotearoana:2.430188):0.012004,Centipeda_elatinoides:2.442192):18.460732,(((((Helichrysum_dimorphum:1.556045,Helichrysum_depressum:1.556045,Helichrysum_coralloides:1.556045,(Helichrysum_filicaule:0.528987,Helichrysum_lanceolatum:0.528987):1.027059):0.528609,(Pseudognaphalium_luteoalbum:0.274923,Pseudognaphalium_ephemerum:0.274923):1.809731):2.322955,(((Raoulia_subulata:1.375638,Raoulia_subsericea:1.375638,Raoulia_petriensis:1.375638,Raoulia_parkii:1.375638,Raoulia_haastii:1.375638,Raoulia_cinerea:1.375638,Raoulia_bryoides:1.375638,Raoulia_beauverdii:1.375638,Raoulia_apicinigra:1.375638,Raoulia_albosericea:1.375638,(((((Raoulia_buchananii:0.002972,Raoulia_goyenii:0.002972):0.348722,Raoulia_eximia:0.351694):0.101627,Raoulia_rubra:0.453321):0.21017,Raoulia_youngii:0.663491):0.431453,(((Raoulia_glabra:0.373744,Raoulia_australis:0.373744):0.111268,(Raoulia_monroi:0.246199,Raoulia_hookeri:0.246199):0.238813):0.489619,Raoulia_mammillaris:0.974631):0.120313):0.280695,(Raoulia_grandiflora:1.300999,Raoulia_hectorii:1.300999):0.07464):0.141717,(Rachelia_glaria:1.370926,Ewartiothamnus_sinclairii:1.370926):0.14643):0.008985,((...\n",
    "\n",
    "# load graph in format nexus.nex:\n",
    "filename = \"allNZspecies.nexus.nex\"\n",
    "tree = Phylo.read(filename, \"newick\")"
   ]
  },
  {
   "cell_type": "code",
   "execution_count": 70,
   "metadata": {},
   "outputs": [
    {
     "data": {
      "text/plain": [
       "<Figure size 720x1800 with 0 Axes>"
      ]
     },
     "metadata": {},
     "output_type": "display_data"
    },
    {
     "data": {
      "image/png": "[encoded data removed]",
      "text/plain": [
       "<Figure size 432x288 with 1 Axes>"
      ]
     },
     "metadata": {
      "needs_background": "light"
     },
     "output_type": "display_data"
    }
   ],
   "source": [
    "import matplotlib.pyplot as plt\n",
    "\n",
    "fig = plt.figure(figsize=(10, 25))\n",
    "Phylo.draw(tree, do_show=False)"
   ]
  }
 ],
 "metadata": {
  "kernelspec": {
   "display_name": "base",
   "language": "python",
   "name": "python3"
  },
  "language_info": {
   "codemirror_mode": {
    "name": "ipython",
    "version": 3
   },
   "file_extension": ".py",
   "mimetype": "text/x-python",
   "name": "python",
   "nbconvert_exporter": "python",
   "pygments_lexer": "ipython3",
   "version": "3.10.4"
  }
 },
 "nbformat": 4,
 "nbformat_minor": 2
}
