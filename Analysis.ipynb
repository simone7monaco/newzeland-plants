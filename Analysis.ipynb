{
 "cells": [
  {
   "cell_type": "code",
   "execution_count": 7,
   "metadata": {},
   "outputs": [],
   "source": [
    "import numpy as np\n",
    "import pandas as pd\n",
    "# import re\n",
    "import regex as re\n",
    "\n",
    "species = pd.read_excel('plant_info.xlsx').set_index('SpeciesName')\n",
    "species['Features'] = species['Features'].fillna('')"
   ]
  },
  {
   "cell_type": "markdown",
   "metadata": {},
   "source": [
    "# Tabular features"
   ]
  },
  {
   "cell_type": "markdown",
   "metadata": {},
   "source": [
    "## Produce"
   ]
  },
  {
   "cell_type": "code",
   "execution_count": 8,
   "metadata": {},
   "outputs": [],
   "source": [
    "extra_features_df = pd.read_excel(\"Words before and after traits_v2.xlsx\", sheet_name=\"Words\", skiprows=1)\n",
    "extra_features_df = extra_features_df[:extra_features_df[extra_features_df.Stature.eq('Following words')].index[0]].applymap(lambda s:s.lower().strip() if type(s) == str else s)\n",
    "\n",
    "extra_features = extra_features_df.to_dict('list')\n",
    "extra_features = {k.title().replace(' ', ''): [x for x in v if str(x) != 'nan'] for k, v in extra_features.items()}"
   ]
  },
  {
   "cell_type": "code",
   "execution_count": 9,
   "metadata": {},
   "outputs": [
    {
     "name": "stdout",
     "output_type": "stream",
     "text": [
      "{'cypselae', 'achenes', 'stigma-styles', 'cypselas'}\n"
     ]
    }
   ],
   "source": [
    "all_words = extra_features_df.to_numpy().flatten()\n",
    "# duplicated words\n",
    "duplicate_words = []\n",
    "for word in set(all_words):\n",
    "\tif (all_words == word).sum() > 1:\n",
    "\t\tduplicate_words.append(word)\n",
    "print(set(duplicate_words).difference({'achene', 'cypsela', 'floret', 'florets', 'stigma-style'}))"
   ]
  },
  {
   "cell_type": "code",
   "execution_count": 10,
   "metadata": {},
   "outputs": [],
   "source": [
    "words_to_remove = []\n",
    "# remove all words starting with petal, flower, fruit, seed with a letter after different from s. Select the entire word up to the first space or punctuation (,;.) excluded\n",
    "reg_exp = r'(petal|flower|fruit|seed)[a-rt-z]+[^\\s;,.\\)]'\n",
    "for i, row in species.Features.items():\n",
    "\t# print(row)\n",
    "\tfor word in re.finditer(reg_exp, row):\n",
    "\t\twords_to_remove.append(word.group())\n",
    "\n",
    "words_to_remove = list(set(words_to_remove))"
   ]
  },
  {
   "cell_type": "code",
   "execution_count": 11,
   "metadata": {},
   "outputs": [],
   "source": [
    "unit = '[m|c|d]?m'\n",
    "# unit = '[m|c|d]m|(?<=\\d)m(?!m)'\n",
    "# 150–400x100–300mm\n",
    "number = r\"(\\d+\\.?\\d*)\"\n",
    "# full_regex = rf\"(({number}-)?{number}{unit}?x)?{number}(-{number})?{unit}\" ## Supposed to be correct\n",
    "\"\"\"anomaies:\n",
    "\t0.05-0.35-1mx1.5-3-6mm\n",
    "\"\"\"\n",
    "full_regex = rf\"({number}(-{number})?(-{number})?{unit}?x)?({number}(-{number})?(-{number})?{unit}?x)?{number}(-{number})?(-{number})?(-{number})?{unit}\""
   ]
  },
  {
   "cell_type": "code",
   "execution_count": 19,
   "metadata": {},
   "outputs": [],
   "source": [
    "tmp = []\n",
    "anomalies = set() # species with anomalies\n",
    "\n",
    "def extract_features(i, feats:list, wordmeasure_distance=10):\n",
    "\tfeatures = {}\n",
    "\tfor feat in feats:\n",
    "\t\tif len(feat) < 1:\n",
    "\t\t\tcontinue\n",
    "\t\tfeat = feat.replace(',', ' ')\n",
    "\t\tmeasures = re.finditer(full_regex, feat)\n",
    "\t\tfor measure in measures:\n",
    "\t\t\tfound = None\n",
    "\t\t\t# measure_position = len(re.findall(r'\\s+', feats[0][:measure.span()[0]]))\n",
    "\t\t\tfor key, values in extra_features.items():\n",
    "\t\t\t\tfeat = feat[:-1] if feat[-1] in ['.', ';'] else feat # remove any of .; at the end of the sentence\n",
    "\t\t\t\tmatched_word = list(re.finditer( r'\\b('+ '|'.join([w for w in set(values)]) + r')\\b', feat.lower()))\n",
    "\t\t\t\tif any(matched_word):\n",
    "\t\t\t\t\tif key != 'Stature': # TODO: Caso up to 3m, petiole 2mm???\n",
    "\t\t\t\t\t\tmatched_word = [w for w in matched_word if w.span()[0] < measure.span()[0]]\n",
    "\t\t\t\t\t\tif not any(matched_word):\n",
    "\t\t\t\t\t\t\tcontinue # if not stature and measure appears before the word, skip\n",
    "\t\t\t\t\tmatched_word = sorted(matched_word, key=lambda word: word.span()[1] - measure.span()[0])[0]\n",
    "\n",
    "\t\t\t\t\t# Priorities: Stature > ...\n",
    "\t\t\t\t\tif found and found[0] == 'Stature':\n",
    "\t\t\t\t\t\tcontinue\n",
    "\t\t\t\t\tif found and found[0] in ['StamenSize', 'AntherSize', 'StigmaSize', 'StyleSize', 'OvarySize', 'PetioleSize', 'PedicelSize'] and key in ['FlowerSize', 'PetalSize']:\n",
    "\t\t\t\t\t\tcontinue # Place in stamen size, anther size, stygma size, style size, ovary size respectively, ignoring flower and petal size\n",
    "\t\t\t\t\tif found and found[0] =='InflorescenceSize' and key == 'FlowerSize':\n",
    "\t\t\t\t\t\tcontinue # if inflorencence was already found, skip flower (e.g., \"flower stem\" associated with inflorescence only)\n",
    "\t\t\t\t\tif found and found[0] == 'SeedSize' and key=='FruitSize' and not any([w in feat.lower() for w in ['achene', 'cypsela']]):\n",
    "\t\t\t\t\t\tcontinue # If a key word for seed size and e.g. \"per fruit\" are contained in the string: Place the values in seed size only\n",
    "\t\t\t\t\tif found and found[0] == 'FruitSize' and key!='SeedSize': # the last condition should be redundant\n",
    "\t\t\t\t\t\tcontinue # word for fruit size is used, except cypsela or achene: Ignore other words and place in fruit size\n",
    "\n",
    "\t\t\t\t\tthis_distance = abs(matched_word.span()[1] - measure.span()[0])\n",
    "\t\t\t\t\t# this_distance = abs(word_match_position - measure_position)\n",
    "\t\t\t\t\tif found:\n",
    "\t\t\t\t\t\tif (any([w in feat.lower() for w in ['achene', 'cypsela']]) and {key, found[0]} == {'FruitSize', 'SeedSize'}) or\\\n",
    "\t\t\t\t\t\t   (any([w in feat.lower() for w in ['stigma-style']]) and {key, found[0]} == {'StigmaSize', 'StyleSize'}) or\\\n",
    "\t\t\t\t\t\t   (any([w in feat.lower() for w in ['floret']]) and {key, found[0]} == {'RayFloretsSize', 'DiskFloretSize'}):\n",
    "\t\t\t\t\t\t\tpass\n",
    "\t\t\t\t\t\t\t# print(f'OK>> Multiple features found ({found}, {key}) in \"{feat}\"')\n",
    "\t\t\t\t\t\telse:\n",
    "\t\t\t\t\t\t\tif this_distance >= found[1]:\n",
    "\t\t\t\t\t\t\t\tcontinue\n",
    "\t\t\t\t\t\t\telse:\n",
    "\t\t\t\t\t\t\t\t# print(found, key, matched_word, measure)\n",
    "\t\t\t\t\t\t\t\tfeatures[found[0]].remove(found[2])\n",
    "\t\t\t\t\t\t\tanomalies.add(i)\n",
    "\t\t\t\t\tfound = (key, this_distance, measure.group())\n",
    "\t\t\t\t\t\n",
    "\t\t\t\t\tif key in features:\n",
    "\t\t\t\t\t\tfeatures[key].append(measure.group())\n",
    "\t\t\t\t\telse:\n",
    "\t\t\t\t\t\tfeatures[key] = [measure.group()]\n",
    "\treturn pd.Series(features)"
   ]
  },
  {
   "cell_type": "code",
   "execution_count": 17,
   "metadata": {},
   "outputs": [],
   "source": [
    "def string_preprocessing(s):\n",
    "\ts = s.replace('\\xa0', ' ').replace('×', 'x').replace('–', '-').replace('·', '.') # remove non-breaking space and replace multiplication sign with x\n",
    "\ts = re.sub(r'(?<=xcluding)\\s+[\\w-]+', ' ', s) # remove each word following \"excluding\" (Mericarps (excluding style) 2.5-3.0 mm should point to \"Mericarps\")\n",
    "\ts = re.sub(fr'-?\\(-?{number}-?\\)-?', '', s) # remove all parentesis surrounding a number (e.g. (-1.5))\n",
    "\ts = s.replace('--', '-').replace('-.', '-').replace('..', '.')\n",
    "\ts = s.replace('(', '').replace(')', '')\n",
    "\ts = re.sub(r'\\s(c|ca|o)\\.', ' foo ', s) # remove all ' c.'\n",
    "\ts = re.sub(r'(?<=\\d)\\s+(?=[cmd]?m)', '', s) # remove all spaces before measures (mm, cm, dm, m, these strings only if padded by a space)\n",
    "\ts = re.sub(r'\\s*-\\s*', '-', s) # remove spaces around hyphens\n",
    "\ts = re.sub(r'(?<=\\d)\\s*\\.(?=\\d)', '.', s) # remove spaces before dot if followed and preceded by a number\n",
    "\ts = re.sub(r'(?<=\\s)\\.(?=\\d)', '0.', s) # add a 0 before a dot if it is preceded by a space and a \"not number\" and followed by a number (e.g. foo .5 --> foo 0.5)\n",
    "\ts = re.sub(r'(?<=[\\dm])\\s*x\\s*(?=\\d+)', 'x', s) # remove spaces around x in formulas\n",
    "\ts = re.sub(rf'(;\\s*)({full_regex})', r' \\2', s) # point to any ';' preceding a measure (full_regex) and remove it, without removing the measure\n",
    "\t# now all measures are supposed to have no spaces between number and unit and spaces around them\n",
    "\n",
    "\ts = re.sub(rf'(?<=\\d{unit})(\\s*long,?\\s*)(?={number}{unit})', r'x', s) # remove any 'long' after a measure (\"2 mm long X 3 mm wide\" --> \"2 mm x 3 mm wide\")\n",
    "\ts = re.sub(rf'(?<=\\d)([m|c|d]m|m(?!m))(?!x)', r'\\1 ', s) # fix situation in which a measure is not followed by a space, in the case, add that space\n",
    "\ts = re.sub(r'(?<![\\d\\sx\\.-])(\\d)', r' \\1', s) # fix the situation in which a measure (the whole number and measure) is not preceded by a space. In the case, add a space before the measure\n",
    "\ts = re.sub(rf'(?<=\\s)-(?=\\d)', '', s) # remove '-' at the beginning of a measure (e.g. -1.5 --> 1.5)\n",
    "\ts = re.sub(r'(?<=\\d\\.\\d+)(\\.\\d?)', '', s) # fix the error in which there is a doubled dot in a number (e.g. 1.5.2), in the case, remove the second dot and the eventual numbers after it\n",
    "\ts = re.sub(r'(?<=[a-ln-z])-(?=\\d)', ' ', s) # remove all '-' preceded by a letter (different from m) and followed by a number (e.g. to-250mm --> to 250mm)\n",
    "\ts = re.sub(r'(?<![a-z])(l|I)(?=[\\s\\.-]|\\d)', '1', s) # replace all 'l' or \"I\" characters which should be '1' (e.g. l.5 --> 1.5). This should be followed by a space, a dot, a hyphen, or a number and not preceded by a letter\n",
    "\treturn s"
   ]
  },
  {
   "cell_type": "code",
   "execution_count": 37,
   "metadata": {},
   "outputs": [],
   "source": [
    "features = species.Features.apply(string_preprocessing).str.split(r'(?<!\\sc)[.;]\\s|;').reset_index().apply(lambda x: extract_features(x.SpeciesName, x.Features), axis=1)\n",
    "features = features.applymap(lambda x: '; '.join(x) if not isinstance(x, float) else x)\n",
    "features.index = species.index\n",
    "features[features.notna().sum(axis=1) > 0].to_csv('processed_features.csv')"
   ]
  },
  {
   "cell_type": "markdown",
   "metadata": {},
   "source": [
    "## Analysis"
   ]
  },
  {
   "cell_type": "code",
   "execution_count": 41,
   "metadata": {},
   "outputs": [],
   "source": [
    "processed_features = pd.read_csv('processed_features.csv', index_col=0)"
   ]
  },
  {
   "cell_type": "code",
   "execution_count": 48,
   "metadata": {},
   "outputs": [
    {
     "data": {
      "text/plain": [
       "LeafSize             0.083144\n",
       "FruitSize            0.308390\n",
       "Stature              0.373394\n",
       "SeedSize             0.456538\n",
       "InflorescenceSize    0.579743\n",
       "FlowerSize           0.613757\n",
       "PetioleSize          0.662132\n",
       "AntherSize           0.678005\n",
       "PedicelSize          0.721844\n",
       "StyleSize            0.741497\n",
       "OvarySize            0.746032\n",
       "StamenSize           0.779289\n",
       "LobesSize            0.780045\n",
       "TubeSize             0.792895\n",
       "CalyxSize            0.827664\n",
       "PetalSize            0.833711\n",
       "SepalSize            0.835223\n",
       "CorollaSize          0.885865\n",
       "StigmaSize           0.894936\n",
       "UtricleSize          0.918367\n",
       "PappusSize           0.922902\n",
       "RayFloretsSize       0.933485\n",
       "DiskFloretSize       0.934240\n",
       "Lemma                0.934996\n",
       "Glumes               0.946334\n",
       "Palea                0.957672\n",
       "Lodicules            0.961451\n",
       "dtype: float64"
      ]
     },
     "execution_count": 48,
     "metadata": {},
     "output_type": "execute_result"
    }
   ],
   "source": [
    "(processed_features.isna().sum(axis=0)/len(processed_features)).sort_values()#.plot.barh(figsize=(10, 5), title='Percentage of missing values per feature')"
   ]
  },
  {
   "cell_type": "code",
   "execution_count": 52,
   "metadata": {},
   "outputs": [
    {
     "data": {
      "text/plain": [
       "<Axes: title={'center': 'Percentage of missing values per species'}, ylabel='SpeciesName'>"
      ]
     },
     "execution_count": 52,
     "metadata": {},
     "output_type": "execute_result"
    },
    {
     "data": {
      "image/png": "[encoded data removed]",
      "text/plain": [
       "<Figure size 720x360 with 1 Axes>"
      ]
     },
     "metadata": {
      "needs_background": "light"
     },
     "output_type": "display_data"
    }
   ],
   "source": [
    "(processed_features.isna().sum(axis=1)/processed_features.shape[1]).sort_values(ascending=False).head(30).plot.barh(figsize=(10, 5), title='Percentage of missing values per species')"
   ]
  },
  {
   "cell_type": "code",
   "execution_count": 66,
   "metadata": {},
   "outputs": [
    {
     "data": {
      "text/plain": [
       "110"
      ]
     },
     "execution_count": 66,
     "metadata": {},
     "output_type": "execute_result"
    }
   ],
   "source": [
    "processed_features.LeafSize.isna().sum()"
   ]
  },
  {
   "cell_type": "code",
   "execution_count": 65,
   "metadata": {},
   "outputs": [
    {
     "data": {
      "text/plain": [
       "LeafSize\n",
       "1    742\n",
       "0    392\n",
       "2    160\n",
       "3     16\n",
       "4     13\n",
       "Name: count, dtype: int64"
      ]
     },
     "execution_count": 65,
     "metadata": {},
     "output_type": "execute_result"
    }
   ],
   "source": [
    "processed_features.LeafSize.str.split(';').apply(lambda x: sum(['x' in y for y in x]) if not isinstance(x, float) else 0).value_counts()"
   ]
  },
  {
   "cell_type": "code",
   "execution_count": 28,
   "metadata": {},
   "outputs": [
    {
     "name": "stdout",
     "output_type": "stream",
     "text": [
      "['Perennial rosette-leaved herb', 'Rosette leaves 10-20x4-5mm , lamina obovate, obtuse, petiole short, broad', 'hairs on upper surface crowded, long, soft and silky, those of under-surface sparse, glabrate', 'Lateral branches numerous, decumbent, up to 70mm  long, occasionally branched, internodes usually < leaves', 'Stem-leaves similar to rosette-leaves near base, becoming sessile above, bracts foo 5x2mm ', 'Cymes usually simple, few-, bracteate except at extreme tip, internodes, except the lowest, very short', 'pedicels foo 1mm  long', 'Calyx foo 3mm  long, lobes > 1/ 2 length, broad and subacute', 'hairs mostly very long and soft, a few short and closely appressed', 'Corolla blue occasionally white, 2-3mm  diam, tube cylindric, 2mm  long, lobes 1.0-1.5mm  long, ± parallel-sided, narrowing above to obtuse tip', 'filaments very short, anthers < 1mm , wholly included, tips not reaching scales', 'style < calyx, stigma clavate', 'Nutlet 1.1-1.4x0.7-1.0mm , ovate, black.']\n",
      "('CorollaSize', 55, '2mm') TubeSize <regex.Match object; span=(46, 50), match='tube'> <regex.Match object; span=(62, 65), match='2mm'>\n",
      "('CorollaSize', 72, '1.0-1.5mm') TubeSize <regex.Match object; span=(46, 50), match='tube'> <regex.Match object; span=(79, 88), match='1.0-1.5mm'>\n",
      "('TubeSize', 29, '1.0-1.5mm') LobesSize <regex.Match object; span=(73, 78), match='lobes'> <regex.Match object; span=(79, 88), match='1.0-1.5mm'>\n",
      "('StamenSize', 23, '1mm') AntherSize <regex.Match object; span=(22, 29), match='anthers'> <regex.Match object; span=(32, 35), match='1mm'>\n"
     ]
    },
    {
     "data": {
      "text/html": [
       "<div>\n",
       "<style scoped>\n",
       "    .dataframe tbody tr th:only-of-type {\n",
       "        vertical-align: middle;\n",
       "    }\n",
       "\n",
       "    .dataframe tbody tr th {\n",
       "        vertical-align: top;\n",
       "    }\n",
       "\n",
       "    .dataframe thead th {\n",
       "        text-align: right;\n",
       "    }\n",
       "</style>\n",
       "<table border=\"1\" class=\"dataframe\">\n",
       "  <thead>\n",
       "    <tr style=\"text-align: right;\">\n",
       "      <th></th>\n",
       "      <th>LeafSize</th>\n",
       "      <th>PedicelSize</th>\n",
       "      <th>CalyxSize</th>\n",
       "      <th>CorollaSize</th>\n",
       "      <th>TubeSize</th>\n",
       "      <th>LobesSize</th>\n",
       "      <th>StamenSize</th>\n",
       "      <th>AntherSize</th>\n",
       "      <th>FruitSize</th>\n",
       "    </tr>\n",
       "  </thead>\n",
       "  <tbody>\n",
       "    <tr>\n",
       "      <th>0</th>\n",
       "      <td>[10-20x4-5mm, 5x2mm]</td>\n",
       "      <td>[1mm]</td>\n",
       "      <td>[3mm]</td>\n",
       "      <td>[2-3mm]</td>\n",
       "      <td>[2mm]</td>\n",
       "      <td>[1.0-1.5mm]</td>\n",
       "      <td>[]</td>\n",
       "      <td>[1mm]</td>\n",
       "      <td>[1.1-1.4x0.7-1.0mm]</td>\n",
       "    </tr>\n",
       "  </tbody>\n",
       "</table>\n",
       "</div>"
      ],
      "text/plain": [
       "               LeafSize PedicelSize CalyxSize CorollaSize TubeSize   \n",
       "0  [10-20x4-5mm, 5x2mm]       [1mm]     [3mm]     [2-3mm]    [2mm]  \\\n",
       "\n",
       "     LobesSize StamenSize AntherSize            FruitSize  \n",
       "0  [1.0-1.5mm]         []      [1mm]  [1.1-1.4x0.7-1.0mm]  "
      ]
     },
     "execution_count": 28,
     "metadata": {},
     "output_type": "execute_result"
    }
   ],
   "source": [
    "sp = 'myosotis-antarctica'\n",
    "ft = species.iloc[species.index.get_loc(sp):species.index.get_loc(sp)+1].Features\n",
    "print(ft.apply(string_preprocessing).str.split(r'(?<!\\sc)[.;]\\s|;')[0])\n",
    "ft.apply(string_preprocessing).str.split(r'(?<!\\sc)[.;]\\s|;').reset_index().apply(lambda x: extract_features(x.SpeciesName, x.Features), axis=1)"
   ]
  },
  {
   "cell_type": "markdown",
   "metadata": {},
   "source": [
    "### IDEA\n",
    "\n",
    "- Dataset con valori mancanti\n",
    "- Imputing missing values (dataset per mainland + dataset per isola, ora solo mainland?)\n",
    "- Confronto distribuzioni isola con mainland\n",
    "\n",
    "altrimenti\n",
    "- Metric uncoupling"
   ]
  },
  {
   "cell_type": "code",
   "execution_count": 6,
   "metadata": {},
   "outputs": [
    {
     "data": {
      "text/plain": [
       "AntherSize           0.800894\n",
       "CalyxSize            0.850546\n",
       "CorollaSize          0.914598\n",
       "FlowerSize           0.722443\n",
       "FruitSize            0.710526\n",
       "Glumes               0.961271\n",
       "InflorescenceSize    0.662860\n",
       "LeafSize             0.524330\n",
       "Lemma                0.956802\n",
       "Lodicules            0.975174\n",
       "OvarySize            0.856008\n",
       "Palea                0.972195\n",
       "PedicelSize          0.790467\n",
       "PetalSize            0.893247\n",
       "PetioleSize          0.751241\n",
       "SeedSize             0.720953\n",
       "StamenSize           0.960775\n",
       "Stature              0.763158\n",
       "StigmaSize           0.944389\n",
       "StyleSize            0.848064\n",
       "TubeSize             0.900199\n",
       "dtype: float64"
      ]
     },
     "execution_count": 6,
     "metadata": {},
     "output_type": "execute_result"
    }
   ],
   "source": [
    "processed_features.isna().sum() / processed_features.shape[0]"
   ]
  },
  {
   "cell_type": "code",
   "execution_count": 10,
   "metadata": {},
   "outputs": [
    {
     "data": {
      "text/plain": [
       "<Axes: >"
      ]
     },
     "execution_count": 10,
     "metadata": {},
     "output_type": "execute_result"
    },
    {
     "data": {
      "image/png": "[encoded data removed]",
      "text/plain": [
       "<Figure size 432x288 with 1 Axes>"
      ]
     },
     "metadata": {
      "needs_background": "light"
     },
     "output_type": "display_data"
    }
   ],
   "source": [
    "(processed_features.isna().sum(axis=1) / processed_features.shape[1]).sort_values(ascending=False).hist()"
   ]
  },
  {
   "cell_type": "markdown",
   "metadata": {},
   "source": [
    "# Graph features"
   ]
  },
  {
   "cell_type": "code",
   "execution_count": 58,
   "metadata": {},
   "outputs": [],
   "source": [
    "for rec in SeqIO.parse(filename, \"nexus\"):\n",
    "\tprint(rec.id)\n",
    "\tprint(repr(rec.seq))\n",
    "\tprint(len(rec))"
   ]
  },
  {
   "cell_type": "code",
   "execution_count": 62,
   "metadata": {},
   "outputs": [],
   "source": [
    "from Bio import Phylo\n",
    "# load graph in format nexus.nex:\n",
    "# ((((((((((((((((((((((Centipeda_cunninghamii:2.334467,Centipeda_minima:2.334467):0.095721,Centipeda_aotearoana:2.430188):0.012004,Centipeda_elatinoides:2.442192):18.460732,(((((Helichrysum_dimorphum:1.556045,Helichrysum_depressum:1.556045,Helichrysum_coralloides:1.556045,(Helichrysum_filicaule:0.528987,Helichrysum_lanceolatum:0.528987):1.027059):0.528609,(Pseudognaphalium_luteoalbum:0.274923,Pseudognaphalium_ephemerum:0.274923):1.809731):2.322955,(((Raoulia_subulata:1.375638,Raoulia_subsericea:1.375638,Raoulia_petriensis:1.375638,Raoulia_parkii:1.375638,Raoulia_haastii:1.375638,Raoulia_cinerea:1.375638,Raoulia_bryoides:1.375638,Raoulia_beauverdii:1.375638,Raoulia_apicinigra:1.375638,Raoulia_albosericea:1.375638,(((((Raoulia_buchananii:0.002972,Raoulia_goyenii:0.002972):0.348722,Raoulia_eximia:0.351694):0.101627,Raoulia_rubra:0.453321):0.21017,Raoulia_youngii:0.663491):0.431453,(((Raoulia_glabra:0.373744,Raoulia_australis:0.373744):0.111268,(Raoulia_monroi:0.246199,Raoulia_hookeri:0.246199):0.238813):0.489619,Raoulia_mammillaris:0.974631):0.120313):0.280695,(Raoulia_grandiflora:1.300999,Raoulia_hectorii:1.300999):0.07464):0.141717,(Rachelia_glaria:1.370926,Ewartiothamnus_sinclairii:1.370926):0.14643):0.008985,((...\n",
    "\n",
    "# load graph in format nexus.nex:\n",
    "filename = \"allNZspecies.nexus.nex\"\n",
    "tree = Phylo.read(filename, \"newick\")"
   ]
  },
  {
   "cell_type": "markdown",
   "metadata": {},
   "source": [
    "**Distanza come lunghezza dei rami**"
   ]
  },
  {
   "cell_type": "code",
   "execution_count": 70,
   "metadata": {},
   "outputs": [
    {
     "data": {
      "text/plain": [
       "<Figure size 720x1800 with 0 Axes>"
      ]
     },
     "metadata": {},
     "output_type": "display_data"
    },
    {
     "data": {
      "image/png": "[encoded data removed]",
      "text/plain": [
       "<Figure size 432x288 with 1 Axes>"
      ]
     },
     "metadata": {
      "needs_background": "light"
     },
     "output_type": "display_data"
    }
   ],
   "source": [
    "import matplotlib.pyplot as plt\n",
    "\n",
    "fig = plt.figure(figsize=(10, 25))\n",
    "Phylo.draw(tree, do_show=False)"
   ]
  },
  {
   "cell_type": "markdown",
   "metadata": {},
   "source": [
    "# Images\n",
    "\n",
    "_**NOTE:** I don’t know how to help with that package (sorry!) but just a related point:\n",
    "If you’re planning to use iNat data for a publication of some sort, the preferred route of access is through GBIF which will give you a citeable doi for the dataset._\n",
    "\n",
    "_Sometimes this isn’t an option if the dataset that you want contains records that aren’t on GBIF (like casual observations, which it looks like you may be wanting), but thought it worth a mention._"
   ]
  },
  {
   "cell_type": "code",
   "execution_count": 2,
   "metadata": {},
   "outputs": [],
   "source": [
    "photos = pd.read_csv('inaturalist-open-data-20231027/photos.csv')"
   ]
  },
  {
   "cell_type": "code",
   "execution_count": 17,
   "metadata": {},
   "outputs": [],
   "source": [
    "from pyinaturalist import get_taxa, pprint, Observation\n",
    "import pyinaturalist as pi"
   ]
  },
  {
   "cell_type": "code",
   "execution_count": 40,
   "metadata": {},
   "outputs": [],
   "source": [
    "spec = species.index[29]"
   ]
  },
  {
   "cell_type": "code",
   "execution_count": 46,
   "metadata": {},
   "outputs": [
    {
     "data": {
      "text/plain": [
       "{'id': 402054,\n",
       " 'rank': 'species',\n",
       " 'rank_level': 10,\n",
       " 'iconic_taxon_id': 47126,\n",
       " 'ancestor_ids': [48460,\n",
       "  47126,\n",
       "  211194,\n",
       "  47125,\n",
       "  47124,\n",
       "  47363,\n",
       "  56235,\n",
       "  794441,\n",
       "  794443,\n",
       "  60385,\n",
       "  402054],\n",
       " 'is_active': True,\n",
       " 'name': 'Gentianella concinna',\n",
       " 'parent_id': 60385,\n",
       " 'ancestry': '48460/47126/211194/47125/47124/47363/56235/794441/794443/60385',\n",
       " 'extinct': False,\n",
       " 'default_photo': {'id': 61183939,\n",
       "  'license_code': 'cc-by-nc',\n",
       "  'attribution': '(c) Rowan Hindmarsh-Walls, some rights reserved (CC BY-NC), uploaded by Rowan Hindmarsh-Walls',\n",
       "  'url': 'https://inaturalist-open-data.s3.amazonaws.com/photos/61183939/square.jpeg',\n",
       "  'original_dimensions': {'height': 2048, 'width': 1153},\n",
       "  'flags': [],\n",
       "  'square_url': 'https://inaturalist-open-data.s3.amazonaws.com/photos/61183939/square.jpeg',\n",
       "  'medium_url': 'https://inaturalist-open-data.s3.amazonaws.com/photos/61183939/medium.jpeg'},\n",
       " 'taxon_changes_count': 2,\n",
       " 'taxon_schemes_count': 2,\n",
       " 'observations_count': 57,\n",
       " 'flag_counts': {'resolved': 0, 'unresolved': 0},\n",
       " 'current_synonymous_taxon_ids': None,\n",
       " 'atlas_id': None,\n",
       " 'complete_species_count': None,\n",
       " 'wikipedia_url': 'http://en.wikipedia.org/wiki/Gentianella_concinna',\n",
       " 'matched_term': 'Gentianella concinna',\n",
       " 'iconic_taxon_name': 'Plantae',\n",
       " 'created_at': None}"
      ]
     },
     "execution_count": 46,
     "metadata": {},
     "output_type": "execute_result"
    }
   ],
   "source": [
    "\n",
    "# next(iter([]), None)"
   ]
  },
  {
   "cell_type": "code",
   "execution_count": 54,
   "metadata": {},
   "outputs": [
    {
     "data": {
      "text/html": [
       "<div>\n",
       "<style scoped>\n",
       "    .dataframe tbody tr th:only-of-type {\n",
       "        vertical-align: middle;\n",
       "    }\n",
       "\n",
       "    .dataframe tbody tr th {\n",
       "        vertical-align: top;\n",
       "    }\n",
       "\n",
       "    .dataframe thead th {\n",
       "        text-align: right;\n",
       "    }\n",
       "</style>\n",
       "<table border=\"1\" class=\"dataframe\">\n",
       "  <thead>\n",
       "    <tr style=\"text-align: right;\">\n",
       "      <th></th>\n",
       "      <th>Features</th>\n",
       "      <th>inat_ids</th>\n",
       "    </tr>\n",
       "    <tr>\n",
       "      <th>SpeciesName</th>\n",
       "      <th></th>\n",
       "      <th></th>\n",
       "    </tr>\n",
       "  </thead>\n",
       "  <tbody>\n",
       "    <tr>\n",
       "      <th>coprosma-macrocarpa-subsp.-macrocarpa</th>\n",
       "      <td></td>\n",
       "      <td>NaN</td>\n",
       "    </tr>\n",
       "    <tr>\n",
       "      <th>coprosma-propinqua-var.-martinii</th>\n",
       "      <td></td>\n",
       "      <td>NaN</td>\n",
       "    </tr>\n",
       "    <tr>\n",
       "      <th>disphyma-australe-subsp.-stricticaule</th>\n",
       "      <td></td>\n",
       "      <td>NaN</td>\n",
       "    </tr>\n",
       "    <tr>\n",
       "      <th>piper-excelsum-subsp.-psittacorum</th>\n",
       "      <td></td>\n",
       "      <td>NaN</td>\n",
       "    </tr>\n",
       "    <tr>\n",
       "      <th>plagianthus-regius-subsp.-chathamicus</th>\n",
       "      <td></td>\n",
       "      <td>NaN</td>\n",
       "    </tr>\n",
       "    <tr>\n",
       "      <th>sonchus-grandiflorus</th>\n",
       "      <td></td>\n",
       "      <td>NaN</td>\n",
       "    </tr>\n",
       "    <tr>\n",
       "      <th>stellaria-decipiens-var.-angustata</th>\n",
       "      <td></td>\n",
       "      <td>NaN</td>\n",
       "    </tr>\n",
       "    <tr>\n",
       "      <th>aciphylla-trailii</th>\n",
       "      <td></td>\n",
       "      <td>NaN</td>\n",
       "    </tr>\n",
       "    <tr>\n",
       "      <th>azorella-exiguum</th>\n",
       "      <td></td>\n",
       "      <td>NaN</td>\n",
       "    </tr>\n",
       "    <tr>\n",
       "      <th>cardamine-sciaphilia</th>\n",
       "      <td></td>\n",
       "      <td>NaN</td>\n",
       "    </tr>\n",
       "    <tr>\n",
       "      <th>rostkovia-magellanicum</th>\n",
       "      <td></td>\n",
       "      <td>NaN</td>\n",
       "    </tr>\n",
       "    <tr>\n",
       "      <th>ourisia-montana</th>\n",
       "      <td></td>\n",
       "      <td>NaN</td>\n",
       "    </tr>\n",
       "    <tr>\n",
       "      <th>polygonum-plebium</th>\n",
       "      <td></td>\n",
       "      <td>NaN</td>\n",
       "    </tr>\n",
       "    <tr>\n",
       "      <th>galium-antarctica</th>\n",
       "      <td></td>\n",
       "      <td>NaN</td>\n",
       "    </tr>\n",
       "    <tr>\n",
       "      <th>pimelea-telura</th>\n",
       "      <td>Shrubs, to 1 × 1 m with thick, rather stiff st...</td>\n",
       "      <td>NaN</td>\n",
       "    </tr>\n",
       "  </tbody>\n",
       "</table>\n",
       "</div>"
      ],
      "text/plain": [
       "                                                                                Features   \n",
       "SpeciesName                                                                                \n",
       "coprosma-macrocarpa-subsp.-macrocarpa                                                     \\\n",
       "coprosma-propinqua-var.-martinii                                                           \n",
       "disphyma-australe-subsp.-stricticaule                                                      \n",
       "piper-excelsum-subsp.-psittacorum                                                          \n",
       "plagianthus-regius-subsp.-chathamicus                                                      \n",
       "sonchus-grandiflorus                                                                       \n",
       "stellaria-decipiens-var.-angustata                                                         \n",
       "aciphylla-trailii                                                                          \n",
       "azorella-exiguum                                                                           \n",
       "cardamine-sciaphilia                                                                       \n",
       "rostkovia-magellanicum                                                                     \n",
       "ourisia-montana                                                                            \n",
       "polygonum-plebium                                                                          \n",
       "galium-antarctica                                                                          \n",
       "pimelea-telura                         Shrubs, to 1 × 1 m with thick, rather stiff st...   \n",
       "\n",
       "                                       inat_ids  \n",
       "SpeciesName                                      \n",
       "coprosma-macrocarpa-subsp.-macrocarpa       NaN  \n",
       "coprosma-propinqua-var.-martinii            NaN  \n",
       "disphyma-australe-subsp.-stricticaule       NaN  \n",
       "piper-excelsum-subsp.-psittacorum           NaN  \n",
       "plagianthus-regius-subsp.-chathamicus       NaN  \n",
       "sonchus-grandiflorus                        NaN  \n",
       "stellaria-decipiens-var.-angustata          NaN  \n",
       "aciphylla-trailii                           NaN  \n",
       "azorella-exiguum                            NaN  \n",
       "cardamine-sciaphilia                        NaN  \n",
       "rostkovia-magellanicum                      NaN  \n",
       "ourisia-montana                             NaN  \n",
       "polygonum-plebium                           NaN  \n",
       "galium-antarctica                           NaN  \n",
       "pimelea-telura                              NaN  "
      ]
     },
     "execution_count": 54,
     "metadata": {},
     "output_type": "execute_result"
    }
   ],
   "source": [
    "tmp = species.assign(inat_ids=ids)[['Features', 'inat_ids']]\n",
    "tmp[tmp.inat_ids.isna()]"
   ]
  },
  {
   "cell_type": "code",
   "execution_count": 48,
   "metadata": {},
   "outputs": [
    {
     "name": "stdout",
     "output_type": "stream",
     "text": [
      "coprosma-macrocarpa-subsp.-macrocarpa\n",
      "coprosma-propinqua-var.-martinii\n",
      "disphyma-australe-subsp.-stricticaule\n",
      "piper-excelsum-subsp.-psittacorum\n",
      "plagianthus-regius-subsp.-chathamicus\n",
      "sonchus-grandiflorus\n",
      "stellaria-decipiens-var.-angustata\n",
      "aciphylla-trailii\n",
      "azorella-exiguum\n",
      "cardamine-sciaphilia\n",
      "rostkovia-magellanicum\n",
      "ourisia-montana\n",
      "polygonum-plebium\n",
      "galium-antarctica\n",
      "pimelea-telura\n"
     ]
    }
   ],
   "source": [
    "get_id = lambda spec: next(iter(get_taxa(q=spec)['results']), None)['id']\n",
    "ids = []\n",
    "for spec in species.index:\n",
    "\ttry:\n",
    "\t\tids.append(get_id(spec))\n",
    "\texcept:\n",
    "\t\tprint(spec)\n",
    "# species_ids = [get_id(species) for spec in species.index]"
   ]
  },
  {
   "cell_type": "code",
   "execution_count": 32,
   "metadata": {},
   "outputs": [],
   "source": [
    "res_imgs = pi.get_observation_species_counts(taxon_id=[res['results'][0]['id']])"
   ]
  },
  {
   "cell_type": "code",
   "execution_count": 33,
   "metadata": {},
   "outputs": [
    {
     "name": "stdout",
     "output_type": "stream",
     "text": [
      "                                                                     \n",
      "  ID      Rank      Scientific name   Common name             Count  \n",
      " ━━━━━━━━━━━━━━━━━━━━━━━━━━━━━━━━━━━━━━━━━━━━━━━━━━━━━━━━━━━━━━━━━━━ \n",
      "  48363   species   🌱 Tecoma stans   yellow trumpet flower   22058  \n",
      "                                                                     \n"
     ]
    }
   ],
   "source": [
    "taxa = pi.TaxonCount.from_json_list(res_imgs['results'])\n",
    "pprint(taxa)"
   ]
  },
  {
   "cell_type": "code",
   "execution_count": 20,
   "metadata": {},
   "outputs": [
    {
     "data": {
      "text/plain": [
       "48363"
      ]
     },
     "execution_count": 20,
     "metadata": {},
     "output_type": "execute_result"
    }
   ],
   "source": [
    "res['results'][0]['id']"
   ]
  },
  {
   "cell_type": "code",
   "execution_count": 35,
   "metadata": {},
   "outputs": [
    {
     "data": {
      "text/plain": [
       "{'total_results': 5,\n",
       " 'page': 1,\n",
       " 'per_page': 30,\n",
       " 'results': [{'id': 48363,\n",
       "   'rank': 'species',\n",
       "   'rank_level': 10,\n",
       "   'iconic_taxon_id': 47126,\n",
       "   'ancestor_ids': [48460,\n",
       "    47126,\n",
       "    211194,\n",
       "    47125,\n",
       "    47124,\n",
       "    48151,\n",
       "    48377,\n",
       "    604091,\n",
       "    48376,\n",
       "    48363],\n",
       "   'is_active': True,\n",
       "   'name': 'Tecoma stans',\n",
       "   'parent_id': 48376,\n",
       "   'ancestry': '48460/47126/211194/47125/47124/48151/48377/604091/48376',\n",
       "   'extinct': False,\n",
       "   'default_photo': {'id': 59333691,\n",
       "    'license_code': 'cc-by-nc-sa',\n",
       "    'attribution': '(c) sergioniebla, some rights reserved (CC BY-NC-SA), uploaded by sergioniebla',\n",
       "    'url': 'https://inaturalist-open-data.s3.amazonaws.com/photos/59333691/square.jpeg',\n",
       "    'original_dimensions': {'height': 1365, 'width': 2048},\n",
       "    'flags': [],\n",
       "    'square_url': 'https://inaturalist-open-data.s3.amazonaws.com/photos/59333691/square.jpeg',\n",
       "    'medium_url': 'https://inaturalist-open-data.s3.amazonaws.com/photos/59333691/medium.jpeg'},\n",
       "   'taxon_changes_count': 0,\n",
       "   'taxon_schemes_count': 5,\n",
       "   'observations_count': 22055,\n",
       "   'flag_counts': {'resolved': 5, 'unresolved': 0},\n",
       "   'current_synonymous_taxon_ids': None,\n",
       "   'atlas_id': None,\n",
       "   'complete_species_count': None,\n",
       "   'wikipedia_url': 'http://en.wikipedia.org/wiki/Tecoma_stans',\n",
       "   'matched_term': 'Tecoma stans',\n",
       "   'iconic_taxon_name': 'Plantae',\n",
       "   'preferred_common_name': 'yellow trumpet flower',\n",
       "   'created_at': None},\n",
       "  {'id': 1063390,\n",
       "   'rank': 'variety',\n",
       "   'rank_level': 5,\n",
       "   'iconic_taxon_id': 47126,\n",
       "   'ancestor_ids': [48460,\n",
       "    47126,\n",
       "    211194,\n",
       "    47125,\n",
       "    47124,\n",
       "    48151,\n",
       "    48377,\n",
       "    604091,\n",
       "    48376,\n",
       "    48363,\n",
       "    1063390],\n",
       "   'is_active': True,\n",
       "   'name': 'Tecoma stans angustata',\n",
       "   'parent_id': 48363,\n",
       "   'ancestry': '48460/47126/211194/47125/47124/48151/48377/604091/48376/48363',\n",
       "   'extinct': False,\n",
       "   'default_photo': {'id': 93191143,\n",
       "    'license_code': None,\n",
       "    'attribution': '(c) Lex García, all rights reserved, uploaded by Lex García',\n",
       "    'url': 'https://static.inaturalist.org/photos/93191143/square.jpeg',\n",
       "    'original_dimensions': {'height': 2048, 'width': 1536},\n",
       "    'flags': [],\n",
       "    'square_url': 'https://static.inaturalist.org/photos/93191143/square.jpeg',\n",
       "    'medium_url': 'https://static.inaturalist.org/photos/93191143/medium.jpeg'},\n",
       "   'taxon_changes_count': 0,\n",
       "   'taxon_schemes_count': 0,\n",
       "   'observations_count': 211,\n",
       "   'flag_counts': {'resolved': 0, 'unresolved': 0},\n",
       "   'current_synonymous_taxon_ids': None,\n",
       "   'atlas_id': None,\n",
       "   'complete_species_count': None,\n",
       "   'wikipedia_url': None,\n",
       "   'matched_term': 'Tecoma stans angustata',\n",
       "   'iconic_taxon_name': 'Plantae',\n",
       "   'created_at': None},\n",
       "  {'id': 315297,\n",
       "   'rank': 'variety',\n",
       "   'rank_level': 5,\n",
       "   'iconic_taxon_id': 47126,\n",
       "   'ancestor_ids': [48460,\n",
       "    47126,\n",
       "    211194,\n",
       "    47125,\n",
       "    47124,\n",
       "    48151,\n",
       "    48377,\n",
       "    604091,\n",
       "    48376,\n",
       "    48363,\n",
       "    315297],\n",
       "   'is_active': True,\n",
       "   'name': 'Tecoma stans stans',\n",
       "   'parent_id': 48363,\n",
       "   'ancestry': '48460/47126/211194/47125/47124/48151/48377/604091/48376/48363',\n",
       "   'extinct': False,\n",
       "   'default_photo': {'id': 15296076,\n",
       "    'license_code': 'cc-by-sa',\n",
       "    'attribution': '(c) Tony Rebelo, some rights reserved (CC BY-SA), uploaded by Tony Rebelo',\n",
       "    'url': 'https://inaturalist-open-data.s3.amazonaws.com/photos/15296076/square.jpg',\n",
       "    'original_dimensions': {'height': 1365, 'width': 2048},\n",
       "    'flags': [],\n",
       "    'square_url': 'https://inaturalist-open-data.s3.amazonaws.com/photos/15296076/square.jpg',\n",
       "    'medium_url': 'https://inaturalist-open-data.s3.amazonaws.com/photos/15296076/medium.jpg'},\n",
       "   'taxon_changes_count': 1,\n",
       "   'taxon_schemes_count': 2,\n",
       "   'observations_count': 82,\n",
       "   'flag_counts': {'resolved': 0, 'unresolved': 0},\n",
       "   'current_synonymous_taxon_ids': None,\n",
       "   'atlas_id': None,\n",
       "   'complete_species_count': None,\n",
       "   'wikipedia_url': None,\n",
       "   'matched_term': 'Tecoma stans stans',\n",
       "   'iconic_taxon_name': 'Plantae',\n",
       "   'preferred_common_name': 'yellow trumpetbush',\n",
       "   'created_at': None},\n",
       "  {'id': 315296,\n",
       "   'rank': 'variety',\n",
       "   'rank_level': 5,\n",
       "   'iconic_taxon_id': 47126,\n",
       "   'ancestor_ids': [48460,\n",
       "    47126,\n",
       "    211194,\n",
       "    47125,\n",
       "    47124,\n",
       "    48151,\n",
       "    48377,\n",
       "    604091,\n",
       "    48376,\n",
       "    48363,\n",
       "    315296],\n",
       "   'is_active': True,\n",
       "   'name': 'Tecoma stans velutina',\n",
       "   'parent_id': 48363,\n",
       "   'ancestry': '48460/47126/211194/47125/47124/48151/48377/604091/48376/48363',\n",
       "   'extinct': False,\n",
       "   'default_photo': {'id': 49661423,\n",
       "    'license_code': 'cc-by-nc',\n",
       "    'attribution': '(c) Curren Frasch, some rights reserved (CC BY-NC), uploaded by Curren Frasch',\n",
       "    'url': 'https://inaturalist-open-data.s3.amazonaws.com/photos/49661423/square.jpeg',\n",
       "    'original_dimensions': {'height': 1365, 'width': 2048},\n",
       "    'flags': [],\n",
       "    'square_url': 'https://inaturalist-open-data.s3.amazonaws.com/photos/49661423/square.jpeg',\n",
       "    'medium_url': 'https://inaturalist-open-data.s3.amazonaws.com/photos/49661423/medium.jpeg'},\n",
       "   'taxon_changes_count': 0,\n",
       "   'taxon_schemes_count': 2,\n",
       "   'observations_count': 28,\n",
       "   'flag_counts': {'resolved': 0, 'unresolved': 0},\n",
       "   'current_synonymous_taxon_ids': None,\n",
       "   'atlas_id': None,\n",
       "   'complete_species_count': None,\n",
       "   'wikipedia_url': None,\n",
       "   'matched_term': 'Tecoma stans velutina',\n",
       "   'iconic_taxon_name': 'Plantae',\n",
       "   'created_at': None},\n",
       "  {'id': 795572,\n",
       "   'rank': 'variety',\n",
       "   'rank_level': 5,\n",
       "   'iconic_taxon_id': 47126,\n",
       "   'ancestor_ids': [48460,\n",
       "    47126,\n",
       "    211194,\n",
       "    47125,\n",
       "    47124,\n",
       "    48151,\n",
       "    48377,\n",
       "    604091,\n",
       "    48376,\n",
       "    48363,\n",
       "    795572],\n",
       "   'is_active': True,\n",
       "   'name': 'Tecoma stans sambucifolia',\n",
       "   'parent_id': 48363,\n",
       "   'ancestry': '48460/47126/211194/47125/47124/48151/48377/604091/48376/48363',\n",
       "   'extinct': False,\n",
       "   'default_photo': {'id': 37245436,\n",
       "    'license_code': 'cc-by-nc',\n",
       "    'attribution': '(c) Jan Meerman, some rights reserved (CC BY-NC), uploaded by Jan Meerman',\n",
       "    'url': 'https://inaturalist-open-data.s3.amazonaws.com/photos/37245436/square.jpeg',\n",
       "    'original_dimensions': {'height': 671, 'width': 1118},\n",
       "    'flags': [],\n",
       "    'square_url': 'https://inaturalist-open-data.s3.amazonaws.com/photos/37245436/square.jpeg',\n",
       "    'medium_url': 'https://inaturalist-open-data.s3.amazonaws.com/photos/37245436/medium.jpeg'},\n",
       "   'taxon_changes_count': 1,\n",
       "   'taxon_schemes_count': 1,\n",
       "   'observations_count': 12,\n",
       "   'flag_counts': {'resolved': 0, 'unresolved': 0},\n",
       "   'current_synonymous_taxon_ids': None,\n",
       "   'atlas_id': None,\n",
       "   'complete_species_count': None,\n",
       "   'wikipedia_url': None,\n",
       "   'matched_term': 'Tecoma stans sambucifolia',\n",
       "   'iconic_taxon_name': 'Plantae',\n",
       "   'created_at': None}]}"
      ]
     },
     "execution_count": 35,
     "metadata": {},
     "output_type": "execute_result"
    }
   ],
   "source": []
  },
  {
   "cell_type": "code",
   "execution_count": 34,
   "metadata": {},
   "outputs": [
    {
     "ename": "ObservationNotFound",
     "evalue": "",
     "output_type": "error",
     "traceback": [
      "\u001b[0;31m---------------------------------------------------------------------------\u001b[0m",
      "\u001b[0;31mObservationNotFound\u001b[0m                       Traceback (most recent call last)",
      "\u001b[1;32m/mnt/c/Users/Simone/OneDrive/Documenti/PoliTO/NewZeland/Analysis.ipynb Cell 34\u001b[0m line \u001b[0;36m3\n\u001b[1;32m      <a href='vscode-notebook-cell://wsl%2Bubuntu-20.04/mnt/c/Users/Simone/OneDrive/Documenti/PoliTO/NewZeland/Analysis.ipynb#X42sdnNjb2RlLXJlbW90ZQ%3D%3D?line=0'>1</a>\u001b[0m res \u001b[39m=\u001b[39m get_taxa(q\u001b[39m=\u001b[39m\u001b[39m\"\u001b[39m\u001b[39mTecoma stans\u001b[39m\u001b[39m\"\u001b[39m)\n\u001b[1;32m      <a href='vscode-notebook-cell://wsl%2Bubuntu-20.04/mnt/c/Users/Simone/OneDrive/Documenti/PoliTO/NewZeland/Analysis.ipynb#X42sdnNjb2RlLXJlbW90ZQ%3D%3D?line=1'>2</a>\u001b[0m \u001b[39m# species.index[29]\u001b[39;00m\n\u001b[0;32m----> <a href='vscode-notebook-cell://wsl%2Bubuntu-20.04/mnt/c/Users/Simone/OneDrive/Documenti/PoliTO/NewZeland/Analysis.ipynb#X42sdnNjb2RlLXJlbW90ZQ%3D%3D?line=2'>3</a>\u001b[0m Observation\u001b[39m.\u001b[39;49mfrom_id(res)\n",
      "File \u001b[0;32m~/miniconda3/lib/python3.10/site-packages/pyinaturalist/models/observation.py:207\u001b[0m, in \u001b[0;36mObservation.from_id\u001b[0;34m(cls, id)\u001b[0m\n\u001b[1;32m    204\u001b[0m \u001b[39m\u001b[39m\u001b[39m\"\"\"Lookup and create a new Observation object from an ID\"\"\"\u001b[39;00m\n\u001b[1;32m    205\u001b[0m \u001b[39mfrom\u001b[39;00m \u001b[39mpyinaturalist\u001b[39;00m\u001b[39m.\u001b[39;00m\u001b[39mv1\u001b[39;00m \u001b[39mimport\u001b[39;00m get_observation\n\u001b[0;32m--> 207\u001b[0m json \u001b[39m=\u001b[39m get_observation(\u001b[39mid\u001b[39;49m)\n\u001b[1;32m    208\u001b[0m \u001b[39mreturn\u001b[39;00m \u001b[39mcls\u001b[39m\u001b[39m.\u001b[39mfrom_json(json)\n",
      "File \u001b[0;32m~/miniconda3/lib/python3.10/site-packages/pyinaturalist/v1/observations.py:586\u001b[0m, in \u001b[0;36mget_observation\u001b[0;34m(observation_id, access_token, **params)\u001b[0m\n\u001b[1;32m    584\u001b[0m \u001b[39mif\u001b[39;00m response[\u001b[39m'\u001b[39m\u001b[39mresults\u001b[39m\u001b[39m'\u001b[39m]:\n\u001b[1;32m    585\u001b[0m     \u001b[39mreturn\u001b[39;00m convert_observation_timestamps(response[\u001b[39m'\u001b[39m\u001b[39mresults\u001b[39m\u001b[39m'\u001b[39m][\u001b[39m0\u001b[39m])\n\u001b[0;32m--> 586\u001b[0m \u001b[39mraise\u001b[39;00m ObservationNotFound()\n",
      "\u001b[0;31mObservationNotFound\u001b[0m: "
     ]
    }
   ],
   "source": [
    "res = get_taxa(q=\"Tecoma stans\")\n",
    "# species.index[29]\n",
    "Observation.from_id(res)\n",
    "\n",
    "# get the images of the species\n"
   ]
  }
 ],
 "metadata": {
  "kernelspec": {
   "display_name": "base",
   "language": "python",
   "name": "python3"
  },
  "language_info": {
   "codemirror_mode": {
    "name": "ipython",
    "version": 3
   },
   "file_extension": ".py",
   "mimetype": "text/x-python",
   "name": "python",
   "nbconvert_exporter": "python",
   "pygments_lexer": "ipython3",
   "version": "3.10.4"
  }
 },
 "nbformat": 4,
 "nbformat_minor": 2
}
