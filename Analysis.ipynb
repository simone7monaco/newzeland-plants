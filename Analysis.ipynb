{
 "cells": [
  {
   "cell_type": "code",
   "execution_count": 1,
   "metadata": {},
   "outputs": [],
   "source": [
    "import numpy as np\n",
    "import pandas as pd\n",
    "# import re\n",
    "import regex as re\n",
    "\n",
    "species = pd.read_excel('plant_info.xlsx').set_index('SpeciesName')\n",
    "words = pd.read_excel('Words before and after traits.xlsx')\n",
    "species['Features'] = species['Features'].fillna('')"
   ]
  },
  {
   "cell_type": "code",
   "execution_count": 2,
   "metadata": {},
   "outputs": [],
   "source": [
    "extra_features_df = pd.read_excel(\"Words before and after traits.xlsx\", sheet_name=\"Words\", skiprows=1)\n",
    "extra_features_df = extra_features_df[:extra_features_df[extra_features_df.Stature.eq('Following words')].index[0]].applymap(lambda s:s.lower() if type(s) == str else s)\n",
    "\n",
    "extra_features = extra_features_df.to_dict('list')\n",
    "extra_features = {k.title().replace(' ', ''): [x for x in v if str(x) != 'nan'] for k, v in extra_features.items()}"
   ]
  },
  {
   "cell_type": "code",
   "execution_count": 3,
   "metadata": {},
   "outputs": [
    {
     "name": "stdout",
     "output_type": "stream",
     "text": [
      "['cypsela', 'achene', 'fruits']\n"
     ]
    }
   ],
   "source": [
    "all_words = extra_features_df.to_numpy().flatten()\n",
    "# duplicated words\n",
    "duplicate_words = []\n",
    "for word in set(all_words):\n",
    "\tif (all_words == word).sum() > 1:\n",
    "\t\tduplicate_words.append(word)\n",
    "print(duplicate_words)"
   ]
  },
  {
   "cell_type": "code",
   "execution_count": 4,
   "metadata": {},
   "outputs": [],
   "source": [
    "words_to_remove = []\n",
    "# remove all words starting with petal, flower, fruit, seed with a letter after different from s. Select the entire word up to the first space or punctuation (,;.) excluded\n",
    "reg_exp = r'(petal|flower|fruit|seed)[a-rt-z]+[^\\s;,.\\)]'\n",
    "for i, row in species.Features.items():\n",
    "\t# print(row)\n",
    "\tfor word in re.finditer(reg_exp, row):\n",
    "\t\twords_to_remove.append(word.group())\n",
    "\n",
    "words_to_remove = list(set(words_to_remove))"
   ]
  },
  {
   "cell_type": "markdown",
   "metadata": {},
   "source": [
    "## Errors\n",
    "- ✅ **\"Stigma\" and \"style\" are both present within the string:** Place values in both stigma and style categories\n",
    "- ✅ **\"Cypselae\" is present within the string:** Place in both seed and fruit categories\n",
    "- ✅ **\"Cypsela\" is present within the string:** Place in both seed and fruit categories\n",
    "- **\"(\" and \")\" are detected within the string:** Remove them, along with everything within them. Then repeat search.\n",
    "- ✅ **\"petiole\" or \"petioles\" are contained in the string:** Place values in petiol size, ignoring all other words\n",
    "- ✅ **\"Anther\" or \"Anthers\" are contained in the string:** Place values in anther size, ignoring all other words\n",
    "- ✅ **\"Pedicel\" or \"Pedicels\" are contained in the string:** Place values in pedicel size, ignoring all other words\n",
    "- ✅ **\"Calyx\" is present within the string:** Place values in calyx size, ignoring all other words\n",
    "- ✅ **word is a derivation of a key word (e.g. fruit-ing, flower-ing, leaf-y, anti-petal-ous):** Ignore/remove that word from the string. This should not apply if such words are part of multiple word key (e.g. \"flowering stem\")\n",
    "- ✅ **word for fruit size is used, except cypsela or achene:** Ignore other words and place in fruit size\n",
    "- ✅ **\"achene\" or \"achenes\" are contained in the string:** Place in both seed and fruit categories\n",
    "- <s>**\"hermaphrodite\", \"hermaphroditic\", \"male\" or \"female\" are found within the string:** Store the word, then remove it, and repeat the search. Place what is found in the appropriate trait column, but add the stored word in.</s>\n"
   ]
  },
  {
   "cell_type": "code",
   "execution_count": 7,
   "metadata": {},
   "outputs": [],
   "source": [
    "unit = '[m|c|d]?m'\n",
    "# 150–400x100–300mm\n",
    "number = r\"(\\d+\\.?\\d*)\"\n",
    "# full_regex = rf\"(({number}-)?{number}{unit}?x)?{number}(-{number})?{unit}\" ## Supposed to be correct\n",
    "\"\"\"anomaies:\n",
    "\t0.05-0.35-1mx1.5-3-6mm\n",
    "\"\"\"\n",
    "full_regex = rf\"({number}(-{number})?(-{number})?{unit}?x)?({number}(-{number})?(-{number})?{unit}?x)?{number}(-{number})?(-{number})?(-{number})?{unit}\""
   ]
  },
  {
   "cell_type": "code",
   "execution_count": 40,
   "metadata": {},
   "outputs": [],
   "source": [
    "tmp = []\n",
    "anomalies = set() # species with anomalies\n",
    "\n",
    "def extract_features(i, feats:list, wordmeasure_distance=100): # TODO: automatic wordmeasure_distance\n",
    "\tfeatures = {}\n",
    "\tfor feat in feats:\n",
    "\t\tif len(feat) < 1:\n",
    "\t\t\tcontinue\n",
    "\t\tfound = False\n",
    "\t\tfor key, values in extra_features.items():\n",
    "\t\t\tfeat = feat.replace(',', ' ')\n",
    "\t\t\t# remove any of .,; after one of the measures (cm, mm, dm, m), keeping the measure\n",
    "\t\t\tfeat = re.sub(rf'{unit}[\\.,;]', lambda x: x.group()[:-1], feat)\n",
    "\t\t\tif any([w == wf for w in set(values) for wf in feat.lower().split()]):\n",
    "\t\t\t\tif 'calyx' in feat.lower() and key != 'CalyxSize' or 'petiole' in feat.lower() and key != 'PetioleSize' or 'anther' in feat.lower() and key != 'AntherSize' or 'pedicel' in feat.lower() and key != 'PedicelSize':\n",
    "\t\t\t\t\tcontinue\n",
    "\t\t\t\tword_match = [w.lower() for w in feat.split() if w.lower() in set(values)][0]\n",
    "\t\t\t\t\n",
    "\t\t\t\tif found=='InflorescenceSize' and key == 'FlowerSize': # if inflorencence was already found, skip flower (e.g., \"flower stem\" associated with inflorescence only)\n",
    "\t\t\t\t\tcontinue\n",
    "\t\t\t\tif found=='FlowerSize' and key in ['StamenSize']: # avoid matching cases such as \"Flowers large, white, about 8mm across, 4-petalled with 6 __stamens__\"\n",
    "\t\t\t\t\tcontinue\n",
    "\t\t\t\tif found == 'FruitSize' and not any([w.lower() in feat.lower() for w in ['achene', 'cypsela']]):\n",
    "\t\t\t\t\tcontinue\n",
    "\t\t\t\t# measure is a number and a unit of measurement (e.g. 1.5 mm)\n",
    "\t\t\t\t# can match forms like 1.5-2.5 mm, 1.5 – 2.5 mm, 1.5×2.5 mm\n",
    "\t\t\t\tmeasure = re.search(full_regex, feat)\n",
    "\t\t\t\tif measure:\n",
    "\t\t\t\t\tword_match_position = np.where(np.array(feat.lower().split()) == word_match)[0][0]\n",
    "\t\t\t\t\tmeasure_position = np.where(np.array(feat.lower().split()) == measure.group())[0][0]\n",
    "\n",
    "\t\t\t\t\tif abs(word_match_position - measure_position) > wordmeasure_distance:\n",
    "\t\t\t\t\t\tcontinue\n",
    "\t\t\t\t\tif found:\n",
    "\t\t\t\t\t\tif (any([w.lower() in feat.lower() for w in ['achene', 'cypsela']]) and {key, found[0]} == {'FruitSize', 'SeedSize'}) or\\\n",
    "\t\t\t\t\t\t\t{key, found[0]} == {'StigmaSize', 'StyleSize'}:\n",
    "\t\t\t\t\t\t\tpass\n",
    "\t\t\t\t\t\t\t# print(f'OK>> Multiple features found ({found}, {key}) in \"{feat}\"')\n",
    "\t\t\t\t\t\telse:\n",
    "\t\t\t\t\t\t\tthis_distance = abs(word_match_position - measure_position)\n",
    "\t\t\t\t\t\t\tif this_distance > found[1]:\n",
    "\t\t\t\t\t\t\t\tcontinue\n",
    "\t\t\t\t\t\t\telse:\n",
    "\t\t\t\t\t\t\t\tfeatures[found[0]].remove(found[2])\n",
    "\t\t\t\t\t\t\ttmp.append(f'({i}) Multiple features found ({found[0]}, {key}) in \"{feat}\"')\n",
    "\t\t\t\t\t\t\tanomalies.add(i)\n",
    "\t\t\t\t\tfound = (key, abs(word_match_position - measure_position), measure.group())\n",
    "\t\t\t\t\tmeasure = measure.group()\n",
    "\t\t\t\t\t# print(key,[w.lower() for w in set(values)|set([key]) if w.lower() in feat.lower()], measure)\n",
    "\t\t\t\t\t\n",
    "\t\t\t\t\tif key in features:\n",
    "\t\t\t\t\t\tfeatures[key].append(measure)\n",
    "\t\t\t\t\telse:\n",
    "\t\t\t\t\t\tfeatures[key] = [measure]\n",
    "\t\t\t# primary features, if key is in petiole, anther, pedicel, calix\n",
    "\treturn pd.Series(features)"
   ]
  },
  {
   "cell_type": "code",
   "execution_count": 41,
   "metadata": {},
   "outputs": [
    {
     "data": {
      "text/html": [
       "<div>\n",
       "<style scoped>\n",
       "    .dataframe tbody tr th:only-of-type {\n",
       "        vertical-align: middle;\n",
       "    }\n",
       "\n",
       "    .dataframe tbody tr th {\n",
       "        vertical-align: top;\n",
       "    }\n",
       "\n",
       "    .dataframe thead th {\n",
       "        text-align: right;\n",
       "    }\n",
       "</style>\n",
       "<table border=\"1\" class=\"dataframe\">\n",
       "  <thead>\n",
       "    <tr style=\"text-align: right;\">\n",
       "      <th></th>\n",
       "      <th>SpeciesName</th>\n",
       "      <th>Features</th>\n",
       "    </tr>\n",
       "  </thead>\n",
       "  <tbody>\n",
       "    <tr>\n",
       "      <th>0</th>\n",
       "      <td>abrotanella-rosulata</td>\n",
       "      <td>[]</td>\n",
       "    </tr>\n",
       "    <tr>\n",
       "      <th>1</th>\n",
       "      <td>abrotanella-spathulata</td>\n",
       "      <td>[]</td>\n",
       "    </tr>\n",
       "    <tr>\n",
       "      <th>2</th>\n",
       "      <td>aciphylla-dieffenbachii</td>\n",
       "      <td>[Tufted, dioecious, perennial with extremely s...</td>\n",
       "    </tr>\n",
       "    <tr>\n",
       "      <th>3</th>\n",
       "      <td>aciphylla-traversii</td>\n",
       "      <td>[Stout, tufted, dioecious ? gynodioecious pere...</td>\n",
       "    </tr>\n",
       "    <tr>\n",
       "      <th>4</th>\n",
       "      <td>astelia-chathamica</td>\n",
       "      <td>[Robust tufted plant, Leaves 60-200x4-10cm ., ...</td>\n",
       "    </tr>\n",
       "    <tr>\n",
       "      <th>...</th>\n",
       "      <td>...</td>\n",
       "      <td>...</td>\n",
       "    </tr>\n",
       "    <tr>\n",
       "      <th>2009</th>\n",
       "      <td>dacrydium-cupressinum</td>\n",
       "      <td>[Dioecious conifer 35m  tall, Adult trees with...</td>\n",
       "    </tr>\n",
       "    <tr>\n",
       "      <th>2010</th>\n",
       "      <td>podocarpus-acutifolius</td>\n",
       "      <td>[Shrub or small tree up to 15m  tall, Trunk of...</td>\n",
       "    </tr>\n",
       "    <tr>\n",
       "      <th>2011</th>\n",
       "      <td>podocarpus-cunninghamii</td>\n",
       "      <td>[]</td>\n",
       "    </tr>\n",
       "    <tr>\n",
       "      <th>2012</th>\n",
       "      <td>podocarpus-nivalis</td>\n",
       "      <td>[Prostrate to suberect, spreading woody shrub ...</td>\n",
       "    </tr>\n",
       "    <tr>\n",
       "      <th>2013</th>\n",
       "      <td>podocarpus-totara</td>\n",
       "      <td>[]</td>\n",
       "    </tr>\n",
       "  </tbody>\n",
       "</table>\n",
       "<p>2014 rows × 2 columns</p>\n",
       "</div>"
      ],
      "text/plain": [
       "                  SpeciesName   \n",
       "0        abrotanella-rosulata  \\\n",
       "1      abrotanella-spathulata   \n",
       "2     aciphylla-dieffenbachii   \n",
       "3         aciphylla-traversii   \n",
       "4          astelia-chathamica   \n",
       "...                       ...   \n",
       "2009    dacrydium-cupressinum   \n",
       "2010   podocarpus-acutifolius   \n",
       "2011  podocarpus-cunninghamii   \n",
       "2012       podocarpus-nivalis   \n",
       "2013        podocarpus-totara   \n",
       "\n",
       "                                               Features  \n",
       "0                                                    []  \n",
       "1                                                    []  \n",
       "2     [Tufted, dioecious, perennial with extremely s...  \n",
       "3     [Stout, tufted, dioecious ? gynodioecious pere...  \n",
       "4     [Robust tufted plant, Leaves 60-200x4-10cm ., ...  \n",
       "...                                                 ...  \n",
       "2009  [Dioecious conifer 35m  tall, Adult trees with...  \n",
       "2010  [Shrub or small tree up to 15m  tall, Trunk of...  \n",
       "2011                                                 []  \n",
       "2012  [Prostrate to suberect, spreading woody shrub ...  \n",
       "2013                                                 []  \n",
       "\n",
       "[2014 rows x 2 columns]"
      ]
     },
     "execution_count": 41,
     "metadata": {},
     "output_type": "execute_result"
    }
   ],
   "source": [
    "species.Features.apply(string_preprocessing).str.split(r'(?<!\\sc)[.;]\\s|;').reset_index()"
   ]
  },
  {
   "cell_type": "code",
   "execution_count": 43,
   "metadata": {},
   "outputs": [],
   "source": [
    "def string_preprocessing(s):\n",
    "\ts = s.replace('\\xa0', ' ').replace('×', 'x').replace('–', '-') # remove non-breaking space and replace multiplication sign with x\n",
    "\ts = re.sub(fr'-?\\(-?{number}-?\\)-?', '', s) # remove all parentesis surrounding a number (e.g. (-1.5))\n",
    "\ts = s.replace('--', '-').replace('-.', '-').replace('..', '.')\n",
    "\ts = s.replace('(', '').replace(')', '')\n",
    "\ts = re.sub(r'\\s(c|ca|o)\\.', ' ', s) # remove all ' c.'\n",
    "\ts = re.sub(r'\\s+(?=[cmd]?m)', '', s) # remove all spaces before measures (mm, cm, dm, m, these strings only if padded by a space)\n",
    "\ts = re.sub(r'\\s*-\\s*', '-', s) # remove spaces around hyphens\n",
    "\ts = re.sub(r'(?<=\\d)\\s*\\.(?=\\d)', '.', s) # remove spaces before dot if followed and preceded by a number\n",
    "\ts = re.sub(r'(?<=\\s)\\.(?=\\d)', '0.', s) # add a 0 before a dot if it is preceded by a space and a \"not number\" and followed by a number (e.g. foo .5 --> foo 0.5)\n",
    "\ts = re.sub(r'(?<=[\\dm])\\s*x\\s*(?=\\d+)', 'x', s) # remove spaces around x in formulas\n",
    "\t# now all measures are supposed to have no spaces between number and unit and spaces around them\n",
    "\ts = re.sub(rf'(?<=\\d)({unit})(?!\\s*x)', r'\\1 ', s) # fix situation in which a measure is not followed by a space, in the case, add that space\n",
    "\ts = re.sub(r'(?<![\\d\\sx\\.-])(\\d)', r' \\1', s) # fix the situation in which a measure (the whole number and measure) is not preceded by a space. In the case, add a space before the measure\n",
    "\ts = re.sub(r'(?<=\\d\\.\\d+)(\\.\\d?)', '', s) # fix the error in which there is a doubled dot in a number (e.g. 1.5.2), in the case, remove the second dot and the eventual numbers after it\n",
    "\ts = re.sub(r'(?<=[a-ln-z])-(?=\\d)', ' ', s) # remove all '-' preceded by a letter (different from m) and followed by a number (e.g. to-250mm --> to 250mm)\n",
    "\ts = re.sub(r'(?<![a-z])(l|I)(?=[\\s\\.-]|\\d)', '1', s) # replace all 'l' or \"I\" characters which should be '1' (e.g. l.5 --> 1.5). This should be followed by a space, a dot, a hyphen, or a number and not preceded by a letter\n",
    "\ts = re.sub('|'.join(words_to_remove), '', s, flags=re.IGNORECASE) # remove words to remove\n",
    "\treturn s\n",
    "\n",
    "features = species.Features.apply(string_preprocessing).str.split(r'(?<!\\sc)[.;]\\s|;').reset_index().apply(lambda x: extract_features(x.SpeciesName, x.Features), axis=1)\n",
    "features = features.applymap(lambda x: '; '.join(x) if not isinstance(x, float) else x)\n",
    "features.index = species.index"
   ]
  },
  {
   "cell_type": "code",
   "execution_count": 49,
   "metadata": {},
   "outputs": [],
   "source": [
    "features_stored = pd.read_csv('processed_features.csv', index_col=0)"
   ]
  },
  {
   "cell_type": "code",
   "execution_count": 47,
   "metadata": {},
   "outputs": [
    {
     "data": {
      "text/plain": [
       "AntherSize                            NaN\n",
       "CalyxSize                             NaN\n",
       "CorollaSize                           NaN\n",
       "FlowerSize                            NaN\n",
       "FruitSize                        8-10x6mm\n",
       "Glumes                                NaN\n",
       "InflorescenceSize     1.0x0.4m; 50mm; 8mm\n",
       "LeafSize             0.15-0.46x0.15-0.8mm\n",
       "Lemma                                 NaN\n",
       "Lodicules                             NaN\n",
       "OvarySize                             NaN\n",
       "Palea                                 NaN\n",
       "PedicelSize                           NaN\n",
       "PetalSize                       2.0-2.5mm\n",
       "PetioleSize                     0.1-0.25m\n",
       "SeedSize                              NaN\n",
       "StamenSize                            NaN\n",
       "Stature                               NaN\n",
       "StigmaSize                            NaN\n",
       "StyleSize                             NaN\n",
       "TubeSize                              NaN\n",
       "Name: aciphylla-traversii, dtype: object"
      ]
     },
     "execution_count": 47,
     "metadata": {},
     "output_type": "execute_result"
    }
   ],
   "source": [
    "features.xs('aciphylla-traversii')"
   ]
  },
  {
   "cell_type": "code",
   "execution_count": 50,
   "metadata": {},
   "outputs": [
    {
     "data": {
      "text/plain": [
       "LeafSize             0.15-0.46x0.15-0.8mm\n",
       "InflorescenceSize           1.0x0.4m; 8mm\n",
       "PetalSize                       2.0-2.5mm\n",
       "FruitSize                        8-10x6mm\n",
       "PetioleSize                     0.1-0.25m\n",
       "FlowerSize                            NaN\n",
       "PedicelSize                           NaN\n",
       "Glumes                                NaN\n",
       "Lemma                                 NaN\n",
       "Palea                                 NaN\n",
       "AntherSize                            NaN\n",
       "OvarySize                             NaN\n",
       "SeedSize                              NaN\n",
       "Stature                               NaN\n",
       "StyleSize                             NaN\n",
       "StigmaSize                            NaN\n",
       "StamenSize                            NaN\n",
       "CorollaSize                           NaN\n",
       "CalyxSize                             NaN\n",
       "TubeSize                              NaN\n",
       "Lodicules                             NaN\n",
       "Name: aciphylla-traversii, dtype: object"
      ]
     },
     "execution_count": 50,
     "metadata": {},
     "output_type": "execute_result"
    }
   ],
   "source": [
    "features_stored.xs('aciphylla-traversii')"
   ]
  },
  {
   "cell_type": "code",
   "execution_count": 55,
   "metadata": {},
   "outputs": [
    {
     "data": {
      "text/plain": [
       "True"
      ]
     },
     "execution_count": 55,
     "metadata": {},
     "output_type": "execute_result"
    }
   ],
   "source": [
    "feature[feature.apply(lambda x: isinstance(x, str) and string_preprocessing(match.group()).strip() in x.split('; '))].empty"
   ]
  },
  {
   "cell_type": "code",
   "execution_count": 59,
   "metadata": {},
   "outputs": [
    {
     "data": {
      "text/plain": [
       "[('0.7m; 150-400x100-300mm', 'LeafSize', '#00'),\n",
       " ('1.0x0.6m; 10mm', 'InflorescenceSize', '#00'),\n",
       " ('2mm; 1.5mm', 'PetalSize', '#00'),\n",
       " ('15x10mm', 'FruitSize', '#00')]"
      ]
     },
     "execution_count": 59,
     "metadata": {},
     "output_type": "execute_result"
    }
   ],
   "source": [
    "[(meas, feat, '#00') for meas, feat in zip(feature, feature.index) if isinstance(meas, str) ]"
   ]
  },
  {
   "cell_type": "code",
   "execution_count": 50,
   "metadata": {},
   "outputs": [
    {
     "name": "stdout",
     "output_type": "stream",
     "text": [
      "?  0.7m \n",
      ">> LeafSize 0.7m \n",
      "?  150-400 x 100-300 mm\n",
      ">> LeafSize 150-400 x 100-300 mm\n",
      "?  90 x 5 mm\n",
      "xx  90x5mm \n",
      "?  1.0 x 0.6m \n",
      ">> InflorescenceSize 1.0 x 0.6m \n",
      "?  50-150 mm \n",
      "xx  50-150mm  \n",
      "?  10 mm \n",
      ">> InflorescenceSize 10 mm \n",
      "?  2 mm \n",
      ">> PetalSize 2 mm \n",
      "?  1.5 mm \n",
      ">> PetalSize 1.5 mm \n",
      "?  15 x 10 mm\n",
      ">> FruitSize 15 x 10 mm\n",
      "?  2 m\n",
      "xx  2m \n",
      "?  3 mm \n",
      "xx  3mm  \n"
     ]
    }
   ],
   "source": [
    "for sp, feature in processed_features.iterrows():\n",
    "\tfeatures_text = species.loc[sp, 'Features'].replace('\\xa0', ' ').replace('×', 'x').replace('–', '-')\n",
    "\tif features_text == '':\n",
    "\t\tcontinue\n",
    "\t# measure pattern with negative lookahead for a number (e.g. 1.5 mm) with any combination of spaces, hyphens, and dots, numbers, parentesis in between\n",
    "\tmeasures_in_text = re.finditer(r'\\d[\\d\\.\\s\\(\\)x-]*[cmd]?m\\s?(?![\\d-\\(\\)])', features_text)\n",
    "\tdetected_features = {}\n",
    "\tfor match in measures_in_text:\n",
    "\t\t# if '1.5 mm' in match.group():\n",
    "\t\t# \tfoo\n",
    "\t\ttry:\n",
    "\t\t\tprint(\"? \", match.group())\n",
    "\t\t\twhich_feature = feature[feature.apply(lambda x: isinstance(x, str) and string_preprocessing(match.group()).strip() in x.split('; '))].index[0]\n",
    "\t\t\tprint('>>', which_feature, match.group())\n",
    "\t\t\tif which_feature in detected_features:\n",
    "\t\t\t\tdetected_features[which_feature].append((match.group(), match.start(), match.end()))\n",
    "\t\t\telse:\n",
    "\t\t\t\tdetected_features[which_feature] = [(match.group(), match.start(), match.end())]\n",
    "\t\texcept:\n",
    "\t\t\tpass\n",
    "\t\t\tprint('xx', string_preprocessing(match.group()))\n",
    "\tbreak\n"
   ]
  },
  {
   "cell_type": "code",
   "execution_count": 52,
   "metadata": {},
   "outputs": [
    {
     "data": {
      "text/plain": [
       "LeafSize             0.7m; 150-400x100-300mm\n",
       "InflorescenceSize             1.0x0.6m; 10mm\n",
       "PetalSize                         2mm; 1.5mm\n",
       "FruitSize                            15x10mm\n",
       "PetioleSize                              NaN\n",
       "FlowerSize                               NaN\n",
       "PedicelSize                              NaN\n",
       "Glumes                                   NaN\n",
       "Lemma                                    NaN\n",
       "Palea                                    NaN\n",
       "AntherSize                               NaN\n",
       "OvarySize                                NaN\n",
       "SeedSize                                 NaN\n",
       "Stature                                  NaN\n",
       "StyleSize                                NaN\n",
       "StigmaSize                               NaN\n",
       "StamenSize                               NaN\n",
       "CorollaSize                              NaN\n",
       "CalyxSize                                NaN\n",
       "TubeSize                                 NaN\n",
       "Lodicules                                NaN\n",
       "Name: aciphylla-dieffenbachii, dtype: object"
      ]
     },
     "execution_count": 52,
     "metadata": {},
     "output_type": "execute_result"
    }
   ],
   "source": [
    "feature"
   ]
  },
  {
   "cell_type": "code",
   "execution_count": 38,
   "metadata": {},
   "outputs": [
    {
     "data": {
      "text/plain": [
       "LeafSize             0.7m; 150-400x100-300mm\n",
       "InflorescenceSize             1.0x0.6m; 10mm\n",
       "PetalSize                         2mm; 1.5mm\n",
       "FruitSize                            15x10mm\n",
       "PetioleSize                              NaN\n",
       "FlowerSize                               NaN\n",
       "PedicelSize                              NaN\n",
       "Glumes                                   NaN\n",
       "Lemma                                    NaN\n",
       "Palea                                    NaN\n",
       "AntherSize                               NaN\n",
       "OvarySize                                NaN\n",
       "SeedSize                                 NaN\n",
       "Stature                                  NaN\n",
       "StyleSize                                NaN\n",
       "StigmaSize                               NaN\n",
       "StamenSize                               NaN\n",
       "CorollaSize                              NaN\n",
       "CalyxSize                                NaN\n",
       "TubeSize                                 NaN\n",
       "Lodicules                                NaN\n",
       "Name: aciphylla-dieffenbachii, dtype: object"
      ]
     },
     "execution_count": 38,
     "metadata": {},
     "output_type": "execute_result"
    }
   ],
   "source": [
    "feature"
   ]
  },
  {
   "cell_type": "code",
   "execution_count": 33,
   "metadata": {},
   "outputs": [
    {
     "name": "stdout",
     "output_type": "stream",
     "text": [
      "153 157 0.7m\n",
      "279 285 300 mm\n",
      "333 337 5 mm\n",
      "408 412 0.6m\n",
      "510 516 150 mm\n",
      "599 604 10 mm\n",
      "796 800 2 mm\n",
      "888 894 1.5 mm\n",
      "921 926 10 mm\n",
      "1016 1019 2 m\n",
      "1078 1082 3 mm\n"
     ]
    }
   ],
   "source": [
    "# find all the occurrences in features_text of the pattern starting with a number and ending with a measure (e.g. 1.5 mm) with any combination of spaces, hyphens, and dots, numbers, parentesis in between\n",
    "# re.findall(r'\\d[\\d\\.\\s\\(\\)-]*[cmd]?m', features_text)\n",
    "\n",
    "for r in re.finditer(r'\\d[\\d\\.\\s\\(\\)-]*[cmd]?m', features_text):\n",
    "\tprint(r.start(), r.end(), r.group())"
   ]
  },
  {
   "cell_type": "code",
   "execution_count": 46,
   "metadata": {},
   "outputs": [
    {
     "data": {
      "text/plain": [
       "{}"
      ]
     },
     "execution_count": 46,
     "metadata": {},
     "output_type": "execute_result"
    }
   ],
   "source": [
    "detected_features"
   ]
  },
  {
   "cell_type": "code",
   "execution_count": 10,
   "metadata": {},
   "outputs": [
    {
     "ename": "AttributeError",
     "evalue": "'NoneType' object has no attribute 'start'",
     "output_type": "error",
     "traceback": [
      "\u001b[0;31m---------------------------------------------------------------------------\u001b[0m",
      "\u001b[0;31mAttributeError\u001b[0m                            Traceback (most recent call last)",
      "\u001b[1;32m/home/simone/PoliTO/NewZeland/Analysis.ipynb Cell 10\u001b[0m line \u001b[0;36m9\n\u001b[1;32m      <a href='vscode-notebook-cell://wsl%2Bubuntu-20.04/home/simone/PoliTO/NewZeland/Analysis.ipynb#X35sdnNjb2RlLXJlbW90ZQ%3D%3D?line=6'>7</a>\u001b[0m detected_features \u001b[39m=\u001b[39m {feat: re\u001b[39m.\u001b[39msearch(feat, features_text) \u001b[39mfor\u001b[39;00m feat \u001b[39min\u001b[39;00m feature\u001b[39m.\u001b[39mindex \u001b[39mif\u001b[39;00m feature[feat] \u001b[39m!=\u001b[39m \u001b[39m'\u001b[39m\u001b[39m'\u001b[39m}\n\u001b[1;32m      <a href='vscode-notebook-cell://wsl%2Bubuntu-20.04/home/simone/PoliTO/NewZeland/Analysis.ipynb#X35sdnNjb2RlLXJlbW90ZQ%3D%3D?line=7'>8</a>\u001b[0m \u001b[39m# sort the features by the starting position in the text\u001b[39;00m\n\u001b[0;32m----> <a href='vscode-notebook-cell://wsl%2Bubuntu-20.04/home/simone/PoliTO/NewZeland/Analysis.ipynb#X35sdnNjb2RlLXJlbW90ZQ%3D%3D?line=8'>9</a>\u001b[0m detected_features \u001b[39m=\u001b[39m {k: v \u001b[39mfor\u001b[39;00m k, v \u001b[39min\u001b[39;00m \u001b[39msorted\u001b[39;49m(detected_features\u001b[39m.\u001b[39;49mitems(), key\u001b[39m=\u001b[39;49m\u001b[39mlambda\u001b[39;49;00m item: item[\u001b[39m1\u001b[39;49m]\u001b[39m.\u001b[39;49mstart())}\n",
      "\u001b[1;32m/home/simone/PoliTO/NewZeland/Analysis.ipynb Cell 10\u001b[0m line \u001b[0;36m9\n\u001b[1;32m      <a href='vscode-notebook-cell://wsl%2Bubuntu-20.04/home/simone/PoliTO/NewZeland/Analysis.ipynb#X35sdnNjb2RlLXJlbW90ZQ%3D%3D?line=6'>7</a>\u001b[0m detected_features \u001b[39m=\u001b[39m {feat: re\u001b[39m.\u001b[39msearch(feat, features_text) \u001b[39mfor\u001b[39;00m feat \u001b[39min\u001b[39;00m feature\u001b[39m.\u001b[39mindex \u001b[39mif\u001b[39;00m feature[feat] \u001b[39m!=\u001b[39m \u001b[39m'\u001b[39m\u001b[39m'\u001b[39m}\n\u001b[1;32m      <a href='vscode-notebook-cell://wsl%2Bubuntu-20.04/home/simone/PoliTO/NewZeland/Analysis.ipynb#X35sdnNjb2RlLXJlbW90ZQ%3D%3D?line=7'>8</a>\u001b[0m \u001b[39m# sort the features by the starting position in the text\u001b[39;00m\n\u001b[0;32m----> <a href='vscode-notebook-cell://wsl%2Bubuntu-20.04/home/simone/PoliTO/NewZeland/Analysis.ipynb#X35sdnNjb2RlLXJlbW90ZQ%3D%3D?line=8'>9</a>\u001b[0m detected_features \u001b[39m=\u001b[39m {k: v \u001b[39mfor\u001b[39;00m k, v \u001b[39min\u001b[39;00m \u001b[39msorted\u001b[39m(detected_features\u001b[39m.\u001b[39mitems(), key\u001b[39m=\u001b[39m\u001b[39mlambda\u001b[39;00m item: item[\u001b[39m1\u001b[39;49m]\u001b[39m.\u001b[39;49mstart())}\n",
      "\u001b[0;31mAttributeError\u001b[0m: 'NoneType' object has no attribute 'start'"
     ]
    }
   ],
   "source": [
    "for species_name, feature in processed_features.iterrows():\n",
    "\tfeatures_text = species.loc[species_name, 'Features']\n",
    "\tif features_text == '': continue\n",
    "\t\n",
    "\t# write the text with the highlighted words\n",
    "\t# detected_features = dictionary assigning each feature the position (start, end) in the text, if present\n",
    "\tdetected_features = {feat: re.search(feat, features_text) for feat in feature.index if feature[feat]}\n",
    "\t# sort the features by the starting position in the text\n",
    "\tdetected_features = {k: v for k, v in sorted(detected_features.items(), key=lambda item: item[1].start())}"
   ]
  },
  {
   "cell_type": "markdown",
   "metadata": {},
   "source": [
    "Diminutive, tufted, stoloniferous, glabrescent to glabrous, brownish green perennial grass, up to -250 mm tall, culms overtopping leaves; branching extravaginal; leaf-blades persistent. Leaf-sheath membranous, glabrous, ribbed, keeled. Ligule 0.5-1.5 mm, entire, tapered, glabrous throughout. Leaf-blade 10-35 × 1-2 mm, flat or folded, subcoriaceous, smooth, but midrib scabrid near curved tip; margins finely scabrid. Culm 30-200 mm, very slender, erect or geniculate at base, internodes glabrous. Panicle 10-30, ± open or contracted, with few, ovate spikelets; rachis, branches and pedicels slender with sparse, scattered prickle-teeth. Spikelets 2.0-3.5 mm, 2-3-flowered, light green, tinged purple. Glumes unequal, submembranous with hyaline margins, a few prickle-teeth on midnerve near tip; lower 1.5-2 mm, 1-nerved, narrow-lanceolate, acute, upper 2.0-2.5 mm, (1-)3-nerved, elliptic-oblong, subobtuse to obtuse. Lemma 2.0-2.5 mm, 5-nerved, elliptic-ovate, obtuse, glabrous, but midnerve with short crinkled hairs to c.½ length and sparsely prickle-toothed near tip, lateral nerves with a few hairs near base. Palea 1.5-1.8 mm, keels minutely scabrid, interkeel glabrous. Callus with a few wispy hairs. Rachilla c.0.5 mm, glabrous. Lodicules c.0.1 mm. Anthers 0.3-0.4 mm. Ovary 0.4-0.5 mm; stigma-styles 0.8-1 mm. Seeds c.1.0 × 0.5 mm\n"
   ]
  },
  {
   "cell_type": "code",
   "execution_count": 50,
   "metadata": {},
   "outputs": [
    {
     "data": {
      "text/html": [
       "<div>\n",
       "<style scoped>\n",
       "    .dataframe tbody tr th:only-of-type {\n",
       "        vertical-align: middle;\n",
       "    }\n",
       "\n",
       "    .dataframe tbody tr th {\n",
       "        vertical-align: top;\n",
       "    }\n",
       "\n",
       "    .dataframe thead th {\n",
       "        text-align: right;\n",
       "    }\n",
       "</style>\n",
       "<table border=\"1\" class=\"dataframe\">\n",
       "  <thead>\n",
       "    <tr style=\"text-align: right;\">\n",
       "      <th></th>\n",
       "      <th>SeedSize</th>\n",
       "    </tr>\n",
       "    <tr>\n",
       "      <th>SpeciesName</th>\n",
       "      <th></th>\n",
       "    </tr>\n",
       "  </thead>\n",
       "  <tbody>\n",
       "    <tr>\n",
       "      <th>cardamine-bilobata</th>\n",
       "      <td>1mm</td>\n",
       "    </tr>\n",
       "  </tbody>\n",
       "</table>\n",
       "</div>"
      ],
      "text/plain": [
       "                   SeedSize\n",
       "SpeciesName                \n",
       "cardamine-bilobata      1mm"
      ]
     },
     "execution_count": 50,
     "metadata": {},
     "output_type": "execute_result"
    }
   ],
   "source": [
    "species[species.Features.str.contains('petalled')].Features.str.replace('\\xa0', '').str.replace('×', 'x').str.replace('|'.join(words_to_remove), '', regex=True).str.split(r'(?<!\\sc)[.;]\\s').iloc[:1].apply(extract_features)"
   ]
  },
  {
   "cell_type": "code",
   "execution_count": 29,
   "metadata": {},
   "outputs": [
    {
     "data": {
      "text/plain": [
       "Gender\n",
       "{male}                   291\n",
       "{hermaphrodite}           60\n",
       "{hermaphrodite, male}     37\n",
       "{hermaphroditic}           1\n",
       "Name: count, dtype: int64"
      ]
     },
     "execution_count": 29,
     "metadata": {},
     "output_type": "execute_result"
    }
   ],
   "source": [
    "features[features.Gender.notna()].Gender.value_counts()"
   ]
  },
  {
   "cell_type": "code",
   "execution_count": 30,
   "metadata": {},
   "outputs": [],
   "source": [
    "features.join(species.Features).to_excel('features.xlsx')"
   ]
  },
  {
   "cell_type": "code",
   "execution_count": null,
   "metadata": {},
   "outputs": [
    {
     "name": "stdout",
     "output_type": "stream",
     "text": [
      "Monoecious small tree up to 10 m tall\n",
      "Stature ['tall', 'up to'] 10m\n",
      "Leaf_Size ['leaves'] 10-30mm x 10-20mm\n",
      "Leaf_Size ['leaves'] 40-60mm x 20-30mm\n",
      "Petiole_Size ['petiole', 'petioles c.', 'petioles'] 10mm\n",
      "Flower_PedicelSize ['pedicels'] 10mm\n",
      "Inflorescence_Size ['panicle', 'panicles'] 50 x 50mm\n",
      "Flower_Size ['flower', 'flowers'] 50 x 50mm\n",
      "Flower_LobesSize ['lobes'] 50 x 50mm\n",
      "Flower_PetalSize ['petal'] 50 x 50mm\n",
      "Fruit_Size ['capsule', 'fruit'] 4-6mm\n",
      "Fruit_Size ['capsule'] 1-2mm\n",
      "Seed_Size ['seed'] 1-2mm\n"
     ]
    },
    {
     "data": {
      "text/plain": [
       "{'Stature': '10m',\n",
       " 'Leaf_Size': '10-30mm x 10-20mm; 40-60mm x 20-30mm',\n",
       " 'Petiole_Size': '10mm',\n",
       " 'Flower_PedicelSize': '10mm',\n",
       " 'Inflorescence_Size': '50 x 50mm',\n",
       " 'Flower_Size': '50 x 50mm',\n",
       " 'Flower_LobesSize': '50 x 50mm',\n",
       " 'Flower_PetalSize': '50 x 50mm',\n",
       " 'Fruit_Size': '4-6mm; 1-2mm',\n",
       " 'Seed_Size': '1-2mm'}"
      ]
     },
     "metadata": {},
     "output_type": "display_data"
    }
   ],
   "source": [
    "print(species[species.index.str.startswith('carpodetus')].Features.str.split(r'(?<!\\sc)[.]\\s').values[0][0])\n",
    "species[species.index.str.startswith('carpodetus')].Features\\\n",
    "\t.str.replace('\\xa0', '').str.replace('×', 'x')\\\n",
    "\t.str.split(r'(?<!\\sc)[.]\\s').apply(extract_features).values[0]\n"
   ]
  },
  {
   "cell_type": "code",
   "execution_count": 74,
   "metadata": {},
   "outputs": [
    {
     "data": {
      "text/plain": [
       "['Monoecious small tree up to 10m tall',\n",
       " 'Trunk slender, bark rough, corky, mottled grey-white, often knobbled due to insect boring',\n",
       " 'Juvenile plants with distinctive zig-zag branching which is retained to a lesser degree in branchlets of adult',\n",
       " 'Leaves broad-elliptic to broad-ovate or suborbicular; dark green, marbled; membranous becoming thinly coriaceous; margin serrately toothed; tip acute to obtuse',\n",
       " 'Juvenile leaves 10-30mm x 10-20mm',\n",
       " 'Adult leaves 40-60mm x 20-30mm',\n",
       " 'Petioles c. 10mm; petioles, peduncles and pedicels pubescent; lenticels prominent',\n",
       " 'Flowers in panicles at branchlet tips; panicles to 50 x 50mm; flowers 5-6mm diam.; calyx lobes c. 1mm long, triangular-attenuate; petals white, ovate, acute, 3-4mm long',\n",
       " 'Stamens 5-6, alternating with petals; filaments short',\n",
       " 'Stigma capitate, tip dark; ovules many',\n",
       " 'Fruit an indehiscent subfleshy-fleshy capsule, 4-6mm diam., black when mature; cupped in remains of calyx',\n",
       " 'Seeds many per capsule, in 3-5 locules, small, 1-2mm long; testa reticulate.']"
      ]
     },
     "execution_count": 74,
     "metadata": {},
     "output_type": "execute_result"
    }
   ],
   "source": [
    "species[species.index.str.startswith('carpodetus')].Features\\\n",
    "\t.str.replace('\\xa0', '').str.replace('×', 'x').str.split(r'(?<!\\sc)[.]\\s').values[0]"
   ]
  },
  {
   "cell_type": "code",
   "execution_count": 5,
   "metadata": {},
   "outputs": [
    {
     "name": "stdout",
     "output_type": "stream",
     "text": [
      "['Monoecious small tree up to 10\\xa0m tall', 'Trunk slender, bark rough, corky, mottled grey-white, often knobbled due to insect boring', 'Juvenile plants with distinctive zig-zag branching which is retained to a lesser degree in branchlets of adult', 'Leaves broad-elliptic to broad-ovate or suborbicular; dark green, marbled; membranous becoming thinly coriaceous; margin serrately toothed; tip acute to obtuse', 'Juvenile leaves 10-30\\xa0mm x 10-20\\xa0mm', 'Adult leaves 40-60\\xa0mm x 20-30mm', 'Petioles c', '10\\xa0mm; petioles, peduncles and pedicels pubescent; lenticels prominent', 'Flowers in panicles at branchlet tips; panicles to 50 x 50\\xa0mm; flowers 5-6\\xa0mm diam.; calyx lobes c', '1\\xa0mm long, triangular-attenuate; petals white, ovate, acute, 3-4\\xa0mm long', 'Stamens 5-6, alternating with petals; filaments short', 'Stigma capitate, tip dark; ovules many', 'Fruit an indehiscent subfleshy-fleshy capsule, 4-6\\xa0mm diam., black when mature; cupped in remains of calyx', 'Seeds many per capsule, in 3-5 locules, small, 1-2\\xa0mm long; testa reticulate.']\n"
     ]
    }
   ],
   "source": [
    "print(species[species.SpeciesName.str.startswith('carpodetus')].Features.values[0].split('. '))\n",
    "\n",
    "# features are presented in Features as plain text. They are separated by commas, semicolomns or dots.\n",
    "# The interesting feautures are in the form\n",
    "# <name_feature> (about) <value_feature> <unit_feature> (x <value_feature> <unit_feature>)\n",
    "# e.g. \n",
    "# Flowers in panicles at branchlet tips; panicles to 50 x 50 mm; flowers 5-6 mm diam."
   ]
  },
  {
   "cell_type": "markdown",
   "metadata": {},
   "source": [
    "- Monoecious small tree up to ``10 m`` tall. \n",
    "- Trunk slender, bark rough, corky, mottled grey-white, often knobbled due to insect boring. \n",
    "- Juvenile plants with distinctive zig-zag branching which is retained to a lesser degree in branchlets of adult. \n",
    "- Leaves broad-elliptic to broad-ovate or suborbicular; dark green, marbled; membranous becoming thinly coriaceous; margin serrately toothed; tip acute to obtuse. \n",
    "- Juvenile leaves ``10-30 mm`` x ``10-20 mm``. \n",
    "- Adult leaves ``40-60 mm`` x ``20-30mm``. \n",
    "- Petioles c. ``10 mm``; petioles, peduncles and pedicels pubescent; lenticels prominent. \n",
    "- Flowers in panicles at branchlet tips; panicles to 50 x 50 mm; flowers 5-6 mm diam.; calyx lobes c. 1 mm long, triangular-attenuate; petals white, ovate, acute, 3-4 mm long. \n",
    "- Stamens 5-6, alternating with petals; filaments short. \n",
    "- Stigma capitate, tip dark; ovules many. \n",
    "- Fruit an indehiscent subfleshy-fleshy capsule, 4-6 mm diam., black when mature; cupped in remains of calyx. \n",
    "- Seeds many per capsule, in 3-5 locules, small, 1-2 mm long; testa reticulate."
   ]
  },
  {
   "cell_type": "code",
   "execution_count": 15,
   "metadata": {},
   "outputs": [
    {
     "data": {
      "text/plain": [
       "'Robust tufted plant. Leaves 60–200 × 4–10\\xa0cm., keeled near the sheath, less so in main part of lamina; sheath-base white, with close scales on both surfaces; lamina adaxially silvered green with a metallic sheen, covered with a thin but long-persistent clear pellicle that lifts off in strips from old leaves; abaxial surface with a pale grey satiny indumentum of appressed scales with very little wool, the single main costa on each side of midrib little if at all stronger than midrib and not prominent. Inflorescence large and erect, most parts shaggy with narrow scales at least when young; lower spathes long; racemes numerous, all spathes except the smallest subtending sub-inflorescences of 2–3 or more racemes. Flowers pedicellate and usually well-spaced; male flower pale, tepals to 8 × 2.5–3\\xa0mm., strongly reflexed soon after flower opens; perianth-tube very short, drooping around pedicel and so exposing the base of the pistillode; outer tepals scaly externally; female flower colour not known, tepals more scaly, longer and proportionately narrower than in related species. Ovary 3-locular; style rather well-developed. Fruit about 10 × 10\\xa0mm., subglobose, orange; matured perianth fleshy, the tube retroflexed and much shorter than the persistent, membranous, more or less curled-under tepals.'"
      ]
     },
     "execution_count": 15,
     "metadata": {},
     "output_type": "execute_result"
    }
   ],
   "source": [
    "species.loc[4, 'Features']"
   ]
  },
  {
   "cell_type": "code",
   "execution_count": 13,
   "metadata": {},
   "outputs": [
    {
     "data": {
      "text/plain": [
       "0          NaN\n",
       "1          NaN\n",
       "2        15 × \n",
       "3        8–10 \n",
       "4        about\n",
       "         ...  \n",
       "2009    dioeci\n",
       "2010    shrub \n",
       "2011       NaN\n",
       "2012    prostr\n",
       "2013       NaN\n",
       "Name: Features, Length: 2014, dtype: object"
      ]
     },
     "execution_count": 13,
     "metadata": {},
     "output_type": "execute_result"
    }
   ],
   "source": [
    "species.Features.str.lower().str.split('fruit').str[-1].str[:6]"
   ]
  },
  {
   "cell_type": "markdown",
   "metadata": {},
   "source": [
    "**TODO:**\n",
    "foglie: se non c'è giovane e adulto: inserire lo stesso in entrambi"
   ]
  },
  {
   "cell_type": "markdown",
   "metadata": {},
   "source": [
    "## IDEA\n",
    "\n",
    "- Dataset con valori mancanti\n",
    "- Imputing missing values (dataset per mainland + dataset per isola, ora solo mainland?)\n",
    "- Confronto distribuzioni isola con mainland\n",
    "\n",
    "altrimenti\n",
    "- Metric uncoupling"
   ]
  }
 ],
 "metadata": {
  "kernelspec": {
   "display_name": "base",
   "language": "python",
   "name": "python3"
  },
  "language_info": {
   "codemirror_mode": {
    "name": "ipython",
    "version": 3
   },
   "file_extension": ".py",
   "mimetype": "text/x-python",
   "name": "python",
   "nbconvert_exporter": "python",
   "pygments_lexer": "ipython3",
   "version": "3.10.4"
  }
 },
 "nbformat": 4,
 "nbformat_minor": 2
}
